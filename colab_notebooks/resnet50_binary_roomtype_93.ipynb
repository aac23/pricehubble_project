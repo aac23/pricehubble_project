{
  "nbformat": 4,
  "nbformat_minor": 0,
  "metadata": {
    "colab": {
      "name": "resnet50_binary_roomtype_93.ipynb",
      "version": "0.3.2",
      "provenance": [],
      "collapsed_sections": []
    },
    "language_info": {
      "name": "python",
      "version": "3.6.6",
      "mimetype": "text/x-python",
      "codemirror_mode": {
        "name": "ipython",
        "version": 3
      },
      "pygments_lexer": "ipython3",
      "nbconvert_exporter": "python",
      "file_extension": ".py"
    },
    "kernelspec": {
      "display_name": "Python 3",
      "language": "python",
      "name": "python3"
    }
  },
  "cells": [
    {
      "cell_type": "markdown",
      "metadata": {
        "_uuid": "40733c39647bac5056ba0dada8409d6184fefb68",
        "id": "bH6ytmWAJldX",
        "colab_type": "text"
      },
      "source": [
        "## Transfer Learning with ResNet50 for image classification"
      ]
    },
    {
      "cell_type": "code",
      "metadata": {
        "_uuid": "8f2839f25d086af736a60e9eeb907d3b93b6e0e5",
        "_cell_guid": "b1076dfc-b9ad-4769-8c92-a6c4dae69d19",
        "trusted": true,
        "id": "M6ybAYDfJlda",
        "colab_type": "code",
        "colab": {}
      },
      "source": [
        "import numpy as np\n",
        "import pandas as pd\n",
        "\n",
        "import matplotlib.pyplot as plt\n",
        "%matplotlib inline \n",
        "\n",
        "import cv2\n",
        "\n",
        "import os"
      ],
      "execution_count": 0,
      "outputs": []
    },
    {
      "cell_type": "markdown",
      "metadata": {
        "_cell_guid": "79c7e3d0-c299-4dcb-8224-4455121ee9b0",
        "collapsed": true,
        "_uuid": "d629ff2d2480ee46fbb7e2d37f6b5fab8052498a",
        "trusted": false,
        "id": "w14VOFlDJldd",
        "colab_type": "text"
      },
      "source": [
        "### Global Constants"
      ]
    },
    {
      "cell_type": "code",
      "metadata": {
        "trusted": true,
        "_uuid": "ee0da10690e2848537102cb0c74f9fe19a50431b",
        "id": "5SHhsdXqJldh",
        "colab_type": "code",
        "colab": {}
      },
      "source": [
        "from tensorflow.python.keras.applications import ResNet50\n",
        "from tensorflow.python.keras.models import Sequential\n",
        "from tensorflow.python.keras.layers import Dense, Dropout\n"
      ],
      "execution_count": 0,
      "outputs": []
    },
    {
      "cell_type": "markdown",
      "metadata": {
        "_uuid": "b651539464d36c7443a601e914479f0d2153f435",
        "id": "Z8py5d70Jldk",
        "colab_type": "text"
      },
      "source": [
        "### ResNet50"
      ]
    },
    {
      "cell_type": "code",
      "metadata": {
        "trusted": true,
        "_uuid": "d157dc1311928d1ada13ed2ef4a34c4ea5c0b538",
        "id": "LgB69B65Jlde",
        "colab_type": "code",
        "colab": {}
      },
      "source": [
        "num_classes = 2\n",
        "image_resize = 224\n"
      ],
      "execution_count": 0,
      "outputs": []
    },
    {
      "cell_type": "markdown",
      "metadata": {
        "_uuid": "4ebad39fff164624f5616a83cd8831308431da7d",
        "id": "8buyJjaOJldm",
        "colab_type": "text"
      },
      "source": [
        "### Define Our Transfer Learning Network Model Consisting of 2 Layers"
      ]
    },
    {
      "cell_type": "code",
      "metadata": {
        "trusted": true,
        "_uuid": "0bb4a8eccd70874ef21f0809f478f993fa127fb2",
        "id": "HydgA78ZJldn",
        "colab_type": "code",
        "outputId": "cbc58626-1f7e-41d0-da9b-a2dc5b03798f",
        "colab": {
          "base_uri": "https://localhost:8080/",
          "height": 139
        }
      },
      "source": [
        "# Start a new Keras Sequential model.\n",
        "model = Sequential()\n",
        "\n",
        "# 1st layer\n",
        "model.add(ResNet50(include_top=True, pooling='avg', weights='imagenet'))\n",
        "\n",
        "# Add a dropout-layer which may prevent overfitting.\n",
        "model.add(Dropout(0.5))\n",
        "\n",
        "# Add layer as Dense for 2-class classification\n",
        "model.add(Dense(num_classes, activation='softmax'))\n",
        "\n",
        "# Say not to train first layer (ResNet) model as it is already trained\n",
        "model.layers[0].trainable = False"
      ],
      "execution_count": 0,
      "outputs": [
        {
          "output_type": "stream",
          "text": [
            "WARNING: Logging before flag parsing goes to stderr.\n",
            "W0720 16:12:09.038343 139897031812992 deprecation.py:506] From /usr/local/lib/python3.6/dist-packages/tensorflow/python/ops/init_ops.py:1251: calling VarianceScaling.__init__ (from tensorflow.python.ops.init_ops) with dtype is deprecated and will be removed in a future version.\n",
            "Instructions for updating:\n",
            "Call initializer instance with the dtype argument instead of passing it to the constructor\n"
          ],
          "name": "stderr"
        },
        {
          "output_type": "stream",
          "text": [
            "Downloading data from https://github.com/fchollet/deep-learning-models/releases/download/v0.2/resnet50_weights_tf_dim_ordering_tf_kernels.h5\n",
            "102858752/102853048 [==============================] - 1s 0us/step\n"
          ],
          "name": "stdout"
        }
      ]
    },
    {
      "cell_type": "code",
      "metadata": {
        "trusted": true,
        "_uuid": "b617a28f0f89b272a0aa2af6cf72f2dd642ee052",
        "id": "EEi12x4wJldp",
        "colab_type": "code",
        "outputId": "aa06c6ce-d4cb-445d-b043-f91a406bf75e",
        "colab": {
          "base_uri": "https://localhost:8080/",
          "height": 255
        }
      },
      "source": [
        "model.summary()"
      ],
      "execution_count": 0,
      "outputs": [
        {
          "output_type": "stream",
          "text": [
            "Model: \"sequential\"\n",
            "_________________________________________________________________\n",
            "Layer (type)                 Output Shape              Param #   \n",
            "=================================================================\n",
            "resnet50 (Model)             (None, 1000)              25636712  \n",
            "_________________________________________________________________\n",
            "dropout (Dropout)            (None, 1000)              0         \n",
            "_________________________________________________________________\n",
            "dense (Dense)                (None, 2)                 2002      \n",
            "=================================================================\n",
            "Total params: 25,638,714\n",
            "Trainable params: 2,002\n",
            "Non-trainable params: 25,636,712\n",
            "_________________________________________________________________\n"
          ],
          "name": "stdout"
        }
      ]
    },
    {
      "cell_type": "markdown",
      "metadata": {
        "_uuid": "3587981a5b6b1d6ff8221738d51d78cafb2dd02c",
        "id": "eueHClFNJldr",
        "colab_type": "text"
      },
      "source": [
        "### Compile Our Transfer Learning Model"
      ]
    },
    {
      "cell_type": "code",
      "metadata": {
        "id": "pAoT5JOcVTGO",
        "colab_type": "code",
        "colab": {}
      },
      "source": [
        "num_epochs = 5\n",
        "\n",
        "# These steps value should be proper FACTOR of number of images in train & test\n",
        "batch_size_training = 100\n",
        "batch_size_validation = 40\n"
      ],
      "execution_count": 0,
      "outputs": []
    },
    {
      "cell_type": "code",
      "metadata": {
        "trusted": true,
        "_uuid": "670238611770f43a056332cc06efff44e20ad124",
        "id": "dQRjk42AJlds",
        "colab_type": "code",
        "colab": {}
      },
      "source": [
        "from tensorflow.python.keras import optimizers\n",
        "\n",
        "optimizer = optimizers.Adam()\n",
        "loss = 'categorical_crossentropy'\n",
        "metrics = ['accuracy']"
      ],
      "execution_count": 0,
      "outputs": []
    },
    {
      "cell_type": "code",
      "metadata": {
        "id": "6eKh7vx6COeF",
        "colab_type": "code",
        "colab": {}
      },
      "source": [
        "model.compile(optimizer=optimizer, loss=loss, metrics=metrics)"
      ],
      "execution_count": 0,
      "outputs": []
    },
    {
      "cell_type": "markdown",
      "metadata": {
        "_uuid": "8d003a99fe4ff58b8905c7f6b5286d97a852cb7a",
        "id": "6b5d2fqpJldu",
        "colab_type": "text"
      },
      "source": [
        "### Prepare Keras Data Generators"
      ]
    },
    {
      "cell_type": "code",
      "metadata": {
        "id": "X_vwy5wVLLUr",
        "colab_type": "code",
        "outputId": "a25f63dd-2d96-4dd8-fdf2-65a311baf120",
        "colab": {
          "base_uri": "https://localhost:8080/",
          "height": 122
        }
      },
      "source": [
        "from google.colab import drive\n",
        "drive.mount('/gdrive')"
      ],
      "execution_count": 0,
      "outputs": [
        {
          "output_type": "stream",
          "text": [
            "Go to this URL in a browser: https://accounts.google.com/o/oauth2/auth?client_id=947318989803-6bn6qk8qdgf4n4g3pfee6491hc0brc4i.apps.googleusercontent.com&redirect_uri=urn%3Aietf%3Awg%3Aoauth%3A2.0%3Aoob&scope=email%20https%3A%2F%2Fwww.googleapis.com%2Fauth%2Fdocs.test%20https%3A%2F%2Fwww.googleapis.com%2Fauth%2Fdrive%20https%3A%2F%2Fwww.googleapis.com%2Fauth%2Fdrive.photos.readonly%20https%3A%2F%2Fwww.googleapis.com%2Fauth%2Fpeopleapi.readonly&response_type=code\n",
            "\n",
            "Enter your authorization code:\n",
            "··········\n",
            "Mounted at /gdrive\n"
          ],
          "name": "stdout"
        }
      ]
    },
    {
      "cell_type": "code",
      "metadata": {
        "id": "Ahlg5uB7LUp7",
        "colab_type": "code",
        "colab": {}
      },
      "source": [
        "train_dir = '../gdrive/My Drive/room-testing/train'\n",
        "test_dir = '../gdrive/My Drive/room-testing/test'"
      ],
      "execution_count": 0,
      "outputs": []
    },
    {
      "cell_type": "code",
      "metadata": {
        "trusted": true,
        "_uuid": "ac9ebd909fee81c8c8d9b9fccb6590944d8106eb",
        "id": "X6aiqdl-Jldv",
        "colab_type": "code",
        "outputId": "85ad7568-f416-4318-90c2-e54748eedb07",
        "colab": {
          "base_uri": "https://localhost:8080/",
          "height": 51
        }
      },
      "source": [
        "from keras.applications.resnet50 import preprocess_input\n",
        "from keras.preprocessing.image import ImageDataGenerator\n",
        "\n",
        "image_size = image_resize\n",
        "\n",
        "data_generator = ImageDataGenerator(preprocessing_function=preprocess_input)\n",
        "\n",
        "train_generator = data_generator.flow_from_directory(\n",
        "        directory=train_dir,\n",
        "        target_size=(image_size, image_size),\n",
        "        batch_size=batch_size_training,\n",
        "        class_mode='categorical')\n",
        "\n",
        "validation_generator = data_generator.flow_from_directory(\n",
        "        directory=test_dir,\n",
        "        target_size=(image_size, image_size),\n",
        "        batch_size=batch_size_validation,\n",
        "        class_mode='categorical') \n"
      ],
      "execution_count": 0,
      "outputs": [
        {
          "output_type": "stream",
          "text": [
            "Found 4000 images belonging to 2 classes.\n",
            "Found 800 images belonging to 2 classes.\n"
          ],
          "name": "stdout"
        }
      ]
    },
    {
      "cell_type": "code",
      "metadata": {
        "id": "0ssS2dSdGa1G",
        "colab_type": "code",
        "outputId": "b552fff6-98fe-4c2f-9c1b-7bc47211cfb1",
        "colab": {
          "base_uri": "https://localhost:8080/",
          "height": 34
        }
      },
      "source": [
        "# These steps value should be proper FACTOR of number of images in train & test\n",
        "steps_per_epoch_training = train_generator.n / batch_size_training\n",
        "steps_per_epoch_validation = validation_generator.n / batch_size_validation\n",
        "steps_per_epoch_training"
      ],
      "execution_count": 0,
      "outputs": [
        {
          "output_type": "execute_result",
          "data": {
            "text/plain": [
              "40.0"
            ]
          },
          "metadata": {
            "tags": []
          },
          "execution_count": 18
        }
      ]
    },
    {
      "cell_type": "code",
      "metadata": {
        "trusted": true,
        "_uuid": "5014f91b6aeae661f0bc5db5d546089a07ca5b9d",
        "id": "_kDOOWU5Jldy",
        "colab_type": "code",
        "outputId": "5652aadd-0da7-4a2d-e5c5-39e4702dc149",
        "colab": {
          "base_uri": "https://localhost:8080/",
          "height": 34
        }
      },
      "source": [
        "# Max number of steps that these generator will have opportunity to process their source content\n",
        "# len(train_generator) should be 'no. of available train images / batch_size_training'\n",
        "# len(valid_generator) should be 'no. of available train images / batch_size_validation'\n",
        "(batch_size_training, len(train_dir), batch_size_validation, len(test_dir))\n"
      ],
      "execution_count": 0,
      "outputs": [
        {
          "output_type": "execute_result",
          "data": {
            "text/plain": [
              "(100, 37, 40, 36)"
            ]
          },
          "metadata": {
            "tags": []
          },
          "execution_count": 19
        }
      ]
    },
    {
      "cell_type": "markdown",
      "metadata": {
        "_uuid": "f56e7cf9eae4c86c72468e322e7f00859a2ce9cd",
        "id": "6VDeFhu9Jld1",
        "colab_type": "text"
      },
      "source": [
        "### Train Our Model"
      ]
    },
    {
      "cell_type": "code",
      "metadata": {
        "trusted": true,
        "_uuid": "cf85fe3c0653aa56503b7da058ea8acf445eec6e",
        "id": "Zt2_twH0Jld5",
        "colab_type": "code",
        "outputId": "f2588efa-15fe-472f-f3cb-c7530acc6c2b",
        "colab": {
          "base_uri": "https://localhost:8080/",
          "height": 187
        }
      },
      "source": [
        "fit_history = model.fit_generator(\n",
        "        train_generator,\n",
        "        steps_per_epoch=steps_per_epoch_training,\n",
        "        epochs=num_epochs,\n",
        "        validation_data=validation_generator,\n",
        "        validation_steps=steps_per_epoch_validation,\n",
        ")"
      ],
      "execution_count": 0,
      "outputs": [
        {
          "output_type": "stream",
          "text": [
            "Epoch 1/5\n",
            "40/40 [==============================] - 1492s 37s/step - loss: 0.6913 - acc: 0.6210 - val_loss: 0.6782 - val_acc: 0.7625\n",
            "Epoch 2/5\n",
            "40/40 [==============================] - 1172s 29s/step - loss: 0.6869 - acc: 0.7477 - val_loss: 0.6597 - val_acc: 0.9262\n",
            "Epoch 3/5\n",
            "40/40 [==============================] - 1173s 29s/step - loss: 0.6827 - acc: 0.8060 - val_loss: 0.6417 - val_acc: 0.9362\n",
            "Epoch 4/5\n",
            "40/40 [==============================] - 1173s 29s/step - loss: 0.6784 - acc: 0.8152 - val_loss: 0.6233 - val_acc: 0.9350\n",
            "Epoch 5/5\n",
            "40/40 [==============================] - 1174s 29s/step - loss: 0.6745 - acc: 0.8205 - val_loss: 0.6057 - val_acc: 0.9300\n"
          ],
          "name": "stdout"
        }
      ]
    },
    {
      "cell_type": "code",
      "metadata": {
        "id": "Cpuf-zF7vXFx",
        "colab_type": "code",
        "colab": {}
      },
      "source": [
        "result = model.evaluate_generator(validation_generator, \n",
        "                                  steps=steps_per_epoch_validation)"
      ],
      "execution_count": 0,
      "outputs": []
    },
    {
      "cell_type": "code",
      "metadata": {
        "id": "woHH05HfvYTQ",
        "colab_type": "code",
        "outputId": "20a587f3-c37e-4116-fa78-b41423dc5b52",
        "colab": {
          "base_uri": "https://localhost:8080/",
          "height": 34
        }
      },
      "source": [
        "print(\"Test-set classification accuracy: {0:.2%}\".format(result[1]))"
      ],
      "execution_count": 0,
      "outputs": [
        {
          "output_type": "stream",
          "text": [
            "Test-set classification accuracy: 93.00%\n"
          ],
          "name": "stdout"
        }
      ]
    },
    {
      "cell_type": "code",
      "metadata": {
        "trusted": true,
        "_uuid": "00e51568f7e6022c6738c0e1a41080bc7152c257",
        "id": "qiEzbO5-Jld9",
        "colab_type": "code",
        "outputId": "5c200191-e91e-4a42-bdf1-f05e21fdcba3",
        "colab": {
          "base_uri": "https://localhost:8080/",
          "height": 276
        }
      },
      "source": [
        "plt.figure(1, figsize = (15,8)) \n",
        "    \n",
        "plt.subplot(221)  \n",
        "plt.plot(fit_history.history['acc'])  \n",
        "plt.plot(fit_history.history['val_acc'])  \n",
        "plt.title('model accuracy')  \n",
        "plt.ylabel('accuracy')  \n",
        "plt.xlabel('epoch')  \n",
        "plt.legend(['train', 'valid']) \n",
        "    \n",
        "plt.subplot(222)  \n",
        "plt.plot(fit_history.history['loss'])  \n",
        "plt.plot(fit_history.history['val_loss'])  \n",
        "plt.title('model loss')  \n",
        "plt.ylabel('loss')  \n",
        "plt.xlabel('epoch')  \n",
        "plt.legend(['train', 'valid']) \n",
        "\n",
        "plt.show()"
      ],
      "execution_count": 0,
      "outputs": [
        {
          "output_type": "display_data",
          "data": {
            "image/png": "[encoded data removed]",
            "text/plain": [
              "<Figure size 1080x576 with 2 Axes>"
            ]
          },
          "metadata": {
            "tags": []
          }
        }
      ]
    },
    {
      "cell_type": "code",
      "metadata": {
        "id": "R1mJDmB90MtS",
        "colab_type": "code",
        "colab": {}
      },
      "source": [
        "'''import tensorflow as tf\n",
        "\n",
        "saving_model = tf.keras.models.save_model(\n",
        "   model,\n",
        "   '/gdrive/My Drive/Colab Notebooks/resnet_room_total_4.h5py',\n",
        "   overwrite=True,\n",
        "   include_optimizer=True,\n",
        "   save_format=None\n",
        ")'''"
      ],
      "execution_count": 0,
      "outputs": []
    }
  ]
}