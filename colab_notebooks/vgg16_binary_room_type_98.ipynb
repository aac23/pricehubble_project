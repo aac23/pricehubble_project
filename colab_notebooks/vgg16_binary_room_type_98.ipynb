{
  "nbformat": 4,
  "nbformat_minor": 0,
  "metadata": {
    "colab": {
      "name": "vgg16_binary_room-type-98",
      "version": "0.3.2",
      "provenance": [],
      "collapsed_sections": [
        "kF3FyiXfIZ_C"
      ]
    },
    "language_info": {
      "codemirror_mode": {
        "name": "ipython",
        "version": 3
      },
      "file_extension": ".py",
      "mimetype": "text/x-python",
      "name": "python",
      "nbconvert_exporter": "python",
      "pygments_lexer": "ipython3",
      "version": "3.6.1"
    },
    "kernelspec": {
      "name": "python3",
      "display_name": "Python 3"
    },
    "accelerator": "GPU"
  },
  "cells": [
    {
      "cell_type": "markdown",
      "metadata": {
        "id": "7vAvBpHaIZ9k",
        "colab_type": "text"
      },
      "source": [
        "## Imports"
      ]
    },
    {
      "cell_type": "code",
      "metadata": {
        "id": "xYc2AzioIZ9l",
        "colab_type": "code",
        "colab": {}
      },
      "source": [
        "%matplotlib inline\n",
        "import matplotlib.pyplot as plt\n",
        "import PIL\n",
        "import tensorflow as tf\n",
        "import numpy as np\n",
        "import os\n",
        "import seaborn as sns\n",
        "import cv2\n"
      ],
      "execution_count": 0,
      "outputs": []
    },
    {
      "cell_type": "code",
      "metadata": {
        "id": "30l00Fj2IZ9r",
        "colab_type": "code",
        "colab": {}
      },
      "source": [
        "from __future__ import absolute_import, division, print_function, unicode_literals\n",
        "\n",
        "#!pip install -q tensorflow-gpu==2.0.0-beta1\n"
      ],
      "execution_count": 0,
      "outputs": []
    },
    {
      "cell_type": "code",
      "metadata": {
        "id": "QjmHM6yABT_B",
        "colab_type": "code",
        "colab": {}
      },
      "source": [
        "# import tensorflow as tf\n",
        "\n",
        "from tensorflow.keras.models import Model, Sequential\n",
        "from tensorflow.keras.layers import Dense, Flatten, Dropout\n",
        "from tensorflow.keras.applications import VGG16\n",
        "from tensorflow.keras.applications.vgg16 import preprocess_input, decode_predictions\n",
        "from tensorflow.keras.preprocessing.image import ImageDataGenerator\n",
        "from tensorflow.keras.optimizers import Adam, RMSprop\n"
      ],
      "execution_count": 0,
      "outputs": []
    },
    {
      "cell_type": "code",
      "metadata": {
        "scrolled": true,
        "id": "4BMro4AnIZ9v",
        "colab_type": "code",
        "outputId": "69f85595-0c9c-414c-ff74-776dd61841fa",
        "colab": {
          "base_uri": "https://localhost:8080/",
          "height": 34
        }
      },
      "source": [
        "tf.__version__"
      ],
      "execution_count": 0,
      "outputs": [
        {
          "output_type": "execute_result",
          "data": {
            "text/plain": [
              "'1.14.0'"
            ]
          },
          "metadata": {
            "tags": []
          },
          "execution_count": 111
        }
      ]
    },
    {
      "cell_type": "markdown",
      "metadata": {
        "id": "UOsp4jFAIZ9y",
        "colab_type": "text"
      },
      "source": [
        "## Helper Functions"
      ]
    },
    {
      "cell_type": "markdown",
      "metadata": {
        "id": "a07qln00IZ9z",
        "colab_type": "text"
      },
      "source": [
        "### Helper-function for joining a directory and list of filenames."
      ]
    },
    {
      "cell_type": "code",
      "metadata": {
        "id": "zodgrI3gIZ90",
        "colab_type": "code",
        "colab": {}
      },
      "source": [
        "def path_join(dirname, filenames):\n",
        "    return [os.path.join(dirname, filename) for filename in filenames]"
      ],
      "execution_count": 0,
      "outputs": []
    },
    {
      "cell_type": "markdown",
      "metadata": {
        "id": "b1WKpzwwIZ92",
        "colab_type": "text"
      },
      "source": [
        "### Helper-function for plotting images"
      ]
    },
    {
      "cell_type": "markdown",
      "metadata": {
        "id": "ODdh9qxXIZ93",
        "colab_type": "text"
      },
      "source": [
        "Function used to plot at most 9 images in a 3x3 grid, and writing the true and predicted classes below each image."
      ]
    },
    {
      "cell_type": "code",
      "metadata": {
        "id": "Y5SupNVwIZ94",
        "colab_type": "code",
        "colab": {}
      },
      "source": [
        "def plot_images(images, cls_true, cls_pred=None, smooth=True):\n",
        "\n",
        "    assert len(images) == len(cls_true)\n",
        "\n",
        "    # Create figure with sub-plots.\n",
        "    fig, axes = plt.subplots(3, 3)\n",
        "\n",
        "    # Adjust vertical spacing.\n",
        "    if cls_pred is None:\n",
        "        hspace = 0.3\n",
        "    else:\n",
        "        hspace = 0.6\n",
        "    fig.subplots_adjust(hspace=hspace, wspace=0.3)\n",
        "\n",
        "    # Interpolation type.\n",
        "    if smooth:\n",
        "        interpolation = 'spline16'\n",
        "    else:\n",
        "        interpolation = 'nearest'\n",
        "\n",
        "    for i, ax in enumerate(axes.flat):\n",
        "        # There may be less than 9 images, ensure it doesn't crash.\n",
        "        if i < len(images):\n",
        "            # Plot image.\n",
        "            ax.imshow(images[i],\n",
        "                      interpolation=interpolation)\n",
        "\n",
        "            # Name of the true class.\n",
        "            cls_true_name = class_names[cls_true[i]]\n",
        "\n",
        "            # Show true and predicted classes.\n",
        "            if cls_pred is None:\n",
        "                xlabel = \"True: {0}\".format(cls_true_name)\n",
        "            else:\n",
        "                # Name of the predicted class.\n",
        "                cls_pred_name = class_names[cls_pred[i]]\n",
        "\n",
        "                xlabel = \"True: {0}\\nPred: {1}\".format(cls_true_name, cls_pred_name)\n",
        "\n",
        "            # Show the classes as the label on the x-axis.\n",
        "            ax.set_xlabel(xlabel)\n",
        "        \n",
        "        # Remove ticks from the plot.\n",
        "        ax.set_xticks([])\n",
        "        ax.set_yticks([])\n",
        "    \n",
        "    plt.show()"
      ],
      "execution_count": 0,
      "outputs": []
    },
    {
      "cell_type": "markdown",
      "metadata": {
        "id": "valpX-yeIZ96",
        "colab_type": "text"
      },
      "source": [
        "### Helper-function for printing confusion matrix"
      ]
    },
    {
      "cell_type": "code",
      "metadata": {
        "colab_type": "code",
        "id": "kGpG6e9Ity2s",
        "colab": {}
      },
      "source": [
        "# Import a function from sklearn to calculate the confusion-matrix.\n",
        "from sklearn.metrics import confusion_matrix\n",
        "\n",
        "def print_confusion_matrix(cls_pred):\n",
        "    \n",
        "    cm = confusion_matrix(y_true=cls_test,\n",
        "                          y_pred=cls_pred)\n",
        "\n",
        "    print(\"Confusion matrix:\")\n",
        "    print(cm)\n",
        "        \n",
        "    ax = plt.subplot()\n",
        "    sns.heatmap(cm, annot=True, fmt=\".0f\", cmap='Blues', ax=ax);\n",
        "    ax.xaxis.set_ticklabels(['Bathrooms', 'Kitchens']); \n",
        "    ax.yaxis.set_ticklabels(['Bathrooms', 'Kitchens']);\n",
        "    ax.set_xlabel('Predicted Labels');\n",
        "    ax.set_ylabel('True Labels'); \n",
        "    ax.set_title('Confusion Matrix'); \n",
        "    \n",
        "    # Print the class-names for easy reference.\n",
        "    for i, class_name in enumerate(class_names):\n",
        "        print(\"({0}) {1}\".format(i, class_name))\n",
        "        "
      ],
      "execution_count": 0,
      "outputs": []
    },
    {
      "cell_type": "markdown",
      "metadata": {
        "id": "nLikPKonIZ99",
        "colab_type": "text"
      },
      "source": [
        "### Helper-function for plotting example errors\n",
        "\n",
        "Function for plotting examples of images from the test-set that have been mis-classified."
      ]
    },
    {
      "cell_type": "code",
      "metadata": {
        "id": "AfQ-cclMIZ9-",
        "colab_type": "code",
        "colab": {}
      },
      "source": [
        "def plot_example_errors(cls_pred):\n",
        "\n",
        "    # Boolean array whether the predicted class is incorrect.\n",
        "    incorrect = (cls_pred != cls_test)\n",
        "\n",
        "    # Get the file-paths for images that were incorrectly classified.\n",
        "    image_paths = np.array(image_paths_test)[incorrect]\n",
        "\n",
        "    # Load the first 9 images.\n",
        "    images = load_images(image_paths=image_paths[0:9])\n",
        "    \n",
        "    # Get the predicted classes for those images.\n",
        "    cls_pred = cls_pred[incorrect]\n",
        "\n",
        "    # Get the true classes for those images.\n",
        "    cls_true = cls_test[incorrect]\n",
        "    \n",
        "    # Plot the 9 images we have loaded and their corresponding classes.\n",
        "    # We have only loaded 9 images so there is no need to slice those again.\n",
        "    plot_images(images=images,\n",
        "                cls_true=cls_true[0:9],\n",
        "                cls_pred=cls_pred[0:9])"
      ],
      "execution_count": 0,
      "outputs": []
    },
    {
      "cell_type": "markdown",
      "metadata": {
        "id": "l2K5bccdIZ-C",
        "colab_type": "text"
      },
      "source": [
        "Function for calculating the predicted classes of the entire test-set and calling the above function to plot a few examples of mis-classified images."
      ]
    },
    {
      "cell_type": "code",
      "metadata": {
        "id": "yjxG_RHgcMPe",
        "colab_type": "code",
        "colab": {}
      },
      "source": [
        "def example_errors():\n",
        "    generator_test.reset()\n",
        "    \n",
        "    # Predict the classes for all images in the test-set.\n",
        "    y_pred = new_model.predict_generator(generator_test,\n",
        "                                         steps=steps_test)\n",
        "\n",
        "    # Convert the predicted classes from arrays to integers.\n",
        "    cls_pred = np.argmax(y_pred, axis=1) #np.array([1 if pred >= 0.5 else 0 for pred in y_pred])\n",
        "\n",
        "    # Plot examples of mis-classified images.\n",
        "    plot_example_errors(cls_pred)\n",
        "    \n",
        "    # Print the confusion matrix.\n",
        "    print_confusion_matrix(cls_pred)"
      ],
      "execution_count": 0,
      "outputs": []
    },
    {
      "cell_type": "markdown",
      "metadata": {
        "id": "FyDjbOe5IZ-F",
        "colab_type": "text"
      },
      "source": [
        "### Helper-function for loading images"
      ]
    },
    {
      "cell_type": "code",
      "metadata": {
        "id": "ssQxlNkuIZ-F",
        "colab_type": "code",
        "colab": {}
      },
      "source": [
        "def load_images(image_paths):\n",
        "    # Load the images from disk.\n",
        "    images = [plt.imread(path) for path in image_paths]\n",
        "\n",
        "    # Convert to a numpy array and return it.\n",
        "    return np.asarray(images)"
      ],
      "execution_count": 0,
      "outputs": []
    },
    {
      "cell_type": "markdown",
      "metadata": {
        "id": "Iq0iPhv2IZ-H",
        "colab_type": "text"
      },
      "source": [
        "### Helper-function for plotting training history\n",
        "\n",
        "This plots the classification accuracy and loss-values."
      ]
    },
    {
      "cell_type": "code",
      "metadata": {
        "id": "OG2hucLGIZ-I",
        "colab_type": "code",
        "colab": {}
      },
      "source": [
        "def plot_training_history(history):\n",
        "  \n",
        "    acc = history.history['acc']\n",
        "    loss = history.history['loss']\n",
        "\n",
        "    val_acc = history.history['acc']\n",
        "    val_loss = history.history['val_loss']\n",
        "\n",
        "    # Plot the accuracy and loss-values for the training-set.\n",
        "    plt.plot(acc, linestyle='-', color='b', label='Training Acc.')\n",
        "    plt.plot(loss, 'o', color='b', label='Training Loss')\n",
        "    \n",
        "    # Plot it for the test-set.\n",
        "    plt.plot(val_acc, linestyle='--', color='r', label='Test Acc.')\n",
        "    plt.plot(val_loss, 'o', color='r', label='Test Loss')\n",
        "\n",
        "    plt.title('Training and Test Accuracy')\n",
        "    plt.legend()\n",
        "    plt.show()"
      ],
      "execution_count": 0,
      "outputs": []
    },
    {
      "cell_type": "markdown",
      "metadata": {
        "id": "tNpgMPlDIZ-J",
        "colab_type": "text"
      },
      "source": [
        "## PriceHubble Dataset\n"
      ]
    },
    {
      "cell_type": "markdown",
      "metadata": {
        "id": "MytcxWABDOsp",
        "colab_type": "text"
      },
      "source": [
        "Connect Colab with Google drive:"
      ]
    },
    {
      "cell_type": "code",
      "metadata": {
        "id": "wASZcywaT3W2",
        "colab_type": "code",
        "outputId": "29f55d8f-2420-4b51-9fa9-cd4ba9ab0dee",
        "colab": {
          "base_uri": "https://localhost:8080/",
          "height": 122
        }
      },
      "source": [
        "from google.colab import drive\n",
        "drive.mount('/gdrive')\n"
      ],
      "execution_count": 0,
      "outputs": [
        {
          "output_type": "stream",
          "text": [
            "Go to this URL in a browser: https://accounts.google.com/o/oauth2/auth?client_id=947318989803-6bn6qk8qdgf4n4g3pfee6491hc0brc4i.apps.googleusercontent.com&redirect_uri=urn%3Aietf%3Awg%3Aoauth%3A2.0%3Aoob&scope=email%20https%3A%2F%2Fwww.googleapis.com%2Fauth%2Fdocs.test%20https%3A%2F%2Fwww.googleapis.com%2Fauth%2Fdrive%20https%3A%2F%2Fwww.googleapis.com%2Fauth%2Fdrive.photos.readonly%20https%3A%2F%2Fwww.googleapis.com%2Fauth%2Fpeopleapi.readonly&response_type=code\n",
            "\n",
            "Enter your authorization code:\n",
            "··········\n",
            "Mounted at /gdrive\n"
          ],
          "name": "stdout"
        }
      ]
    },
    {
      "cell_type": "code",
      "metadata": {
        "id": "2ZeKatU5IZ-T",
        "colab_type": "code",
        "colab": {}
      },
      "source": [
        "train_dir = '../gdrive/My Drive/room-testing/train'\n",
        "test_dir = '../gdrive/My Drive/room-testing/test'"
      ],
      "execution_count": 0,
      "outputs": []
    },
    {
      "cell_type": "markdown",
      "metadata": {
        "id": "BOi5oX4iIZ-W",
        "colab_type": "text"
      },
      "source": [
        "## Pre-Trained Model: VGG16\n",
        "\n",
        "The following creates an instance of the pre-trained VGG16 model using the Keras API.\n",
        "\n",
        "The VGG16 model contains a convolutional part and a fully-connected (or dense) part which is used for classification. If `include_top=True` then the whole VGG16 model is downloaded. If `include_top=False` then only the convolutional part of the VGG16."
      ]
    },
    {
      "cell_type": "code",
      "metadata": {
        "scrolled": true,
        "id": "TwJHUPkgIZ-X",
        "colab_type": "code",
        "outputId": "79af5d08-4072-4cb6-82de-79d3cbc4a0a4",
        "colab": {
          "base_uri": "https://localhost:8080/",
          "height": 139
        }
      },
      "source": [
        "model = VGG16(include_top=True, weights='imagenet')"
      ],
      "execution_count": 0,
      "outputs": [
        {
          "output_type": "stream",
          "text": [
            "WARNING: Logging before flag parsing goes to stderr.\n",
            "W0726 08:47:17.448542 140409699907456 deprecation.py:506] From /usr/local/lib/python3.6/dist-packages/tensorflow/python/ops/init_ops.py:1251: calling VarianceScaling.__init__ (from tensorflow.python.ops.init_ops) with dtype is deprecated and will be removed in a future version.\n",
            "Instructions for updating:\n",
            "Call initializer instance with the dtype argument instead of passing it to the constructor\n"
          ],
          "name": "stderr"
        },
        {
          "output_type": "stream",
          "text": [
            "Downloading data from https://github.com/fchollet/deep-learning-models/releases/download/v0.1/vgg16_weights_tf_dim_ordering_tf_kernels.h5\n",
            "553467904/553467096 [==============================] - 16s 0us/step\n"
          ],
          "name": "stdout"
        }
      ]
    },
    {
      "cell_type": "markdown",
      "metadata": {
        "id": "BMwQY-XHIZ-a",
        "colab_type": "text"
      },
      "source": [
        "## Input Pipeline\n",
        "\n",
        "The Keras API has its own way of creating the input pipeline for training a model using files.\n",
        "\n",
        "The shape of the tensors expected as input by the pre-trained VGG16 model is 224 x 224 x 3."
      ]
    },
    {
      "cell_type": "code",
      "metadata": {
        "id": "sycyG11BIZ-b",
        "colab_type": "code",
        "outputId": "098b69bb-5028-4457-f5e1-589b6c060816",
        "colab": {
          "base_uri": "https://localhost:8080/",
          "height": 34
        }
      },
      "source": [
        "input_shape = model.layers[0].output_shape[0][1:3]\n",
        "input_shape"
      ],
      "execution_count": 0,
      "outputs": [
        {
          "output_type": "execute_result",
          "data": {
            "text/plain": [
              "(224, 224)"
            ]
          },
          "metadata": {
            "tags": []
          },
          "execution_count": 15
        }
      ]
    },
    {
      "cell_type": "markdown",
      "metadata": {
        "id": "2xUZwkaTdh2l",
        "colab_type": "text"
      },
      "source": [
        "Define a data-generator for the training set doing some transformations."
      ]
    },
    {
      "cell_type": "code",
      "metadata": {
        "id": "1irlcBwkIZ-e",
        "colab_type": "code",
        "colab": {}
      },
      "source": [
        "datagen_train = ImageDataGenerator(\n",
        "    horizontal_flip=True,\n",
        "    vertical_flip=True,\n",
        "    width_shift_range=0.1,\n",
        "    height_shift_range=0.1,\n",
        "    brightness_range=[0.5, 1.5],\n",
        "    rescale=1./255)\n",
        "\n",
        "datagen_test = ImageDataGenerator(\n",
        "    rescale=1./255)"
      ],
      "execution_count": 0,
      "outputs": []
    },
    {
      "cell_type": "code",
      "metadata": {
        "id": "Ium2pCL5IZ-i",
        "colab_type": "code",
        "colab": {}
      },
      "source": [
        "batch_size_train = 128\n",
        "batch_size_test = 32"
      ],
      "execution_count": 0,
      "outputs": []
    },
    {
      "cell_type": "markdown",
      "metadata": {
        "id": "HX9roA4gIZ-l",
        "colab_type": "text"
      },
      "source": [
        "Create the actual data-generator that will read files from disk, resize the images and return a random batch.\n"
      ]
    },
    {
      "cell_type": "code",
      "metadata": {
        "scrolled": true,
        "id": "JFTO18RBIZ-m",
        "colab_type": "code",
        "outputId": "f1d541f7-32ef-462c-d1d7-ca88248f62c6",
        "colab": {
          "base_uri": "https://localhost:8080/",
          "height": 34
        }
      },
      "source": [
        "generator_train = datagen_train.flow_from_directory(directory=train_dir,\n",
        "                                                    target_size=input_shape,\n",
        "                                                    batch_size=batch_size_train,\n",
        "                                                    shuffle=True,\n",
        "                                                    class_mode='categorical')\n",
        "                                        "
      ],
      "execution_count": 0,
      "outputs": [
        {
          "output_type": "stream",
          "text": [
            "Found 3968 images belonging to 2 classes.\n"
          ],
          "name": "stdout"
        }
      ]
    },
    {
      "cell_type": "markdown",
      "metadata": {
        "id": "5aCDDA1iIZ-o",
        "colab_type": "text"
      },
      "source": [
        "The data-generator for the test-set should not transform and shuffle the images."
      ]
    },
    {
      "cell_type": "code",
      "metadata": {
        "id": "kY6TIfsfIZ-p",
        "colab_type": "code",
        "outputId": "629c4ec2-f700-4b79-a6a5-06b0e0e5f316",
        "colab": {
          "base_uri": "https://localhost:8080/",
          "height": 34
        }
      },
      "source": [
        "generator_test = datagen_test.flow_from_directory(directory=test_dir,\n",
        "                                                  target_size=input_shape,\n",
        "                                                  batch_size=batch_size_test,\n",
        "                                                  shuffle=False,\n",
        "                                                  class_mode='categorical')"
      ],
      "execution_count": 0,
      "outputs": [
        {
          "output_type": "stream",
          "text": [
            "Found 800 images belonging to 2 classes.\n"
          ],
          "name": "stdout"
        }
      ]
    },
    {
      "cell_type": "markdown",
      "metadata": {
        "id": "esX4Nk3fIZ-s",
        "colab_type": "text"
      },
      "source": [
        "Specify the number of steps to perform during evaluation and prediction on the test-set."
      ]
    },
    {
      "cell_type": "code",
      "metadata": {
        "id": "10JmuU-DIZ-s",
        "colab_type": "code",
        "outputId": "687054e6-2ce9-46b4-feaa-98eb9ed12f61",
        "colab": {
          "base_uri": "https://localhost:8080/",
          "height": 34
        }
      },
      "source": [
        "steps_test = generator_test.n / batch_size_test\n",
        "steps_test"
      ],
      "execution_count": 0,
      "outputs": [
        {
          "output_type": "execute_result",
          "data": {
            "text/plain": [
              "25.0"
            ]
          },
          "metadata": {
            "tags": []
          },
          "execution_count": 20
        }
      ]
    },
    {
      "cell_type": "markdown",
      "metadata": {
        "id": "cxy47L_rIZ-x",
        "colab_type": "text"
      },
      "source": [
        "Get the file-paths for all the images in the training- and test-sets."
      ]
    },
    {
      "cell_type": "code",
      "metadata": {
        "id": "WTQgy8EUIZ-y",
        "colab_type": "code",
        "colab": {}
      },
      "source": [
        "image_paths_train = path_join(train_dir, generator_train.filenames)\n",
        "image_paths_test = path_join(test_dir, generator_test.filenames)"
      ],
      "execution_count": 0,
      "outputs": []
    },
    {
      "cell_type": "markdown",
      "metadata": {
        "id": "Rgj6iwskIZ-z",
        "colab_type": "text"
      },
      "source": [
        "Get the class-numbers for all the images in the training- and test-sets."
      ]
    },
    {
      "cell_type": "code",
      "metadata": {
        "id": "uUv-hCnRIZ-0",
        "colab_type": "code",
        "colab": {}
      },
      "source": [
        "cls_train = generator_train.classes\n",
        "cls_test = generator_test.classes"
      ],
      "execution_count": 0,
      "outputs": []
    },
    {
      "cell_type": "markdown",
      "metadata": {
        "id": "4--KaDTPIZ-4",
        "colab_type": "text"
      },
      "source": [
        "Get the class-names for the dataset."
      ]
    },
    {
      "cell_type": "code",
      "metadata": {
        "id": "FLixXHZCIZ-4",
        "colab_type": "code",
        "outputId": "13c28342-fc17-452f-a434-00beab964e71",
        "colab": {
          "base_uri": "https://localhost:8080/",
          "height": 34
        }
      },
      "source": [
        "class_names = list(generator_train.class_indices.keys())\n",
        "class_names"
      ],
      "execution_count": 0,
      "outputs": [
        {
          "output_type": "execute_result",
          "data": {
            "text/plain": [
              "['bath', 'kit']"
            ]
          },
          "metadata": {
            "tags": []
          },
          "execution_count": 23
        }
      ]
    },
    {
      "cell_type": "markdown",
      "metadata": {
        "id": "sgTncdlOIZ-7",
        "colab_type": "text"
      },
      "source": [
        "Get the number of classes for the dataset."
      ]
    },
    {
      "cell_type": "code",
      "metadata": {
        "id": "OhLFRgwlIZ-7",
        "colab_type": "code",
        "outputId": "cd131f33-4655-4d53-c927-3c2feaed86c1",
        "colab": {
          "base_uri": "https://localhost:8080/",
          "height": 34
        }
      },
      "source": [
        "num_classes = generator_train.num_classes\n",
        "num_classes"
      ],
      "execution_count": 0,
      "outputs": [
        {
          "output_type": "execute_result",
          "data": {
            "text/plain": [
              "2"
            ]
          },
          "metadata": {
            "tags": []
          },
          "execution_count": 24
        }
      ]
    },
    {
      "cell_type": "markdown",
      "metadata": {
        "id": "wwB1g44gIZ--",
        "colab_type": "text"
      },
      "source": [
        "### Plot a few images to see if data is correct"
      ]
    },
    {
      "cell_type": "code",
      "metadata": {
        "scrolled": true,
        "id": "vgZYWncMIZ_A",
        "colab_type": "code",
        "outputId": "20f49456-063e-4114-ae23-51cf1aac4340",
        "colab": {
          "base_uri": "https://localhost:8080/",
          "height": 266
        }
      },
      "source": [
        "# Load the first images from the train-set.\n",
        "images = load_images(image_paths=image_paths_train[0:9])\n",
        "\n",
        "# Get the true classes for those images.\n",
        "cls_true = cls_train[0:9]\n",
        "\n",
        "# Plot the images and labels using our helper-function above.\n",
        "plot_images(images=images, cls_true=cls_true, smooth=True)"
      ],
      "execution_count": 0,
      "outputs": [
        {
          "output_type": "display_data",
          "data": {
            "image/png": "[encoded data removed]",
            "text/plain": [
              "<Figure size 432x288 with 9 Axes>"
            ]
          },
          "metadata": {
            "tags": []
          }
        }
      ]
    },
    {
      "cell_type": "markdown",
      "metadata": {
        "id": "kF3FyiXfIZ_C",
        "colab_type": "text"
      },
      "source": [
        "### Class Weights"
      ]
    },
    {
      "cell_type": "code",
      "metadata": {
        "id": "VrvHC_HUIZ_C",
        "colab_type": "code",
        "colab": {}
      },
      "source": [
        "from sklearn.utils.class_weight import compute_class_weight"
      ],
      "execution_count": 0,
      "outputs": []
    },
    {
      "cell_type": "code",
      "metadata": {
        "id": "gONX28EDIZ_E",
        "colab_type": "code",
        "colab": {}
      },
      "source": [
        "class_weight = compute_class_weight(class_weight='balanced',\n",
        "                                    classes=np.unique(cls_train),\n",
        "                                    y=cls_train)"
      ],
      "execution_count": 0,
      "outputs": []
    },
    {
      "cell_type": "code",
      "metadata": {
        "colab_type": "code",
        "id": "Iq8GMMB3mqv_",
        "outputId": "5f2818fd-3a3d-4544-e062-e42de7f066c4",
        "colab": {
          "base_uri": "https://localhost:8080/"
        }
      },
      "source": [
        "class_weight"
      ],
      "execution_count": 0,
      "outputs": [
        {
          "output_type": "execute_result",
          "data": {
            "text/plain": [
              "array([1., 1.])"
            ]
          },
          "metadata": {
            "tags": []
          },
          "execution_count": 28
        }
      ]
    },
    {
      "cell_type": "code",
      "metadata": {
        "id": "e4FBzkHFIZ_M",
        "colab_type": "code",
        "outputId": "6790a9a8-85a8-412e-953a-a383bd5629fe",
        "colab": {
          "base_uri": "https://localhost:8080/"
        }
      },
      "source": [
        "class_names"
      ],
      "execution_count": 0,
      "outputs": [
        {
          "output_type": "execute_result",
          "data": {
            "text/plain": [
              "['simple-kit', 'top-kit']"
            ]
          },
          "metadata": {
            "tags": []
          },
          "execution_count": 29
        }
      ]
    },
    {
      "cell_type": "markdown",
      "metadata": {
        "id": "-BBLRdR7IZ_c",
        "colab_type": "text"
      },
      "source": [
        "## Transfer Learning\n",
        "\n",
        "The lower layers of a Convolutional Neural Network can recognize many different shapes or features in an image. It is the last few fully-connected layers that combine these featuers into classification of a whole image. We can try to re-route the output of the last convolutional layer of the VGG16 model to a new fully-connected neural network that we create for doing classification on the PriceHubble dataset.\n",
        "\n",
        "First we print a summary of the VGG16 model so we can see the names and types of its layers, as well as the shapes of the tensors flowing between the layers."
      ]
    },
    {
      "cell_type": "code",
      "metadata": {
        "scrolled": true,
        "id": "AJa1fKXOIZ_d",
        "colab_type": "code",
        "outputId": "c477487a-50f5-459c-874e-1a446c775411",
        "colab": {
          "base_uri": "https://localhost:8080/",
          "height": 935
        }
      },
      "source": [
        "model.summary()\n"
      ],
      "execution_count": 0,
      "outputs": [
        {
          "output_type": "stream",
          "text": [
            "Model: \"vgg16\"\n",
            "_________________________________________________________________\n",
            "Layer (type)                 Output Shape              Param #   \n",
            "=================================================================\n",
            "input_1 (InputLayer)         [(None, 224, 224, 3)]     0         \n",
            "_________________________________________________________________\n",
            "block1_conv1 (Conv2D)        (None, 224, 224, 64)      1792      \n",
            "_________________________________________________________________\n",
            "block1_conv2 (Conv2D)        (None, 224, 224, 64)      36928     \n",
            "_________________________________________________________________\n",
            "block1_pool (MaxPooling2D)   (None, 112, 112, 64)      0         \n",
            "_________________________________________________________________\n",
            "block2_conv1 (Conv2D)        (None, 112, 112, 128)     73856     \n",
            "_________________________________________________________________\n",
            "block2_conv2 (Conv2D)        (None, 112, 112, 128)     147584    \n",
            "_________________________________________________________________\n",
            "block2_pool (MaxPooling2D)   (None, 56, 56, 128)       0         \n",
            "_________________________________________________________________\n",
            "block3_conv1 (Conv2D)        (None, 56, 56, 256)       295168    \n",
            "_________________________________________________________________\n",
            "block3_conv2 (Conv2D)        (None, 56, 56, 256)       590080    \n",
            "_________________________________________________________________\n",
            "block3_conv3 (Conv2D)        (None, 56, 56, 256)       590080    \n",
            "_________________________________________________________________\n",
            "block3_pool (MaxPooling2D)   (None, 28, 28, 256)       0         \n",
            "_________________________________________________________________\n",
            "block4_conv1 (Conv2D)        (None, 28, 28, 512)       1180160   \n",
            "_________________________________________________________________\n",
            "block4_conv2 (Conv2D)        (None, 28, 28, 512)       2359808   \n",
            "_________________________________________________________________\n",
            "block4_conv3 (Conv2D)        (None, 28, 28, 512)       2359808   \n",
            "_________________________________________________________________\n",
            "block4_pool (MaxPooling2D)   (None, 14, 14, 512)       0         \n",
            "_________________________________________________________________\n",
            "block5_conv1 (Conv2D)        (None, 14, 14, 512)       2359808   \n",
            "_________________________________________________________________\n",
            "block5_conv2 (Conv2D)        (None, 14, 14, 512)       2359808   \n",
            "_________________________________________________________________\n",
            "block5_conv3 (Conv2D)        (None, 14, 14, 512)       2359808   \n",
            "_________________________________________________________________\n",
            "block5_pool (MaxPooling2D)   (None, 7, 7, 512)         0         \n",
            "_________________________________________________________________\n",
            "flatten (Flatten)            (None, 25088)             0         \n",
            "_________________________________________________________________\n",
            "fc1 (Dense)                  (None, 4096)              102764544 \n",
            "_________________________________________________________________\n",
            "fc2 (Dense)                  (None, 4096)              16781312  \n",
            "_________________________________________________________________\n",
            "predictions (Dense)          (None, 1000)              4097000   \n",
            "=================================================================\n",
            "Total params: 138,357,544\n",
            "Trainable params: 138,357,544\n",
            "Non-trainable params: 0\n",
            "_________________________________________________________________\n"
          ],
          "name": "stdout"
        }
      ]
    },
    {
      "cell_type": "markdown",
      "metadata": {
        "id": "z7FDS_v2IZ_i",
        "colab_type": "text"
      },
      "source": [
        "We can see that the last convolutional layer is called 'block5_pool' so we use Keras to get a reference to that layer."
      ]
    },
    {
      "cell_type": "code",
      "metadata": {
        "id": "usrLf7NRIZ_i",
        "colab_type": "code",
        "colab": {}
      },
      "source": [
        "transfer_layer = model.get_layer('block5_pool')"
      ],
      "execution_count": 0,
      "outputs": []
    },
    {
      "cell_type": "code",
      "metadata": {
        "id": "hv1vUjv8IZ_k",
        "colab_type": "code",
        "outputId": "54c90ee7-3393-4f0f-c25e-70cbea379d63",
        "colab": {
          "base_uri": "https://localhost:8080/",
          "height": 34
        }
      },
      "source": [
        "transfer_layer.output"
      ],
      "execution_count": 0,
      "outputs": [
        {
          "output_type": "execute_result",
          "data": {
            "text/plain": [
              "<tf.Tensor 'block5_pool/MaxPool:0' shape=(?, 7, 7, 512) dtype=float32>"
            ]
          },
          "metadata": {
            "tags": []
          },
          "execution_count": 29
        }
      ]
    },
    {
      "cell_type": "markdown",
      "metadata": {
        "id": "ta4yzjiKIZ_l",
        "colab_type": "text"
      },
      "source": [
        "Using the Keras API it is very simple to create a new model. First we take the part of the VGG16 model from its input-layer to the output of the transfer-layer. We may call this the convolutional model, because it consists of all the convolutional layers from the VGG16 model."
      ]
    },
    {
      "cell_type": "code",
      "metadata": {
        "id": "YtHyrmOQIZ_m",
        "colab_type": "code",
        "colab": {}
      },
      "source": [
        "conv_model = Model(inputs=model.input,\n",
        "                   outputs=transfer_layer.output)"
      ],
      "execution_count": 0,
      "outputs": []
    },
    {
      "cell_type": "markdown",
      "metadata": {
        "id": "pSP2oYc8IZ_n",
        "colab_type": "text"
      },
      "source": [
        "We can then use Keras to build a new model on top of this."
      ]
    },
    {
      "cell_type": "code",
      "metadata": {
        "scrolled": true,
        "id": "8H_mMzBOIZ_o",
        "colab_type": "code",
        "colab": {}
      },
      "source": [
        "# Start a new Keras Sequential model.\n",
        "new_model = Sequential()\n",
        "\n",
        "# Add the convolutional part of the VGG16 model from above.\n",
        "new_model.add(conv_model)\n",
        "\n",
        "# Flatten the output of the VGG16 model because it is from a conv layer.\n",
        "new_model.add(Flatten())\n",
        "\n",
        "# Add a dense (fully-connected) layer.\n",
        "# This combines features that the VGG16 model has recognized in the image.\n",
        "new_model.add(Dense(1024, activation='relu'))\n",
        "\n",
        "# Add a dropout-layer which may prevent overfitting.\n",
        "new_model.add(Dropout(0.25))\n",
        "\n",
        "# Add the final layer for the actual classification.\n",
        "new_model.add(Dense(2, activation='softmax'))"
      ],
      "execution_count": 0,
      "outputs": []
    },
    {
      "cell_type": "markdown",
      "metadata": {
        "id": "_69tTmmQIZ_r",
        "colab_type": "text"
      },
      "source": [
        "Chose optimizer.\n",
        "If you train more layers of the original VGG16 model, the learning-rate should be quite low otherwise the pre-trained weights of the VGG16 model will be distorted and it will be unable to learn."
      ]
    },
    {
      "cell_type": "code",
      "metadata": {
        "id": "cBR6PWI4GmpX",
        "colab_type": "code",
        "outputId": "17579a72-ee79-4d30-f84a-8c782390cfb2",
        "colab": {
          "base_uri": "https://localhost:8080/",
          "height": 323
        }
      },
      "source": [
        "new_model.summary()"
      ],
      "execution_count": 0,
      "outputs": [
        {
          "output_type": "stream",
          "text": [
            "Model: \"sequential\"\n",
            "_________________________________________________________________\n",
            "Layer (type)                 Output Shape              Param #   \n",
            "=================================================================\n",
            "model (Model)                (None, 7, 7, 512)         14714688  \n",
            "_________________________________________________________________\n",
            "flatten (Flatten)            (None, 25088)             0         \n",
            "_________________________________________________________________\n",
            "dense (Dense)                (None, 1024)              25691136  \n",
            "_________________________________________________________________\n",
            "dropout (Dropout)            (None, 1024)              0         \n",
            "_________________________________________________________________\n",
            "dense_1 (Dense)              (None, 2)                 2050      \n",
            "=================================================================\n",
            "Total params: 40,407,874\n",
            "Trainable params: 40,407,874\n",
            "Non-trainable params: 0\n",
            "_________________________________________________________________\n"
          ],
          "name": "stdout"
        }
      ]
    },
    {
      "cell_type": "code",
      "metadata": {
        "id": "Z51e2_QEIZ_r",
        "colab_type": "code",
        "colab": {}
      },
      "source": [
        "optimizer = Adam(lr=1e-3)"
      ],
      "execution_count": 0,
      "outputs": []
    },
    {
      "cell_type": "markdown",
      "metadata": {
        "id": "dPzlOSG1IZ_s",
        "colab_type": "text"
      },
      "source": [
        "Chose loss function."
      ]
    },
    {
      "cell_type": "code",
      "metadata": {
        "id": "VgrBZSNuIZ_t",
        "colab_type": "code",
        "colab": {}
      },
      "source": [
        "loss = 'categorical_crossentropy'"
      ],
      "execution_count": 0,
      "outputs": []
    },
    {
      "cell_type": "markdown",
      "metadata": {
        "id": "lKEqe3rAIZ_v",
        "colab_type": "text"
      },
      "source": [
        "Chose performance metric."
      ]
    },
    {
      "cell_type": "code",
      "metadata": {
        "id": "Z-oaGpFdIZ_v",
        "colab_type": "code",
        "colab": {}
      },
      "source": [
        "metrics = ['categorical_accuracy']"
      ],
      "execution_count": 0,
      "outputs": []
    },
    {
      "cell_type": "markdown",
      "metadata": {
        "id": "hxaNJFI9IZ_x",
        "colab_type": "text"
      },
      "source": [
        "Helper-function for printing whether a layer in the VGG16 model should be trained."
      ]
    },
    {
      "cell_type": "code",
      "metadata": {
        "id": "r35zHhj0IZ_y",
        "colab_type": "code",
        "colab": {}
      },
      "source": [
        "def print_layer_trainable():\n",
        "    for layer in conv_model.layers:\n",
        "        print(\"{0}:\\t{1}\".format(layer.trainable, layer.name))"
      ],
      "execution_count": 0,
      "outputs": []
    },
    {
      "cell_type": "markdown",
      "metadata": {
        "id": "SW_YJfMzIZ_0",
        "colab_type": "text"
      },
      "source": [
        "By default all the layers of the VGG16 model are trainable."
      ]
    },
    {
      "cell_type": "code",
      "metadata": {
        "scrolled": true,
        "id": "J4vP5IhOIZ_1",
        "colab_type": "code",
        "outputId": "fcddbb29-60ab-4e86-84e0-7da09025788e",
        "colab": {
          "base_uri": "https://localhost:8080/",
          "height": 340
        }
      },
      "source": [
        "print_layer_trainable()"
      ],
      "execution_count": 0,
      "outputs": [
        {
          "output_type": "stream",
          "text": [
            "True:\tinput_1\n",
            "True:\tblock1_conv1\n",
            "True:\tblock1_conv2\n",
            "True:\tblock1_pool\n",
            "True:\tblock2_conv1\n",
            "True:\tblock2_conv2\n",
            "True:\tblock2_pool\n",
            "True:\tblock3_conv1\n",
            "True:\tblock3_conv2\n",
            "True:\tblock3_conv3\n",
            "True:\tblock3_pool\n",
            "True:\tblock4_conv1\n",
            "True:\tblock4_conv2\n",
            "True:\tblock4_conv3\n",
            "True:\tblock4_pool\n",
            "True:\tblock5_conv1\n",
            "True:\tblock5_conv2\n",
            "True:\tblock5_conv3\n",
            "True:\tblock5_pool\n"
          ],
          "name": "stdout"
        }
      ]
    },
    {
      "cell_type": "markdown",
      "metadata": {
        "id": "jU0RZ8IVIZ_3",
        "colab_type": "text"
      },
      "source": [
        "In Transfer Learning, reuse the pre-trained VGG16 model as it is, so disable training for all its layers."
      ]
    },
    {
      "cell_type": "code",
      "metadata": {
        "id": "VC0QD-4LIZ_3",
        "colab_type": "code",
        "colab": {}
      },
      "source": [
        "conv_model.trainable = False"
      ],
      "execution_count": 0,
      "outputs": []
    },
    {
      "cell_type": "code",
      "metadata": {
        "id": "1ZCLPiNJIZ_5",
        "colab_type": "code",
        "colab": {}
      },
      "source": [
        "for layer in conv_model.layers:\n",
        "    layer.trainable = False"
      ],
      "execution_count": 0,
      "outputs": []
    },
    {
      "cell_type": "code",
      "metadata": {
        "id": "yjpMX_rfIZ_9",
        "colab_type": "code",
        "outputId": "9a4212a0-7060-4aed-bd2f-2dafc8e22474",
        "colab": {
          "base_uri": "https://localhost:8080/",
          "height": 340
        }
      },
      "source": [
        "print_layer_trainable()"
      ],
      "execution_count": 0,
      "outputs": [
        {
          "output_type": "stream",
          "text": [
            "False:\tinput_1\n",
            "False:\tblock1_conv1\n",
            "False:\tblock1_conv2\n",
            "False:\tblock1_pool\n",
            "False:\tblock2_conv1\n",
            "False:\tblock2_conv2\n",
            "False:\tblock2_pool\n",
            "False:\tblock3_conv1\n",
            "False:\tblock3_conv2\n",
            "False:\tblock3_conv3\n",
            "False:\tblock3_pool\n",
            "False:\tblock4_conv1\n",
            "False:\tblock4_conv2\n",
            "False:\tblock4_conv3\n",
            "False:\tblock4_pool\n",
            "False:\tblock5_conv1\n",
            "False:\tblock5_conv2\n",
            "False:\tblock5_conv3\n",
            "False:\tblock5_pool\n"
          ],
          "name": "stdout"
        }
      ]
    },
    {
      "cell_type": "markdown",
      "metadata": {
        "id": "bUPnLsHjIaAA",
        "colab_type": "text"
      },
      "source": [
        "Compile the model for the changes to take effect."
      ]
    },
    {
      "cell_type": "code",
      "metadata": {
        "id": "GrR4cDhUIaAA",
        "colab_type": "code",
        "colab": {}
      },
      "source": [
        "new_model.compile(optimizer=optimizer, loss=loss, metrics=metrics)"
      ],
      "execution_count": 0,
      "outputs": []
    },
    {
      "cell_type": "markdown",
      "metadata": {
        "id": "8aXau1ebIaAC",
        "colab_type": "text"
      },
      "source": [
        "Define epochs and steps per epoch for the training-set."
      ]
    },
    {
      "cell_type": "code",
      "metadata": {
        "id": "myrjXAVgIaAC",
        "colab_type": "code",
        "outputId": "4ab2dcab-c275-4221-aa47-c904edfcf01b",
        "colab": {
          "base_uri": "https://localhost:8080/",
          "height": 34
        }
      },
      "source": [
        "epochs = 10\n",
        "steps_per_epoch = generator_train.n / batch_size_train\n",
        "steps_per_epoch"
      ],
      "execution_count": 0,
      "outputs": [
        {
          "output_type": "execute_result",
          "data": {
            "text/plain": [
              "31.0"
            ]
          },
          "metadata": {
            "tags": []
          },
          "execution_count": 42
        }
      ]
    },
    {
      "cell_type": "code",
      "metadata": {
        "scrolled": true,
        "id": "UjnX00OaIaAE",
        "colab_type": "code",
        "outputId": "c78bc99c-80f1-4221-c1fb-48da326cf2b1",
        "colab": {
          "base_uri": "https://localhost:8080/",
          "height": 357
        }
      },
      "source": [
        "history = new_model.fit_generator(generator=generator_train,\n",
        "                                  epochs=epochs,\n",
        "                                  steps_per_epoch=steps_per_epoch,\n",
        "                                  #class_weight=class_weight,\n",
        "                                  validation_data=generator_test,\n",
        "                                  validation_steps=steps_test)"
      ],
      "execution_count": 0,
      "outputs": [
        {
          "output_type": "stream",
          "text": [
            "Epoch 1/10\n",
            "31/31 [==============================] - 1398s 45s/step - loss: 3.2277 - categorical_accuracy: 0.6822 - val_loss: 0.1871 - val_categorical_accuracy: 0.9287\n",
            "Epoch 2/10\n",
            "31/31 [==============================] - 74s 2s/step - loss: 0.2998 - categorical_accuracy: 0.8783 - val_loss: 0.1512 - val_categorical_accuracy: 0.9375\n",
            "Epoch 3/10\n",
            "31/31 [==============================] - 99s 3s/step - loss: 0.2025 - categorical_accuracy: 0.9199 - val_loss: 0.1473 - val_categorical_accuracy: 0.9450\n",
            "Epoch 4/10\n",
            "31/31 [==============================] - 99s 3s/step - loss: 0.1716 - categorical_accuracy: 0.9272 - val_loss: 0.1108 - val_categorical_accuracy: 0.9575\n",
            "Epoch 5/10\n",
            "31/31 [==============================] - 100s 3s/step - loss: 0.1554 - categorical_accuracy: 0.9418 - val_loss: 0.1322 - val_categorical_accuracy: 0.9513\n",
            "Epoch 6/10\n",
            "31/31 [==============================] - 100s 3s/step - loss: 0.1418 - categorical_accuracy: 0.9473 - val_loss: 0.1023 - val_categorical_accuracy: 0.9575\n",
            "Epoch 7/10\n",
            "31/31 [==============================] - 99s 3s/step - loss: 0.1608 - categorical_accuracy: 0.9332 - val_loss: 0.1003 - val_categorical_accuracy: 0.9600\n",
            "Epoch 8/10\n",
            "31/31 [==============================] - 100s 3s/step - loss: 0.1303 - categorical_accuracy: 0.9496 - val_loss: 0.1056 - val_categorical_accuracy: 0.9575\n",
            "Epoch 9/10\n",
            "31/31 [==============================] - 100s 3s/step - loss: 0.1189 - categorical_accuracy: 0.9584 - val_loss: 0.1048 - val_categorical_accuracy: 0.9600\n",
            "Epoch 10/10\n",
            "31/31 [==============================] - 100s 3s/step - loss: 0.1196 - categorical_accuracy: 0.9546 - val_loss: 0.1105 - val_categorical_accuracy: 0.9513\n"
          ],
          "name": "stdout"
        }
      ]
    },
    {
      "cell_type": "markdown",
      "metadata": {
        "id": "MdylHm81IaAG",
        "colab_type": "text"
      },
      "source": [
        "Keras records the performance metrics at the end of each \"epoch\" so they can be plotted later. "
      ]
    },
    {
      "cell_type": "code",
      "metadata": {
        "id": "CuOOEzSB2-co",
        "colab_type": "code",
        "outputId": "b476483b-3ee9-4de7-974a-596bf8cf446d",
        "colab": {
          "base_uri": "https://localhost:8080/",
          "height": 276
        }
      },
      "source": [
        "plt.figure(1, figsize = (15,8)) \n",
        "    \n",
        "plt.subplot(221)  \n",
        "plt.plot(history.history['categorical_accuracy'])  \n",
        "plt.plot(history.history['val_categorical_accuracy'])  \n",
        "plt.title('model accuracy')  \n",
        "plt.ylabel('accuracy')  \n",
        "plt.xlabel('epoch')  \n",
        "plt.legend(['train', 'valid']) \n",
        "    \n",
        "plt.subplot(222)  \n",
        "plt.plot(history.history['loss'])  \n",
        "plt.plot(history.history['val_loss'])  \n",
        "plt.title('model loss')  \n",
        "plt.ylabel('loss')  \n",
        "plt.xlabel('epoch')  \n",
        "plt.legend(['train', 'valid']) \n",
        "\n",
        "plt.show()"
      ],
      "execution_count": 0,
      "outputs": [
        {
          "output_type": "display_data",
          "data": {
            "image/png": "[encoded data removed]",
            "text/plain": [
              "<Figure size 1080x576 with 2 Axes>"
            ]
          },
          "metadata": {
            "tags": []
          }
        }
      ]
    },
    {
      "cell_type": "code",
      "metadata": {
        "scrolled": true,
        "id": "zxE_f7vsIaAG",
        "colab_type": "code",
        "colab": {}
      },
      "source": [
        "#plot_training_history(history)"
      ],
      "execution_count": 0,
      "outputs": []
    },
    {
      "cell_type": "markdown",
      "metadata": {
        "id": "KH-slNm6IaAI",
        "colab_type": "text"
      },
      "source": [
        "Evaluate the new model's performance on the test-set using a single function call in the Keras API."
      ]
    },
    {
      "cell_type": "code",
      "metadata": {
        "scrolled": true,
        "id": "0UHSRMBOIaAI",
        "colab_type": "code",
        "colab": {}
      },
      "source": [
        "result = new_model.evaluate_generator(generator_test, steps=steps_test)"
      ],
      "execution_count": 0,
      "outputs": []
    },
    {
      "cell_type": "code",
      "metadata": {
        "scrolled": true,
        "id": "u6eFmUKqIaAJ",
        "colab_type": "code",
        "outputId": "7e1b1cf1-4e04-41af-ba5a-012c86dcc11d",
        "colab": {
          "base_uri": "https://localhost:8080/",
          "height": 34
        }
      },
      "source": [
        "print(\"Test-set classification accuracy: {0:.2%}\".format(result[1]))"
      ],
      "execution_count": 0,
      "outputs": [
        {
          "output_type": "stream",
          "text": [
            "Test-set classification accuracy: 95.13%\n"
          ],
          "name": "stdout"
        }
      ]
    },
    {
      "cell_type": "markdown",
      "metadata": {
        "id": "queHrJ13IaAL",
        "colab_type": "text"
      },
      "source": [
        "Plot some examples of mis-classified images from the test-set."
      ]
    },
    {
      "cell_type": "code",
      "metadata": {
        "id": "dO7BapmJIaAL",
        "colab_type": "code",
        "colab": {}
      },
      "source": [
        "#example_errors()"
      ],
      "execution_count": 0,
      "outputs": []
    },
    {
      "cell_type": "markdown",
      "metadata": {
        "id": "q0ixWjHWIaAO",
        "colab_type": "text"
      },
      "source": [
        "## Fine-Tuning\n",
        "\n",
        "In Transfer Learning the original pre-trained model is locked or frozen during training of the new classifier. This ensures that the weights of the original VGG16 model will not change.\n",
        "\n",
        "Once the new classifier has been trained, fine-tune some of the deeper layers in the VGG16 model."
      ]
    },
    {
      "cell_type": "code",
      "metadata": {
        "id": "RKytQgzGIaAO",
        "colab_type": "code",
        "colab": {}
      },
      "source": [
        "conv_model.trainable = True"
      ],
      "execution_count": 0,
      "outputs": []
    },
    {
      "cell_type": "markdown",
      "metadata": {
        "id": "jZQz52wxIaAR",
        "colab_type": "text"
      },
      "source": [
        "Train the last convolutional layers."
      ]
    },
    {
      "cell_type": "code",
      "metadata": {
        "id": "pUYJ53uyIaAR",
        "colab_type": "code",
        "colab": {}
      },
      "source": [
        "for layer in conv_model.layers:\n",
        "    # Boolean whether this layer is trainable.\n",
        "    trainable = ('block5' in layer.name) #or 'block4' in layer.name)\n",
        "    \n",
        "    # Set the layer's bool.\n",
        "    layer.trainable = trainable"
      ],
      "execution_count": 0,
      "outputs": []
    },
    {
      "cell_type": "markdown",
      "metadata": {
        "id": "1Ye7UFqRIaAS",
        "colab_type": "text"
      },
      "source": [
        "Check that this has updated the `trainable` boolean for the relevant layers."
      ]
    },
    {
      "cell_type": "code",
      "metadata": {
        "id": "epEk49IkIaAT",
        "colab_type": "code",
        "outputId": "533fc7c0-e1dd-40e6-a733-e5851022f183",
        "colab": {
          "base_uri": "https://localhost:8080/",
          "height": 340
        }
      },
      "source": [
        "print_layer_trainable()"
      ],
      "execution_count": 0,
      "outputs": [
        {
          "output_type": "stream",
          "text": [
            "False:\tinput_1\n",
            "False:\tblock1_conv1\n",
            "False:\tblock1_conv2\n",
            "False:\tblock1_pool\n",
            "False:\tblock2_conv1\n",
            "False:\tblock2_conv2\n",
            "False:\tblock2_pool\n",
            "False:\tblock3_conv1\n",
            "False:\tblock3_conv2\n",
            "False:\tblock3_conv3\n",
            "False:\tblock3_pool\n",
            "False:\tblock4_conv1\n",
            "False:\tblock4_conv2\n",
            "False:\tblock4_conv3\n",
            "False:\tblock4_pool\n",
            "True:\tblock5_conv1\n",
            "True:\tblock5_conv2\n",
            "True:\tblock5_conv3\n",
            "True:\tblock5_pool\n"
          ],
          "name": "stdout"
        }
      ]
    },
    {
      "cell_type": "markdown",
      "metadata": {
        "id": "hWFAiRdFIaAU",
        "colab_type": "text"
      },
      "source": [
        "Use a lower learning-rate for the fine-tuning so the weights of the original VGG16 model only get changed slowly."
      ]
    },
    {
      "cell_type": "code",
      "metadata": {
        "id": "pwg2TpE7IaAU",
        "colab_type": "code",
        "colab": {}
      },
      "source": [
        "optimizer_fine = Adam(lr=1e-5)"
      ],
      "execution_count": 0,
      "outputs": []
    },
    {
      "cell_type": "markdown",
      "metadata": {
        "id": "cMOL4OOKIaAV",
        "colab_type": "text"
      },
      "source": [
        "Recompile the model so the changes can take effect before we continue training."
      ]
    },
    {
      "cell_type": "code",
      "metadata": {
        "id": "MNdsDkKjySe7",
        "colab_type": "code",
        "colab": {}
      },
      "source": [
        "loss_tune = 'categorical_crossentropy'"
      ],
      "execution_count": 0,
      "outputs": []
    },
    {
      "cell_type": "code",
      "metadata": {
        "id": "cVZvVPxkIaAW",
        "colab_type": "code",
        "colab": {}
      },
      "source": [
        "new_model.compile(optimizer=optimizer_fine, loss=loss_tune, metrics=metrics)"
      ],
      "execution_count": 0,
      "outputs": []
    },
    {
      "cell_type": "markdown",
      "metadata": {
        "id": "YfQR8f6IIaAY",
        "colab_type": "text"
      },
      "source": [
        "The training can then be continued so as to fine-tune the VGG16 model along with the new classifier."
      ]
    },
    {
      "cell_type": "code",
      "metadata": {
        "scrolled": true,
        "id": "G5mYfUDMIaAY",
        "colab_type": "code",
        "outputId": "f904b33a-5802-442e-f4fe-63f20a961324",
        "colab": {
          "base_uri": "https://localhost:8080/",
          "height": 357
        }
      },
      "source": [
        "history = new_model.fit_generator(generator=generator_train,\n",
        "                                  epochs=epochs,\n",
        "                                  steps_per_epoch=steps_per_epoch,\n",
        "                                  #class_weight=class_weight,\n",
        "                                  validation_data=generator_test,\n",
        "                                  validation_steps=steps_test)\n"
      ],
      "execution_count": 0,
      "outputs": [
        {
          "output_type": "stream",
          "text": [
            "Epoch 1/10\n",
            "31/31 [==============================] - 110s 4s/step - loss: 0.1022 - categorical_accuracy: 0.9602 - val_loss: 0.0900 - val_categorical_accuracy: 0.9688\n",
            "Epoch 2/10\n",
            "31/31 [==============================] - 101s 3s/step - loss: 0.0758 - categorical_accuracy: 0.9728 - val_loss: 0.0823 - val_categorical_accuracy: 0.9700\n",
            "Epoch 3/10\n",
            "31/31 [==============================] - 100s 3s/step - loss: 0.0665 - categorical_accuracy: 0.9763 - val_loss: 0.0807 - val_categorical_accuracy: 0.9725\n",
            "Epoch 4/10\n",
            "31/31 [==============================] - 102s 3s/step - loss: 0.0642 - categorical_accuracy: 0.9768 - val_loss: 0.0736 - val_categorical_accuracy: 0.9725\n",
            "Epoch 5/10\n",
            "31/31 [==============================] - 103s 3s/step - loss: 0.0537 - categorical_accuracy: 0.9806 - val_loss: 0.0716 - val_categorical_accuracy: 0.9775\n",
            "Epoch 6/10\n",
            "31/31 [==============================] - 102s 3s/step - loss: 0.0490 - categorical_accuracy: 0.9839 - val_loss: 0.0717 - val_categorical_accuracy: 0.9762\n",
            "Epoch 7/10\n",
            "31/31 [==============================] - 102s 3s/step - loss: 0.0455 - categorical_accuracy: 0.9839 - val_loss: 0.0733 - val_categorical_accuracy: 0.9750\n",
            "Epoch 8/10\n",
            "31/31 [==============================] - 102s 3s/step - loss: 0.0381 - categorical_accuracy: 0.9861 - val_loss: 0.0659 - val_categorical_accuracy: 0.9787\n",
            "Epoch 9/10\n",
            "31/31 [==============================] - 101s 3s/step - loss: 0.0322 - categorical_accuracy: 0.9889 - val_loss: 0.0647 - val_categorical_accuracy: 0.9750\n",
            "Epoch 10/10\n",
            "31/31 [==============================] - 102s 3s/step - loss: 0.0376 - categorical_accuracy: 0.9849 - val_loss: 0.0659 - val_categorical_accuracy: 0.9762\n"
          ],
          "name": "stdout"
        }
      ]
    },
    {
      "cell_type": "markdown",
      "metadata": {
        "id": "QillGJPSIaAb",
        "colab_type": "text"
      },
      "source": [
        "Plot the loss-values and classification accuracy from the training."
      ]
    },
    {
      "cell_type": "code",
      "metadata": {
        "id": "TkgUsZWJ1m1s",
        "colab_type": "code",
        "outputId": "3b07f55f-90af-4fea-d737-ee6cda069509",
        "colab": {
          "base_uri": "https://localhost:8080/",
          "height": 276
        }
      },
      "source": [
        "plt.figure(1, figsize = (15,8)) \n",
        "    \n",
        "plt.subplot(221)  \n",
        "plt.plot(history.history['categorical_accuracy'])  \n",
        "plt.plot(history.history['val_categorical_accuracy'])  \n",
        "plt.title('Model Accuracy')  \n",
        "plt.ylabel('Accuracy')  \n",
        "plt.xlabel('Epochs')  \n",
        "plt.legend(['Train', 'Test']) \n",
        "    \n",
        "plt.subplot(222)  \n",
        "plt.plot(history.history['loss'])  \n",
        "plt.plot(history.history['val_loss'])  \n",
        "plt.title('Model Loss')  \n",
        "plt.ylabel('Loss')  \n",
        "plt.xlabel('Epochs')  \n",
        "plt.legend(['Train', 'Test']) \n",
        "\n",
        "plt.show()"
      ],
      "execution_count": 0,
      "outputs": [
        {
          "output_type": "display_data",
          "data": {
            "image/png": "[encoded data removed]",
            "text/plain": [
              "<Figure size 1080x576 with 2 Axes>"
            ]
          },
          "metadata": {
            "tags": []
          }
        }
      ]
    },
    {
      "cell_type": "code",
      "metadata": {
        "id": "J3RXFJECIaAb",
        "colab_type": "code",
        "colab": {}
      },
      "source": [
        "#plot_training_history(history)"
      ],
      "execution_count": 0,
      "outputs": []
    },
    {
      "cell_type": "code",
      "metadata": {
        "id": "mxl4wkkMIaAe",
        "colab_type": "code",
        "colab": {}
      },
      "source": [
        "result = new_model.evaluate_generator(generator_test, steps=steps_test)"
      ],
      "execution_count": 0,
      "outputs": []
    },
    {
      "cell_type": "code",
      "metadata": {
        "id": "XvwLuKu9IaAg",
        "colab_type": "code",
        "outputId": "d3c46dd1-782b-4dc5-eb14-3f0191debc79",
        "colab": {
          "base_uri": "https://localhost:8080/",
          "height": 34
        }
      },
      "source": [
        "print(\"Test-set classification accuracy: {0:.2%}\".format(result[1]))"
      ],
      "execution_count": 0,
      "outputs": [
        {
          "output_type": "stream",
          "text": [
            "Test-set classification accuracy: 97.62%\n"
          ],
          "name": "stdout"
        }
      ]
    },
    {
      "cell_type": "markdown",
      "metadata": {
        "id": "RkfLozkxIaAh",
        "colab_type": "text"
      },
      "source": [
        "Plot some examples of mis-classified images again."
      ]
    },
    {
      "cell_type": "code",
      "metadata": {
        "scrolled": true,
        "id": "Y-9uC1czIaAi",
        "colab_type": "code",
        "outputId": "d3a48cad-5a3a-4d80-e8bb-6e8d8fab4890",
        "colab": {
          "base_uri": "https://localhost:8080/",
          "height": 640
        }
      },
      "source": [
        "example_errors()\n"
      ],
      "execution_count": 0,
      "outputs": [
        {
          "output_type": "display_data",
          "data": {
            "image/png": "[encoded data removed]",
            "text/plain": [
              "<Figure size 432x288 with 9 Axes>"
            ]
          },
          "metadata": {
            "tags": []
          }
        },
        {
          "output_type": "stream",
          "text": [
            "Confusion matrix:\n",
            "[[389  11]\n",
            " [  8 392]]\n",
            "(0) bath\n",
            "(1) kit\n"
          ],
          "name": "stdout"
        },
        {
          "output_type": "display_data",
          "data": {
            "image/png": "[encoded data removed]",
            "text/plain": [
              "<Figure size 432x288 with 2 Axes>"
            ]
          },
          "metadata": {
            "tags": []
          }
        }
      ]
    },
    {
      "cell_type": "markdown",
      "metadata": {
        "id": "f-AJ4o-sCb4Z",
        "colab_type": "text"
      },
      "source": [
        "## Code to save the model"
      ]
    },
    {
      "cell_type": "code",
      "metadata": {
        "id": "LwwJAjNFMa8a",
        "colab_type": "code",
        "colab": {}
      },
      "source": [
        "# saving_model = tf.keras.models.save_model(\n",
        "#    new_model,\n",
        "#    '/gdrive/My Drive/Colab Notebooks/Models/vgg_binary_kit_94.h5py',\n",
        "#    overwrite=True,\n",
        "#    include_optimizer=True,\n",
        "#    save_format=None)"
      ],
      "execution_count": 0,
      "outputs": []
    }
  ]
}