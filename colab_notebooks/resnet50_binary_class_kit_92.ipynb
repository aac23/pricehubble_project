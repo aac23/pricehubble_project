{
  "nbformat": 4,
  "nbformat_minor": 0,
  "metadata": {
    "colab": {
      "name": "resnet50_binary_class_kit_92",
      "version": "0.3.2",
      "provenance": [],
      "collapsed_sections": []
    },
    "kernelspec": {
      "name": "python3",
      "display_name": "Python 3"
    }
  },
  "cells": [
    {
      "cell_type": "markdown",
      "metadata": {
        "id": "3Uz_p2XqLIBP",
        "colab_type": "text"
      },
      "source": [
        "## Imports"
      ]
    },
    {
      "cell_type": "code",
      "metadata": {
        "id": "iCgQgQul0hGy",
        "colab_type": "code",
        "colab": {}
      },
      "source": [
        "import numpy as np\n",
        "import pandas as pd\n",
        "\n",
        "import matplotlib.pyplot as plt\n",
        "%matplotlib inline \n",
        "\n",
        "import cv2\n",
        "\n",
        "import os"
      ],
      "execution_count": 0,
      "outputs": []
    },
    {
      "cell_type": "markdown",
      "metadata": {
        "id": "aiKPl6CeLLO-",
        "colab_type": "text"
      },
      "source": [
        "## Constants"
      ]
    },
    {
      "cell_type": "code",
      "metadata": {
        "id": "1RrIkguo0n0t",
        "colab_type": "code",
        "colab": {}
      },
      "source": [
        "NUM_CLASSES = 2\n",
        "\n",
        "IMAGE_RESIZE = 224\n",
        "RESNET50_POOLING_AVERAGE = 'avg'\n",
        "DENSE_LAYER_ACTIVATION = 'softmax'\n",
        "OBJECTIVE_FUNCTION = 'categorical_crossentropy'\n",
        "\n",
        "LOSS_METRICS = ['accuracy']\n",
        "\n",
        "NUM_EPOCHS = 10\n",
        "\n",
        "STEPS_PER_EPOCH_TRAINING = 28\n",
        "STEPS_PER_EPOCH_VALIDATION = 14\n",
        "\n",
        "BATCH_SIZE_TRAINING = 32\n",
        "BATCH_SIZE_VALIDATION = 16\n"
      ],
      "execution_count": 0,
      "outputs": []
    },
    {
      "cell_type": "code",
      "metadata": {
        "id": "QTV7zwhf0rdU",
        "colab_type": "code",
        "colab": {}
      },
      "source": [
        "from tensorflow.python.keras.applications import ResNet50\n",
        "from tensorflow.python.keras.models import Sequential\n",
        "from tensorflow.python.keras.layers import Dense, Dropout\n",
        "from tensorflow.python.keras.optimizers import Adam"
      ],
      "execution_count": 0,
      "outputs": []
    },
    {
      "cell_type": "markdown",
      "metadata": {
        "id": "Bhj5dT1YLOF8",
        "colab_type": "text"
      },
      "source": [
        "## Dataset"
      ]
    },
    {
      "cell_type": "code",
      "metadata": {
        "id": "KhmvzBtY4MpV",
        "colab_type": "code",
        "outputId": "baa94f1a-270f-4e6f-8b39-7d20bd08b3ce",
        "colab": {
          "base_uri": "https://localhost:8080/",
          "height": 122
        }
      },
      "source": [
        "from google.colab import drive\n",
        "drive.mount('/gdrive')"
      ],
      "execution_count": 0,
      "outputs": [
        {
          "output_type": "stream",
          "text": [
            "Go to this URL in a browser: https://accounts.google.com/o/oauth2/auth?client_id=947318989803-6bn6qk8qdgf4n4g3pfee6491hc0brc4i.apps.googleusercontent.com&redirect_uri=urn%3Aietf%3Awg%3Aoauth%3A2.0%3Aoob&scope=email%20https%3A%2F%2Fwww.googleapis.com%2Fauth%2Fdocs.test%20https%3A%2F%2Fwww.googleapis.com%2Fauth%2Fdrive%20https%3A%2F%2Fwww.googleapis.com%2Fauth%2Fdrive.photos.readonly%20https%3A%2F%2Fwww.googleapis.com%2Fauth%2Fpeopleapi.readonly&response_type=code\n",
            "\n",
            "Enter your authorization code:\n",
            "··········\n",
            "Mounted at /gdrive\n"
          ],
          "name": "stdout"
        }
      ]
    },
    {
      "cell_type": "code",
      "metadata": {
        "id": "VXfJ0MaX4PCk",
        "colab_type": "code",
        "colab": {}
      },
      "source": [
        "train_dir = '../gdrive/My Drive/classified/kit/train'\n",
        "test_dir = '../gdrive/My Drive/classified/kit/test'"
      ],
      "execution_count": 0,
      "outputs": []
    },
    {
      "cell_type": "markdown",
      "metadata": {
        "id": "PUmAwCZoLReM",
        "colab_type": "text"
      },
      "source": [
        "## ResNet50"
      ]
    },
    {
      "cell_type": "code",
      "metadata": {
        "id": "VeSY9yVn0vm_",
        "colab_type": "code",
        "outputId": "e7382828-c0a8-4546-a5e0-2fa00041ed05",
        "colab": {
          "base_uri": "https://localhost:8080/",
          "height": 139
        }
      },
      "source": [
        "model = Sequential()\n",
        "\n",
        "model.add(ResNet50(include_top = False, pooling = RESNET50_POOLING_AVERAGE, \n",
        "                   weights='imagenet'))\n",
        "\n",
        "model.add(Dense(NUM_CLASSES, activation = DENSE_LAYER_ACTIVATION))\n",
        "\n",
        "# Say not to train first layer (ResNet) model as it is already trained\n",
        "model.layers[0].trainable = False\n"
      ],
      "execution_count": 0,
      "outputs": [
        {
          "output_type": "stream",
          "text": [
            "Downloading data from https://github.com/fchollet/deep-learning-models/releases/download/v0.2/resnet50_weights_tf_dim_ordering_tf_kernels_notop.h5\n",
            "94658560/94653016 [==============================] - 3s 0us/step\n"
          ],
          "name": "stdout"
        },
        {
          "output_type": "stream",
          "text": [
            "WARNING: Logging before flag parsing goes to stderr.\n",
            "W0723 11:32:51.834123 140523097900928 deprecation.py:506] From /usr/local/lib/python3.6/dist-packages/tensorflow/python/ops/init_ops.py:1251: calling VarianceScaling.__init__ (from tensorflow.python.ops.init_ops) with dtype is deprecated and will be removed in a future version.\n",
            "Instructions for updating:\n",
            "Call initializer instance with the dtype argument instead of passing it to the constructor\n"
          ],
          "name": "stderr"
        }
      ]
    },
    {
      "cell_type": "code",
      "metadata": {
        "id": "plYhr28G0zRc",
        "colab_type": "code",
        "outputId": "4f750ab1-8ab5-4c3b-9c32-2a546f3d41f7",
        "colab": {
          "base_uri": "https://localhost:8080/",
          "height": 221
        }
      },
      "source": [
        "model.summary()\n"
      ],
      "execution_count": 0,
      "outputs": [
        {
          "output_type": "stream",
          "text": [
            "Model: \"sequential\"\n",
            "_________________________________________________________________\n",
            "Layer (type)                 Output Shape              Param #   \n",
            "=================================================================\n",
            "resnet50 (Model)             (None, 2048)              23587712  \n",
            "_________________________________________________________________\n",
            "dense (Dense)                (None, 2)                 4098      \n",
            "=================================================================\n",
            "Total params: 23,591,810\n",
            "Trainable params: 4,098\n",
            "Non-trainable params: 23,587,712\n",
            "_________________________________________________________________\n"
          ],
          "name": "stdout"
        }
      ]
    },
    {
      "cell_type": "code",
      "metadata": {
        "id": "pmJlIqqP05dX",
        "colab_type": "code",
        "colab": {}
      },
      "source": [
        "from tensorflow.python.keras import optimizers\n",
        "\n",
        "optimizer = Adam()\n",
        "model.compile(optimizer=optimizer, loss=OBJECTIVE_FUNCTION, \n",
        "              metrics=LOSS_METRICS)\n"
      ],
      "execution_count": 0,
      "outputs": []
    },
    {
      "cell_type": "code",
      "metadata": {
        "id": "0gY5jOrz1DpV",
        "colab_type": "code",
        "outputId": "64f51de1-991d-464f-e729-c38ee33c95c6",
        "colab": {
          "base_uri": "https://localhost:8080/",
          "height": 68
        }
      },
      "source": [
        "from keras.applications.resnet50 import preprocess_input\n",
        "from keras.preprocessing.image import ImageDataGenerator\n",
        "\n",
        "image_size = IMAGE_RESIZE\n",
        "\n",
        "data_generator = ImageDataGenerator(preprocessing_function=preprocess_input)\n",
        "\n",
        "train_generator = data_generator.flow_from_directory(\n",
        "        train_dir,\n",
        "        target_size=(image_size, image_size),\n",
        "        batch_size=BATCH_SIZE_TRAINING,\n",
        "        class_mode='categorical')\n",
        "\n",
        "validation_generator = data_generator.flow_from_directory(\n",
        "        test_dir,\n",
        "        target_size=(image_size, image_size),\n",
        "        batch_size=BATCH_SIZE_VALIDATION,\n",
        "        class_mode='categorical',\n",
        "        shuffle=False)"
      ],
      "execution_count": 0,
      "outputs": [
        {
          "output_type": "stream",
          "text": [
            "Using TensorFlow backend.\n"
          ],
          "name": "stderr"
        },
        {
          "output_type": "stream",
          "text": [
            "Found 896 images belonging to 2 classes.\n",
            "Found 224 images belonging to 2 classes.\n"
          ],
          "name": "stdout"
        }
      ]
    },
    {
      "cell_type": "code",
      "metadata": {
        "id": "mU23KYY54BCp",
        "colab_type": "code",
        "outputId": "9fe96aa8-9bd3-4e1d-9d5d-c8ded17392e2",
        "colab": {
          "base_uri": "https://localhost:8080/",
          "height": 34
        }
      },
      "source": [
        "(BATCH_SIZE_TRAINING, len(train_generator), BATCH_SIZE_VALIDATION, len(validation_generator))"
      ],
      "execution_count": 0,
      "outputs": [
        {
          "output_type": "execute_result",
          "data": {
            "text/plain": [
              "(32, 28, 16, 14)"
            ]
          },
          "metadata": {
            "tags": []
          },
          "execution_count": 10
        }
      ]
    },
    {
      "cell_type": "code",
      "metadata": {
        "id": "xbqkFeRr4BvJ",
        "colab_type": "code",
        "outputId": "7a204413-2213-443e-e205-951d74db24f7",
        "colab": {
          "base_uri": "https://localhost:8080/",
          "height": 357
        }
      },
      "source": [
        "fit_history = model.fit_generator(\n",
        "        train_generator,\n",
        "        steps_per_epoch=STEPS_PER_EPOCH_TRAINING,\n",
        "        epochs = NUM_EPOCHS,\n",
        "        validation_data=validation_generator,\n",
        "        validation_steps=STEPS_PER_EPOCH_VALIDATION\n",
        ")"
      ],
      "execution_count": 0,
      "outputs": [
        {
          "output_type": "stream",
          "text": [
            "Epoch 1/10\n",
            "28/28 [==============================] - 291s 10s/step - loss: 0.4681 - acc: 0.7734 - val_loss: 0.3848 - val_acc: 0.7991\n",
            "Epoch 2/10\n",
            "28/28 [==============================] - 266s 9s/step - loss: 0.2706 - acc: 0.8906 - val_loss: 0.3850 - val_acc: 0.8170\n",
            "Epoch 3/10\n",
            "28/28 [==============================] - 265s 9s/step - loss: 0.1847 - acc: 0.9330 - val_loss: 0.2072 - val_acc: 0.9152\n",
            "Epoch 4/10\n",
            "28/28 [==============================] - 265s 9s/step - loss: 0.1662 - acc: 0.9408 - val_loss: 0.3899 - val_acc: 0.8259\n",
            "Epoch 5/10\n",
            "28/28 [==============================] - 266s 10s/step - loss: 0.1311 - acc: 0.9643 - val_loss: 0.2277 - val_acc: 0.9018\n",
            "Epoch 6/10\n",
            "28/28 [==============================] - 266s 10s/step - loss: 0.1116 - acc: 0.9710 - val_loss: 0.2020 - val_acc: 0.9286\n",
            "Epoch 7/10\n",
            "28/28 [==============================] - 265s 9s/step - loss: 0.1241 - acc: 0.9576 - val_loss: 0.3097 - val_acc: 0.8616\n",
            "Epoch 8/10\n",
            "28/28 [==============================] - 265s 9s/step - loss: 0.0956 - acc: 0.9743 - val_loss: 0.2993 - val_acc: 0.8661\n",
            "Epoch 9/10\n",
            "28/28 [==============================] - 265s 9s/step - loss: 0.0897 - acc: 0.9766 - val_loss: 0.2363 - val_acc: 0.8929\n",
            "Epoch 10/10\n",
            "28/28 [==============================] - 265s 9s/step - loss: 0.0823 - acc: 0.9833 - val_loss: 0.1951 - val_acc: 0.9196\n"
          ],
          "name": "stdout"
        }
      ]
    },
    {
      "cell_type": "code",
      "metadata": {
        "id": "dO6uBHBQEf_h",
        "colab_type": "code",
        "outputId": "bd2cf223-dea4-4402-aa16-2e15803546d7",
        "colab": {
          "base_uri": "https://localhost:8080/",
          "height": 276
        }
      },
      "source": [
        "plt.figure(1, figsize = (15,8)) \n",
        "    \n",
        "plt.subplot(221)  \n",
        "plt.plot(fit_history.history['acc'])  \n",
        "plt.plot(fit_history.history['val_acc'])  \n",
        "plt.title('model accuracy')  \n",
        "plt.ylabel('accuracy')  \n",
        "plt.xlabel('epoch')  \n",
        "plt.legend(['train', 'valid']) \n",
        "    \n",
        "plt.subplot(222)  \n",
        "plt.plot(fit_history.history['loss'])  \n",
        "plt.plot(fit_history.history['val_loss'])  \n",
        "plt.title('model loss')  \n",
        "plt.ylabel('loss')  \n",
        "plt.xlabel('epoch')  \n",
        "plt.legend(['train', 'valid']) \n",
        "\n",
        "plt.show()"
      ],
      "execution_count": 0,
      "outputs": [
        {
          "output_type": "display_data",
          "data": {
            "image/png": "[encoded data removed]",
            "text/plain": [
              "<Figure size 1080x576 with 2 Axes>"
            ]
          },
          "metadata": {
            "tags": []
          }
        }
      ]
    },
    {
      "cell_type": "code",
      "metadata": {
        "id": "TB2xx51U_tWy",
        "colab_type": "code",
        "colab": {}
      },
      "source": [
        "result = model.evaluate_generator(validation_generator, \n",
        "                                  steps=STEPS_PER_EPOCH_VALIDATION)\n"
      ],
      "execution_count": 0,
      "outputs": []
    },
    {
      "cell_type": "code",
      "metadata": {
        "id": "AFJiop-n_x-3",
        "colab_type": "code",
        "outputId": "80bc4592-ce39-4b30-f393-2d361998a844",
        "colab": {
          "base_uri": "https://localhost:8080/",
          "height": 34
        }
      },
      "source": [
        "print(\"Test-set classification accuracy: {0:.2%}\".format(result[1]))\n"
      ],
      "execution_count": 0,
      "outputs": [
        {
          "output_type": "stream",
          "text": [
            "Test-set classification accuracy: 91.96%\n"
          ],
          "name": "stdout"
        }
      ]
    }
  ]
}