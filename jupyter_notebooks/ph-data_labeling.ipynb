{
 "cells": [
  {
   "cell_type": "markdown",
   "metadata": {},
   "source": [
    "### André Callil\n",
    "### PriceHubble Project"
   ]
  },
  {
   "cell_type": "code",
   "execution_count": 1,
   "metadata": {},
   "outputs": [],
   "source": [
    "import pandas as pd\n",
    "import numpy as np\n",
    "import matplotlib\n",
    "%matplotlib inline\n",
    "import os\n",
    "import shutil\n",
    "import matplotlib.pyplot as plt\n"
   ]
  },
  {
   "cell_type": "markdown",
   "metadata": {},
   "source": [
    "### Data Cleaning & Exploration"
   ]
  },
  {
   "cell_type": "code",
   "execution_count": 2,
   "metadata": {},
   "outputs": [],
   "source": [
    "df = pd.read_csv('/Users/acallil/Desktop/Andre/Studies/Propulsion/Project/Data/imgs_kitchen_bathroom.csv')\n"
   ]
  },
  {
   "cell_type": "code",
   "execution_count": 3,
   "metadata": {
    "scrolled": true
   },
   "outputs": [
    {
     "data": {
      "text/html": [
       "<div>\n",
       "<style scoped>\n",
       "    .dataframe tbody tr th:only-of-type {\n",
       "        vertical-align: middle;\n",
       "    }\n",
       "\n",
       "    .dataframe tbody tr th {\n",
       "        vertical-align: top;\n",
       "    }\n",
       "\n",
       "    .dataframe thead th {\n",
       "        text-align: right;\n",
       "    }\n",
       "</style>\n",
       "<table border=\"1\" class=\"dataframe\">\n",
       "  <thead>\n",
       "    <tr style=\"text-align: right;\">\n",
       "      <th></th>\n",
       "      <th>offer_id</th>\n",
       "      <th>image_uri</th>\n",
       "      <th>is_bathroom</th>\n",
       "      <th>is_kitchen</th>\n",
       "    </tr>\n",
       "  </thead>\n",
       "  <tbody>\n",
       "    <tr>\n",
       "      <th>0</th>\n",
       "      <td>b83f41472477768f787fcdaba791bf0aa6d58e88afb5f2...</td>\n",
       "      <td>b6bfdb5a67ebc75b3fe8610f3e28e8e5d9644d6f.jpg</td>\n",
       "      <td>False</td>\n",
       "      <td>True</td>\n",
       "    </tr>\n",
       "    <tr>\n",
       "      <th>1</th>\n",
       "      <td>b83f41472477768f787fcdaba791bf0aa6d58e88afb5f2...</td>\n",
       "      <td>17933fb4be872590c54b2a41024bbae3e4adc858.jpg</td>\n",
       "      <td>True</td>\n",
       "      <td>False</td>\n",
       "    </tr>\n",
       "    <tr>\n",
       "      <th>2</th>\n",
       "      <td>77514404db0d645f607c928b59188d2ad6a615ba2118dd...</td>\n",
       "      <td>homegateOnline_5e26b6d96b1f231d69cdbd8ce2d401b...</td>\n",
       "      <td>True</td>\n",
       "      <td>False</td>\n",
       "    </tr>\n",
       "    <tr>\n",
       "      <th>3</th>\n",
       "      <td>77514404db0d645f607c928b59188d2ad6a615ba2118dd...</td>\n",
       "      <td>homegateOnline_5e26b6d96b1f231d69cdbd8ce2d401b...</td>\n",
       "      <td>True</td>\n",
       "      <td>False</td>\n",
       "    </tr>\n",
       "    <tr>\n",
       "      <th>4</th>\n",
       "      <td>bacdfaea1480adbed3a54505e3eefdd87f91300565852a...</td>\n",
       "      <td>fe973a0b2612a55a331558d3f8d1ffa676becb9e.jpg</td>\n",
       "      <td>True</td>\n",
       "      <td>False</td>\n",
       "    </tr>\n",
       "  </tbody>\n",
       "</table>\n",
       "</div>"
      ],
      "text/plain": [
       "                                            offer_id  \\\n",
       "0  b83f41472477768f787fcdaba791bf0aa6d58e88afb5f2...   \n",
       "1  b83f41472477768f787fcdaba791bf0aa6d58e88afb5f2...   \n",
       "2  77514404db0d645f607c928b59188d2ad6a615ba2118dd...   \n",
       "3  77514404db0d645f607c928b59188d2ad6a615ba2118dd...   \n",
       "4  bacdfaea1480adbed3a54505e3eefdd87f91300565852a...   \n",
       "\n",
       "                                           image_uri  is_bathroom  is_kitchen  \n",
       "0       b6bfdb5a67ebc75b3fe8610f3e28e8e5d9644d6f.jpg        False        True  \n",
       "1       17933fb4be872590c54b2a41024bbae3e4adc858.jpg         True       False  \n",
       "2  homegateOnline_5e26b6d96b1f231d69cdbd8ce2d401b...         True       False  \n",
       "3  homegateOnline_5e26b6d96b1f231d69cdbd8ce2d401b...         True       False  \n",
       "4       fe973a0b2612a55a331558d3f8d1ffa676becb9e.jpg         True       False  "
      ]
     },
     "execution_count": 3,
     "metadata": {},
     "output_type": "execute_result"
    }
   ],
   "source": [
    "df.head()\n"
   ]
  },
  {
   "cell_type": "code",
   "execution_count": 4,
   "metadata": {},
   "outputs": [
    {
     "data": {
      "text/plain": [
       "offer_id       0\n",
       "image_uri      0\n",
       "is_bathroom    0\n",
       "is_kitchen     0\n",
       "dtype: int64"
      ]
     },
     "execution_count": 4,
     "metadata": {},
     "output_type": "execute_result"
    }
   ],
   "source": [
    "df.isnull().sum()\n"
   ]
  },
  {
   "cell_type": "code",
   "execution_count": 5,
   "metadata": {},
   "outputs": [
    {
     "data": {
      "text/plain": [
       "15560"
      ]
     },
     "execution_count": 5,
     "metadata": {},
     "output_type": "execute_result"
    }
   ],
   "source": [
    "len(df)\n"
   ]
  },
  {
   "cell_type": "code",
   "execution_count": 6,
   "metadata": {},
   "outputs": [
    {
     "data": {
      "text/plain": [
       "21"
      ]
     },
     "execution_count": 6,
     "metadata": {},
     "output_type": "execute_result"
    }
   ],
   "source": [
    "# Images labeled as both bathroom and kitchen\n",
    "true_df = df[((df['is_bathroom'] == True) & (df['is_kitchen'] == True))]\n",
    "len(true_df)\n"
   ]
  },
  {
   "cell_type": "code",
   "execution_count": 7,
   "metadata": {},
   "outputs": [
    {
     "data": {
      "text/plain": [
       "0"
      ]
     },
     "execution_count": 7,
     "metadata": {},
     "output_type": "execute_result"
    }
   ],
   "source": [
    "# Images labeled as none bathroom nor kitchen\n",
    "false_df = df[((df['is_bathroom'] == False) & (df['is_kitchen'] == False))]\n",
    "len(false_df)\n"
   ]
  },
  {
   "cell_type": "code",
   "execution_count": 8,
   "metadata": {},
   "outputs": [
    {
     "data": {
      "text/plain": [
       "15493"
      ]
     },
     "execution_count": 8,
     "metadata": {},
     "output_type": "execute_result"
    }
   ],
   "source": [
    "# Drop image label duplicates\n",
    "df = df.drop_duplicates(subset=['image_uri'])\n",
    "len(df)\n"
   ]
  },
  {
   "cell_type": "code",
   "execution_count": 9,
   "metadata": {},
   "outputs": [
    {
     "data": {
      "text/plain": [
       "15472"
      ]
     },
     "execution_count": 9,
     "metadata": {},
     "output_type": "execute_result"
    }
   ],
   "source": [
    "# Drop images labeled as both bathroom and kitchen\n",
    "df = df.drop(true_df.index.tolist())\n",
    "len(df)\n"
   ]
  },
  {
   "cell_type": "code",
   "execution_count": 10,
   "metadata": {},
   "outputs": [
    {
     "data": {
      "text/html": [
       "<div>\n",
       "<style scoped>\n",
       "    .dataframe tbody tr th:only-of-type {\n",
       "        vertical-align: middle;\n",
       "    }\n",
       "\n",
       "    .dataframe tbody tr th {\n",
       "        vertical-align: top;\n",
       "    }\n",
       "\n",
       "    .dataframe thead th {\n",
       "        text-align: right;\n",
       "    }\n",
       "</style>\n",
       "<table border=\"1\" class=\"dataframe\">\n",
       "  <thead>\n",
       "    <tr style=\"text-align: right;\">\n",
       "      <th></th>\n",
       "      <th>offer_id</th>\n",
       "      <th>image_uri</th>\n",
       "      <th>is_bathroom</th>\n",
       "      <th>is_kitchen</th>\n",
       "    </tr>\n",
       "  </thead>\n",
       "  <tbody>\n",
       "    <tr>\n",
       "      <th>count</th>\n",
       "      <td>15472</td>\n",
       "      <td>15472</td>\n",
       "      <td>15472</td>\n",
       "      <td>15472</td>\n",
       "    </tr>\n",
       "    <tr>\n",
       "      <th>unique</th>\n",
       "      <td>7500</td>\n",
       "      <td>15472</td>\n",
       "      <td>2</td>\n",
       "      <td>2</td>\n",
       "    </tr>\n",
       "    <tr>\n",
       "      <th>top</th>\n",
       "      <td>b262fc9e3ce8182199ba40eeb3c96502fb653d52c20d1d...</td>\n",
       "      <td>fed8243b3f8e96b09b8ae6821eefd2d15d1ba0bb.jpg</td>\n",
       "      <td>True</td>\n",
       "      <td>False</td>\n",
       "    </tr>\n",
       "    <tr>\n",
       "      <th>freq</th>\n",
       "      <td>6</td>\n",
       "      <td>1</td>\n",
       "      <td>9033</td>\n",
       "      <td>9033</td>\n",
       "    </tr>\n",
       "  </tbody>\n",
       "</table>\n",
       "</div>"
      ],
      "text/plain": [
       "                                                 offer_id  \\\n",
       "count                                               15472   \n",
       "unique                                               7500   \n",
       "top     b262fc9e3ce8182199ba40eeb3c96502fb653d52c20d1d...   \n",
       "freq                                                    6   \n",
       "\n",
       "                                           image_uri is_bathroom is_kitchen  \n",
       "count                                          15472       15472      15472  \n",
       "unique                                         15472           2          2  \n",
       "top     fed8243b3f8e96b09b8ae6821eefd2d15d1ba0bb.jpg        True      False  \n",
       "freq                                               1        9033       9033  "
      ]
     },
     "execution_count": 10,
     "metadata": {},
     "output_type": "execute_result"
    }
   ],
   "source": [
    "df.describe()\n"
   ]
  },
  {
   "cell_type": "code",
   "execution_count": 11,
   "metadata": {},
   "outputs": [
    {
     "data": {
      "image/png": "[encoded data removed]",
      "text/plain": [
       "<Figure size 432x288 with 1 Axes>"
      ]
     },
     "metadata": {
      "needs_background": "light"
     },
     "output_type": "display_data"
    }
   ],
   "source": [
    "# Amount of pictures per apartment ranges from 1 to 6\n",
    "plt.hist(df['offer_id'].value_counts())\n",
    "None\n"
   ]
  },
  {
   "cell_type": "code",
   "execution_count": 12,
   "metadata": {},
   "outputs": [
    {
     "data": {
      "text/html": [
       "<div>\n",
       "<style scoped>\n",
       "    .dataframe tbody tr th:only-of-type {\n",
       "        vertical-align: middle;\n",
       "    }\n",
       "\n",
       "    .dataframe tbody tr th {\n",
       "        vertical-align: top;\n",
       "    }\n",
       "\n",
       "    .dataframe thead th {\n",
       "        text-align: right;\n",
       "    }\n",
       "</style>\n",
       "<table border=\"1\" class=\"dataframe\">\n",
       "  <thead>\n",
       "    <tr style=\"text-align: right;\">\n",
       "      <th></th>\n",
       "      <th>offer_id</th>\n",
       "      <th>image_uri</th>\n",
       "      <th>is_bathroom</th>\n",
       "      <th>is_kitchen</th>\n",
       "    </tr>\n",
       "  </thead>\n",
       "  <tbody>\n",
       "    <tr>\n",
       "      <th>count</th>\n",
       "      <td>9033</td>\n",
       "      <td>9033</td>\n",
       "      <td>9033</td>\n",
       "      <td>9033</td>\n",
       "    </tr>\n",
       "    <tr>\n",
       "      <th>unique</th>\n",
       "      <td>6628</td>\n",
       "      <td>9033</td>\n",
       "      <td>1</td>\n",
       "      <td>1</td>\n",
       "    </tr>\n",
       "    <tr>\n",
       "      <th>top</th>\n",
       "      <td>2374ad24e384f22ce772b43d91daa90fbeffe04e87bf2d...</td>\n",
       "      <td>ba619b78794ec24145dcc35a58b3739513b54e12.jpg</td>\n",
       "      <td>True</td>\n",
       "      <td>False</td>\n",
       "    </tr>\n",
       "    <tr>\n",
       "      <th>freq</th>\n",
       "      <td>5</td>\n",
       "      <td>1</td>\n",
       "      <td>9033</td>\n",
       "      <td>9033</td>\n",
       "    </tr>\n",
       "  </tbody>\n",
       "</table>\n",
       "</div>"
      ],
      "text/plain": [
       "                                                 offer_id  \\\n",
       "count                                                9033   \n",
       "unique                                               6628   \n",
       "top     2374ad24e384f22ce772b43d91daa90fbeffe04e87bf2d...   \n",
       "freq                                                    5   \n",
       "\n",
       "                                           image_uri is_bathroom is_kitchen  \n",
       "count                                           9033        9033       9033  \n",
       "unique                                          9033           1          1  \n",
       "top     ba619b78794ec24145dcc35a58b3739513b54e12.jpg        True      False  \n",
       "freq                                               1        9033       9033  "
      ]
     },
     "execution_count": 12,
     "metadata": {},
     "output_type": "execute_result"
    }
   ],
   "source": [
    "# Creating a df with only bathroom pictures\n",
    "df_baths = df.loc[df['is_bathroom'] == True]\n",
    "df_baths.describe()\n"
   ]
  },
  {
   "cell_type": "code",
   "execution_count": 13,
   "metadata": {},
   "outputs": [
    {
     "data": {
      "image/png": "[encoded data removed]",
      "text/plain": [
       "<Figure size 432x288 with 1 Axes>"
      ]
     },
     "metadata": {
      "needs_background": "light"
     },
     "output_type": "display_data"
    }
   ],
   "source": [
    "# Amount of bathroom pictures per apartments\n",
    "baths_hist = df_baths['offer_id'].value_counts()\n",
    "plt.hist(baths_hist)\n",
    "None\n"
   ]
  },
  {
   "cell_type": "code",
   "execution_count": 14,
   "metadata": {},
   "outputs": [
    {
     "data": {
      "text/html": [
       "<div>\n",
       "<style scoped>\n",
       "    .dataframe tbody tr th:only-of-type {\n",
       "        vertical-align: middle;\n",
       "    }\n",
       "\n",
       "    .dataframe tbody tr th {\n",
       "        vertical-align: top;\n",
       "    }\n",
       "\n",
       "    .dataframe thead th {\n",
       "        text-align: right;\n",
       "    }\n",
       "</style>\n",
       "<table border=\"1\" class=\"dataframe\">\n",
       "  <thead>\n",
       "    <tr style=\"text-align: right;\">\n",
       "      <th></th>\n",
       "      <th>offer_id</th>\n",
       "      <th>image_uri</th>\n",
       "      <th>is_bathroom</th>\n",
       "      <th>is_kitchen</th>\n",
       "    </tr>\n",
       "  </thead>\n",
       "  <tbody>\n",
       "    <tr>\n",
       "      <th>count</th>\n",
       "      <td>6439</td>\n",
       "      <td>6439</td>\n",
       "      <td>6439</td>\n",
       "      <td>6439</td>\n",
       "    </tr>\n",
       "    <tr>\n",
       "      <th>unique</th>\n",
       "      <td>5708</td>\n",
       "      <td>6439</td>\n",
       "      <td>1</td>\n",
       "      <td>1</td>\n",
       "    </tr>\n",
       "    <tr>\n",
       "      <th>top</th>\n",
       "      <td>bbc263062d0ed755d0ead8a5844a5cc7250a72cc069cea...</td>\n",
       "      <td>8382ffe4a4deb847569d2c620c1eda4d086c7059.jpg</td>\n",
       "      <td>False</td>\n",
       "      <td>True</td>\n",
       "    </tr>\n",
       "    <tr>\n",
       "      <th>freq</th>\n",
       "      <td>3</td>\n",
       "      <td>1</td>\n",
       "      <td>6439</td>\n",
       "      <td>6439</td>\n",
       "    </tr>\n",
       "  </tbody>\n",
       "</table>\n",
       "</div>"
      ],
      "text/plain": [
       "                                                 offer_id  \\\n",
       "count                                                6439   \n",
       "unique                                               5708   \n",
       "top     bbc263062d0ed755d0ead8a5844a5cc7250a72cc069cea...   \n",
       "freq                                                    3   \n",
       "\n",
       "                                           image_uri is_bathroom is_kitchen  \n",
       "count                                           6439        6439       6439  \n",
       "unique                                          6439           1          1  \n",
       "top     8382ffe4a4deb847569d2c620c1eda4d086c7059.jpg       False       True  \n",
       "freq                                               1        6439       6439  "
      ]
     },
     "execution_count": 14,
     "metadata": {},
     "output_type": "execute_result"
    }
   ],
   "source": [
    "# Creating a df with only kitchen pictures\n",
    "df_kits = df.loc[df['is_kitchen'] == True]\n",
    "df_kits.describe()\n"
   ]
  },
  {
   "cell_type": "code",
   "execution_count": 15,
   "metadata": {},
   "outputs": [
    {
     "data": {
      "image/png": "[encoded data removed]",
      "text/plain": [
       "<Figure size 432x288 with 1 Axes>"
      ]
     },
     "metadata": {
      "needs_background": "light"
     },
     "output_type": "display_data"
    }
   ],
   "source": [
    "# Amount of kitchen pictures per apartments\n",
    "kits_hist = df_kits['offer_id'].value_counts()\n",
    "plt.hist(kits_hist)\n",
    "None\n"
   ]
  },
  {
   "cell_type": "code",
   "execution_count": 16,
   "metadata": {},
   "outputs": [],
   "source": [
    "df = df.reset_index()\n"
   ]
  },
  {
   "cell_type": "markdown",
   "metadata": {},
   "source": [
    "### Separating pictures into baths and kits folders"
   ]
  },
  {
   "cell_type": "code",
   "execution_count": 17,
   "metadata": {},
   "outputs": [],
   "source": [
    "base = './Data/data/annotations_dated/20190706'\n",
    "\n",
    "for i in range(df.shape[0]):\n",
    "    if os.path.isfile(os.path.join(base, 'imgs_kitchen_bathroom', df['image_uri'][i])): \n",
    "        if df['is_bathroom'][i]:\n",
    "            shutil.move(os.path.join(base, 'imgs_kitchen_bathroom', df['image_uri'][i]),\n",
    "                       os.path.join(base, 'room-type', 'bath', df['image_uri'][i]))\n",
    "        if df['is_kitchen'][i]:\n",
    "            shutil.move(os.path.join(base, 'imgs_kitchen_bathroom', df['image_uri'][i]),\n",
    "                       os.path.join(base, 'room-type', 'kit', df['image_uri'][i]))\n"
   ]
  },
  {
   "cell_type": "code",
   "execution_count": 18,
   "metadata": {},
   "outputs": [
    {
     "data": {
      "text/html": [
       "<div>\n",
       "<style scoped>\n",
       "    .dataframe tbody tr th:only-of-type {\n",
       "        vertical-align: middle;\n",
       "    }\n",
       "\n",
       "    .dataframe tbody tr th {\n",
       "        vertical-align: top;\n",
       "    }\n",
       "\n",
       "    .dataframe thead th {\n",
       "        text-align: right;\n",
       "    }\n",
       "</style>\n",
       "<table border=\"1\" class=\"dataframe\">\n",
       "  <thead>\n",
       "    <tr style=\"text-align: right;\">\n",
       "      <th></th>\n",
       "      <th>index</th>\n",
       "      <th>offer_id</th>\n",
       "      <th>image_uri</th>\n",
       "      <th>is_bathroom</th>\n",
       "      <th>is_kitchen</th>\n",
       "    </tr>\n",
       "  </thead>\n",
       "  <tbody>\n",
       "    <tr>\n",
       "      <th>0</th>\n",
       "      <td>0</td>\n",
       "      <td>b83f41472477768f787fcdaba791bf0aa6d58e88afb5f2...</td>\n",
       "      <td>b6bfdb5a67ebc75b3fe8610f3e28e8e5d9644d6f.jpg</td>\n",
       "      <td>False</td>\n",
       "      <td>True</td>\n",
       "    </tr>\n",
       "    <tr>\n",
       "      <th>1</th>\n",
       "      <td>1</td>\n",
       "      <td>b83f41472477768f787fcdaba791bf0aa6d58e88afb5f2...</td>\n",
       "      <td>17933fb4be872590c54b2a41024bbae3e4adc858.jpg</td>\n",
       "      <td>True</td>\n",
       "      <td>False</td>\n",
       "    </tr>\n",
       "    <tr>\n",
       "      <th>2</th>\n",
       "      <td>2</td>\n",
       "      <td>77514404db0d645f607c928b59188d2ad6a615ba2118dd...</td>\n",
       "      <td>homegateOnline_5e26b6d96b1f231d69cdbd8ce2d401b...</td>\n",
       "      <td>True</td>\n",
       "      <td>False</td>\n",
       "    </tr>\n",
       "    <tr>\n",
       "      <th>3</th>\n",
       "      <td>3</td>\n",
       "      <td>77514404db0d645f607c928b59188d2ad6a615ba2118dd...</td>\n",
       "      <td>homegateOnline_5e26b6d96b1f231d69cdbd8ce2d401b...</td>\n",
       "      <td>True</td>\n",
       "      <td>False</td>\n",
       "    </tr>\n",
       "    <tr>\n",
       "      <th>4</th>\n",
       "      <td>4</td>\n",
       "      <td>bacdfaea1480adbed3a54505e3eefdd87f91300565852a...</td>\n",
       "      <td>fe973a0b2612a55a331558d3f8d1ffa676becb9e.jpg</td>\n",
       "      <td>True</td>\n",
       "      <td>False</td>\n",
       "    </tr>\n",
       "  </tbody>\n",
       "</table>\n",
       "</div>"
      ],
      "text/plain": [
       "   index                                           offer_id  \\\n",
       "0      0  b83f41472477768f787fcdaba791bf0aa6d58e88afb5f2...   \n",
       "1      1  b83f41472477768f787fcdaba791bf0aa6d58e88afb5f2...   \n",
       "2      2  77514404db0d645f607c928b59188d2ad6a615ba2118dd...   \n",
       "3      3  77514404db0d645f607c928b59188d2ad6a615ba2118dd...   \n",
       "4      4  bacdfaea1480adbed3a54505e3eefdd87f91300565852a...   \n",
       "\n",
       "                                           image_uri  is_bathroom  is_kitchen  \n",
       "0       b6bfdb5a67ebc75b3fe8610f3e28e8e5d9644d6f.jpg        False        True  \n",
       "1       17933fb4be872590c54b2a41024bbae3e4adc858.jpg         True       False  \n",
       "2  homegateOnline_5e26b6d96b1f231d69cdbd8ce2d401b...         True       False  \n",
       "3  homegateOnline_5e26b6d96b1f231d69cdbd8ce2d401b...         True       False  \n",
       "4       fe973a0b2612a55a331558d3f8d1ffa676becb9e.jpg         True       False  "
      ]
     },
     "execution_count": 18,
     "metadata": {},
     "output_type": "execute_result"
    }
   ],
   "source": [
    "df.head()"
   ]
  },
  {
   "cell_type": "markdown",
   "metadata": {},
   "source": [
    "### Adding classification to dataframe"
   ]
  },
  {
   "cell_type": "code",
   "execution_count": 19,
   "metadata": {},
   "outputs": [],
   "source": [
    "df[\"class\"] = \"\"\n"
   ]
  },
  {
   "cell_type": "code",
   "execution_count": 20,
   "metadata": {},
   "outputs": [
    {
     "data": {
      "text/html": [
       "<div>\n",
       "<style scoped>\n",
       "    .dataframe tbody tr th:only-of-type {\n",
       "        vertical-align: middle;\n",
       "    }\n",
       "\n",
       "    .dataframe tbody tr th {\n",
       "        vertical-align: top;\n",
       "    }\n",
       "\n",
       "    .dataframe thead th {\n",
       "        text-align: right;\n",
       "    }\n",
       "</style>\n",
       "<table border=\"1\" class=\"dataframe\">\n",
       "  <thead>\n",
       "    <tr style=\"text-align: right;\">\n",
       "      <th></th>\n",
       "      <th>index</th>\n",
       "      <th>offer_id</th>\n",
       "      <th>image_uri</th>\n",
       "      <th>is_bathroom</th>\n",
       "      <th>is_kitchen</th>\n",
       "      <th>class</th>\n",
       "    </tr>\n",
       "  </thead>\n",
       "  <tbody>\n",
       "    <tr>\n",
       "      <th>0</th>\n",
       "      <td>0</td>\n",
       "      <td>b83f41472477768f787fcdaba791bf0aa6d58e88afb5f2...</td>\n",
       "      <td>b6bfdb5a67ebc75b3fe8610f3e28e8e5d9644d6f.jpg</td>\n",
       "      <td>False</td>\n",
       "      <td>True</td>\n",
       "      <td></td>\n",
       "    </tr>\n",
       "    <tr>\n",
       "      <th>1</th>\n",
       "      <td>1</td>\n",
       "      <td>b83f41472477768f787fcdaba791bf0aa6d58e88afb5f2...</td>\n",
       "      <td>17933fb4be872590c54b2a41024bbae3e4adc858.jpg</td>\n",
       "      <td>True</td>\n",
       "      <td>False</td>\n",
       "      <td></td>\n",
       "    </tr>\n",
       "    <tr>\n",
       "      <th>2</th>\n",
       "      <td>2</td>\n",
       "      <td>77514404db0d645f607c928b59188d2ad6a615ba2118dd...</td>\n",
       "      <td>homegateOnline_5e26b6d96b1f231d69cdbd8ce2d401b...</td>\n",
       "      <td>True</td>\n",
       "      <td>False</td>\n",
       "      <td></td>\n",
       "    </tr>\n",
       "    <tr>\n",
       "      <th>3</th>\n",
       "      <td>3</td>\n",
       "      <td>77514404db0d645f607c928b59188d2ad6a615ba2118dd...</td>\n",
       "      <td>homegateOnline_5e26b6d96b1f231d69cdbd8ce2d401b...</td>\n",
       "      <td>True</td>\n",
       "      <td>False</td>\n",
       "      <td></td>\n",
       "    </tr>\n",
       "    <tr>\n",
       "      <th>4</th>\n",
       "      <td>4</td>\n",
       "      <td>bacdfaea1480adbed3a54505e3eefdd87f91300565852a...</td>\n",
       "      <td>fe973a0b2612a55a331558d3f8d1ffa676becb9e.jpg</td>\n",
       "      <td>True</td>\n",
       "      <td>False</td>\n",
       "      <td></td>\n",
       "    </tr>\n",
       "  </tbody>\n",
       "</table>\n",
       "</div>"
      ],
      "text/plain": [
       "   index                                           offer_id  \\\n",
       "0      0  b83f41472477768f787fcdaba791bf0aa6d58e88afb5f2...   \n",
       "1      1  b83f41472477768f787fcdaba791bf0aa6d58e88afb5f2...   \n",
       "2      2  77514404db0d645f607c928b59188d2ad6a615ba2118dd...   \n",
       "3      3  77514404db0d645f607c928b59188d2ad6a615ba2118dd...   \n",
       "4      4  bacdfaea1480adbed3a54505e3eefdd87f91300565852a...   \n",
       "\n",
       "                                           image_uri  is_bathroom  is_kitchen  \\\n",
       "0       b6bfdb5a67ebc75b3fe8610f3e28e8e5d9644d6f.jpg        False        True   \n",
       "1       17933fb4be872590c54b2a41024bbae3e4adc858.jpg         True       False   \n",
       "2  homegateOnline_5e26b6d96b1f231d69cdbd8ce2d401b...         True       False   \n",
       "3  homegateOnline_5e26b6d96b1f231d69cdbd8ce2d401b...         True       False   \n",
       "4       fe973a0b2612a55a331558d3f8d1ffa676becb9e.jpg         True       False   \n",
       "\n",
       "  class  \n",
       "0        \n",
       "1        \n",
       "2        \n",
       "3        \n",
       "4        "
      ]
     },
     "execution_count": 20,
     "metadata": {},
     "output_type": "execute_result"
    }
   ],
   "source": [
    "df.head()\n"
   ]
  },
  {
   "cell_type": "code",
   "execution_count": 21,
   "metadata": {},
   "outputs": [
    {
     "name": "stderr",
     "output_type": "stream",
     "text": [
      "/Users/acallil/anaconda3/lib/python3.7/site-packages/pandas/core/indexing.py:190: SettingWithCopyWarning: \n",
      "A value is trying to be set on a copy of a slice from a DataFrame\n",
      "\n",
      "See the caveats in the documentation: http://pandas.pydata.org/pandas-docs/stable/indexing.html#indexing-view-versus-copy\n",
      "  self._setitem_with_indexer(indexer, value)\n"
     ]
    }
   ],
   "source": [
    "top_bath = os.listdir('/Users/acallil/Desktop/Andre/Studies/Propulsion/Project/Data/data/annotations_dated/20190706/room-type/classification/bath/top-bath')\n",
    "\n",
    "for file in top_bath:\n",
    "    df['class'].loc[df['image_uri'] == file] = 1\n"
   ]
  },
  {
   "cell_type": "code",
   "execution_count": 22,
   "metadata": {},
   "outputs": [],
   "source": [
    "normal_bath = os.listdir('/Users/acallil/Desktop/Andre/Studies/Propulsion/Project/Data/data/annotations_dated/20190706/room-type/classification/bath/normal-bath')\n",
    "\n",
    "for file in normal_bath:\n",
    "    df['class'].loc[df['image_uri'] == file] = 2\n",
    "    "
   ]
  },
  {
   "cell_type": "code",
   "execution_count": 23,
   "metadata": {},
   "outputs": [],
   "source": [
    "simple_bath = os.listdir('/Users/acallil/Desktop/Andre/Studies/Propulsion/Project/Data/data/annotations_dated/20190706/room-type/classification/bath/simple-bath')\n",
    "\n",
    "for file in simple_bath:\n",
    "    df['class'].loc[df['image_uri'] == file] = 3\n"
   ]
  },
  {
   "cell_type": "code",
   "execution_count": 24,
   "metadata": {},
   "outputs": [],
   "source": [
    "top_kit = os.listdir('/Users/acallil/Desktop/Andre/Studies/Propulsion/Project/Data/data/annotations_dated/20190706/room-type/classification/kit/top-kit')\n",
    "\n",
    "for file in top_kit:\n",
    "    df['class'].loc[df['image_uri'] == file] = 1\n",
    "    "
   ]
  },
  {
   "cell_type": "code",
   "execution_count": 25,
   "metadata": {},
   "outputs": [],
   "source": [
    "normal_kit = os.listdir('/Users/acallil/Desktop/Andre/Studies/Propulsion/Project/Data/data/annotations_dated/20190706/room-type/classification/kit/normal-kit')\n",
    "\n",
    "for file in normal_kit:\n",
    "    df['class'].loc[df['image_uri'] == file] = 2\n",
    "    "
   ]
  },
  {
   "cell_type": "code",
   "execution_count": 26,
   "metadata": {},
   "outputs": [],
   "source": [
    "simple_kit = os.listdir('/Users/acallil/Desktop/Andre/Studies/Propulsion/Project/Data/data/annotations_dated/20190706/room-type/classification/kit/simple-kit')\n",
    "\n",
    "for file in simple_kit:\n",
    "    df['class'].loc[df['image_uri'] == file] = 3\n",
    "    "
   ]
  },
  {
   "cell_type": "code",
   "execution_count": 27,
   "metadata": {},
   "outputs": [
    {
     "data": {
      "text/html": [
       "<div>\n",
       "<style scoped>\n",
       "    .dataframe tbody tr th:only-of-type {\n",
       "        vertical-align: middle;\n",
       "    }\n",
       "\n",
       "    .dataframe tbody tr th {\n",
       "        vertical-align: top;\n",
       "    }\n",
       "\n",
       "    .dataframe thead th {\n",
       "        text-align: right;\n",
       "    }\n",
       "</style>\n",
       "<table border=\"1\" class=\"dataframe\">\n",
       "  <thead>\n",
       "    <tr style=\"text-align: right;\">\n",
       "      <th></th>\n",
       "      <th>index</th>\n",
       "      <th>offer_id</th>\n",
       "      <th>image_uri</th>\n",
       "      <th>is_bathroom</th>\n",
       "      <th>is_kitchen</th>\n",
       "      <th>class</th>\n",
       "    </tr>\n",
       "  </thead>\n",
       "  <tbody>\n",
       "    <tr>\n",
       "      <th>0</th>\n",
       "      <td>1</td>\n",
       "      <td>b83f41472477768f787fcdaba791bf0aa6d58e88afb5f2...</td>\n",
       "      <td>17933fb4be872590c54b2a41024bbae3e4adc858.jpg</td>\n",
       "      <td>True</td>\n",
       "      <td>False</td>\n",
       "      <td>3</td>\n",
       "    </tr>\n",
       "    <tr>\n",
       "      <th>1</th>\n",
       "      <td>2</td>\n",
       "      <td>77514404db0d645f607c928b59188d2ad6a615ba2118dd...</td>\n",
       "      <td>homegateOnline_5e26b6d96b1f231d69cdbd8ce2d401b...</td>\n",
       "      <td>True</td>\n",
       "      <td>False</td>\n",
       "      <td></td>\n",
       "    </tr>\n",
       "    <tr>\n",
       "      <th>2</th>\n",
       "      <td>3</td>\n",
       "      <td>77514404db0d645f607c928b59188d2ad6a615ba2118dd...</td>\n",
       "      <td>homegateOnline_5e26b6d96b1f231d69cdbd8ce2d401b...</td>\n",
       "      <td>True</td>\n",
       "      <td>False</td>\n",
       "      <td></td>\n",
       "    </tr>\n",
       "    <tr>\n",
       "      <th>3</th>\n",
       "      <td>4</td>\n",
       "      <td>bacdfaea1480adbed3a54505e3eefdd87f91300565852a...</td>\n",
       "      <td>fe973a0b2612a55a331558d3f8d1ffa676becb9e.jpg</td>\n",
       "      <td>True</td>\n",
       "      <td>False</td>\n",
       "      <td></td>\n",
       "    </tr>\n",
       "    <tr>\n",
       "      <th>4</th>\n",
       "      <td>6</td>\n",
       "      <td>00bd7a80b42815726d208786050e4212303f2ec6c30717...</td>\n",
       "      <td>immoscout_8a33fd5323c6751be285d0b0aac72d248823...</td>\n",
       "      <td>True</td>\n",
       "      <td>False</td>\n",
       "      <td>3</td>\n",
       "    </tr>\n",
       "  </tbody>\n",
       "</table>\n",
       "</div>"
      ],
      "text/plain": [
       "   index                                           offer_id  \\\n",
       "0      1  b83f41472477768f787fcdaba791bf0aa6d58e88afb5f2...   \n",
       "1      2  77514404db0d645f607c928b59188d2ad6a615ba2118dd...   \n",
       "2      3  77514404db0d645f607c928b59188d2ad6a615ba2118dd...   \n",
       "3      4  bacdfaea1480adbed3a54505e3eefdd87f91300565852a...   \n",
       "4      6  00bd7a80b42815726d208786050e4212303f2ec6c30717...   \n",
       "\n",
       "                                           image_uri  is_bathroom  is_kitchen  \\\n",
       "0       17933fb4be872590c54b2a41024bbae3e4adc858.jpg         True       False   \n",
       "1  homegateOnline_5e26b6d96b1f231d69cdbd8ce2d401b...         True       False   \n",
       "2  homegateOnline_5e26b6d96b1f231d69cdbd8ce2d401b...         True       False   \n",
       "3       fe973a0b2612a55a331558d3f8d1ffa676becb9e.jpg         True       False   \n",
       "4  immoscout_8a33fd5323c6751be285d0b0aac72d248823...         True       False   \n",
       "\n",
       "  class  \n",
       "0     3  \n",
       "1        \n",
       "2        \n",
       "3        \n",
       "4     3  "
      ]
     },
     "execution_count": 27,
     "metadata": {},
     "output_type": "execute_result"
    }
   ],
   "source": [
    "df_baths = df[df['is_bathroom']==True]\n",
    "df_baths = df_baths.reset_index(drop=True)\n",
    "df_baths.head()\n"
   ]
  },
  {
   "cell_type": "code",
   "execution_count": 28,
   "metadata": {},
   "outputs": [
    {
     "data": {
      "text/plain": [
       "     6663\n",
       "2    1237\n",
       "1     567\n",
       "3     566\n",
       "Name: class, dtype: int64"
      ]
     },
     "execution_count": 28,
     "metadata": {},
     "output_type": "execute_result"
    }
   ],
   "source": [
    "df_baths['class'].value_counts()\n"
   ]
  },
  {
   "cell_type": "code",
   "execution_count": 29,
   "metadata": {},
   "outputs": [
    {
     "data": {
      "text/html": [
       "<div>\n",
       "<style scoped>\n",
       "    .dataframe tbody tr th:only-of-type {\n",
       "        vertical-align: middle;\n",
       "    }\n",
       "\n",
       "    .dataframe tbody tr th {\n",
       "        vertical-align: top;\n",
       "    }\n",
       "\n",
       "    .dataframe thead th {\n",
       "        text-align: right;\n",
       "    }\n",
       "</style>\n",
       "<table border=\"1\" class=\"dataframe\">\n",
       "  <thead>\n",
       "    <tr style=\"text-align: right;\">\n",
       "      <th></th>\n",
       "      <th>index</th>\n",
       "      <th>offer_id</th>\n",
       "      <th>image_uri</th>\n",
       "      <th>is_bathroom</th>\n",
       "      <th>is_kitchen</th>\n",
       "      <th>class</th>\n",
       "    </tr>\n",
       "  </thead>\n",
       "  <tbody>\n",
       "    <tr>\n",
       "      <th>0</th>\n",
       "      <td>0</td>\n",
       "      <td>b83f41472477768f787fcdaba791bf0aa6d58e88afb5f2...</td>\n",
       "      <td>b6bfdb5a67ebc75b3fe8610f3e28e8e5d9644d6f.jpg</td>\n",
       "      <td>False</td>\n",
       "      <td>True</td>\n",
       "      <td></td>\n",
       "    </tr>\n",
       "    <tr>\n",
       "      <th>1</th>\n",
       "      <td>5</td>\n",
       "      <td>0259302e5b357c9a5f07373f1e73963abffdafcfec14cb...</td>\n",
       "      <td>immoscout_d45a5162b26833a3431867fe3e3f337b10b7...</td>\n",
       "      <td>False</td>\n",
       "      <td>True</td>\n",
       "      <td></td>\n",
       "    </tr>\n",
       "    <tr>\n",
       "      <th>2</th>\n",
       "      <td>7</td>\n",
       "      <td>00bd7a80b42815726d208786050e4212303f2ec6c30717...</td>\n",
       "      <td>immoscout_8a33fd5323c6751be285d0b0aac72d248823...</td>\n",
       "      <td>False</td>\n",
       "      <td>True</td>\n",
       "      <td>3</td>\n",
       "    </tr>\n",
       "    <tr>\n",
       "      <th>3</th>\n",
       "      <td>8</td>\n",
       "      <td>b9881b8c4b58a1c209c61d6dcc2b31fbf8dd8e24626344...</td>\n",
       "      <td>homegateOnline_47e2914389de3c080907b7aa4fea69a...</td>\n",
       "      <td>False</td>\n",
       "      <td>True</td>\n",
       "      <td>3</td>\n",
       "    </tr>\n",
       "    <tr>\n",
       "      <th>4</th>\n",
       "      <td>12</td>\n",
       "      <td>717e391296dce480affe430c064ed7ae8d66c527bc4d60...</td>\n",
       "      <td>newhome_a90ad72684e521293b391115f7643a158cc664...</td>\n",
       "      <td>False</td>\n",
       "      <td>True</td>\n",
       "      <td>3</td>\n",
       "    </tr>\n",
       "  </tbody>\n",
       "</table>\n",
       "</div>"
      ],
      "text/plain": [
       "   index                                           offer_id  \\\n",
       "0      0  b83f41472477768f787fcdaba791bf0aa6d58e88afb5f2...   \n",
       "1      5  0259302e5b357c9a5f07373f1e73963abffdafcfec14cb...   \n",
       "2      7  00bd7a80b42815726d208786050e4212303f2ec6c30717...   \n",
       "3      8  b9881b8c4b58a1c209c61d6dcc2b31fbf8dd8e24626344...   \n",
       "4     12  717e391296dce480affe430c064ed7ae8d66c527bc4d60...   \n",
       "\n",
       "                                           image_uri  is_bathroom  is_kitchen  \\\n",
       "0       b6bfdb5a67ebc75b3fe8610f3e28e8e5d9644d6f.jpg        False        True   \n",
       "1  immoscout_d45a5162b26833a3431867fe3e3f337b10b7...        False        True   \n",
       "2  immoscout_8a33fd5323c6751be285d0b0aac72d248823...        False        True   \n",
       "3  homegateOnline_47e2914389de3c080907b7aa4fea69a...        False        True   \n",
       "4  newhome_a90ad72684e521293b391115f7643a158cc664...        False        True   \n",
       "\n",
       "  class  \n",
       "0        \n",
       "1        \n",
       "2     3  \n",
       "3     3  \n",
       "4     3  "
      ]
     },
     "execution_count": 29,
     "metadata": {},
     "output_type": "execute_result"
    }
   ],
   "source": [
    "df_kits = df[df['is_kitchen']==True]\n",
    "df_kits = df_kits.reset_index(drop=True)\n",
    "df_kits.head()\n"
   ]
  },
  {
   "cell_type": "code",
   "execution_count": 30,
   "metadata": {},
   "outputs": [
    {
     "data": {
      "text/plain": [
       "     4442\n",
       "2     865\n",
       "1     569\n",
       "3     563\n",
       "Name: class, dtype: int64"
      ]
     },
     "execution_count": 30,
     "metadata": {},
     "output_type": "execute_result"
    }
   ],
   "source": [
    "df_kits['class'].value_counts()\n"
   ]
  },
  {
   "cell_type": "markdown",
   "metadata": {},
   "source": [
    "## Code to easily label pictures and move to its respective folder"
   ]
  },
  {
   "cell_type": "code",
   "execution_count": 31,
   "metadata": {},
   "outputs": [],
   "source": [
    "import os\n",
    "import numpy as np\n",
    "import pandas as pd\n",
    "\n",
    "# to access folder, get random image\n",
    "import random, os \n",
    "from os import listdir\n",
    "from random import choice\n",
    "\n",
    "from IPython.display import display, Image # display image inline\n",
    "\n",
    "from IPython.display import clear_output # clear user input, refresh image"
   ]
  },
  {
   "cell_type": "code",
   "execution_count": 32,
   "metadata": {},
   "outputs": [
    {
     "name": "stdout",
     "output_type": "stream",
     "text": [
      "immoscout_e5e438ea1c3260b67726ee58b7f9dd0da400b389_img-4_04.06.2016-19.22.23.png\n"
     ]
    },
    {
     "data": {
      "image/png": "[encoded data removed]",
      "text/plain": [
       "<IPython.core.display.Image object>"
      ]
     },
     "metadata": {},
     "output_type": "display_data"
    }
   ],
   "source": [
    "# this code displays a random image from the folder\n",
    "\n",
    "ext2conttype = {\"jpg\": \"image/jpeg\",\n",
    "                \"jpeg\": \"image/jpeg\",\n",
    "                \"png\": \"image/png\"}\n",
    "\n",
    "def content_type(filename):\n",
    "    return ext2conttype[filename[filename.rfind(\".\")+1:].lower()]\n",
    "\n",
    "def isimage(filename):\n",
    "    \"\"\"true if the filename's extension is in the content-type lookup\"\"\"\n",
    "    filename = filename.lower()\n",
    "    return filename[filename.rfind(\".\")+1:] in ext2conttype\n",
    "\n",
    "def random_file(dir):\n",
    "    \"\"\"returns the filename of a randomly chosen image in dir\"\"\"\n",
    "    images = [f for f in listdir(dir) if isimage(f)]\n",
    "    return choice(images)\n",
    "\n",
    "if __name__ == \"__main__\":\n",
    "    dir = '/Users/acallil/Desktop/Andre/Studies/Propulsion/Project/Data/data/annotations_dated/20190706/room-type/bath/'\n",
    "    r = random_file(dir)\n",
    "    #print(\"Content-type: %s\\n\" % (content_type(r)))\n",
    "    #Image(open(dir+r, \"rb\").read())\n",
    "    print(r)\n",
    "    display(Image(data=dir, filename=(dir+r)))\n",
    "    "
   ]
  },
  {
   "cell_type": "code",
   "execution_count": 33,
   "metadata": {},
   "outputs": [
    {
     "data": {
      "text/html": [
       "<div>\n",
       "<style scoped>\n",
       "    .dataframe tbody tr th:only-of-type {\n",
       "        vertical-align: middle;\n",
       "    }\n",
       "\n",
       "    .dataframe tbody tr th {\n",
       "        vertical-align: top;\n",
       "    }\n",
       "\n",
       "    .dataframe thead th {\n",
       "        text-align: right;\n",
       "    }\n",
       "</style>\n",
       "<table border=\"1\" class=\"dataframe\">\n",
       "  <thead>\n",
       "    <tr style=\"text-align: right;\">\n",
       "      <th></th>\n",
       "      <th>index</th>\n",
       "      <th>offer_id</th>\n",
       "      <th>image_uri</th>\n",
       "      <th>is_bathroom</th>\n",
       "      <th>is_kitchen</th>\n",
       "      <th>class</th>\n",
       "    </tr>\n",
       "  </thead>\n",
       "  <tbody>\n",
       "    <tr>\n",
       "      <th>0</th>\n",
       "      <td>0</td>\n",
       "      <td>b83f41472477768f787fcdaba791bf0aa6d58e88afb5f2...</td>\n",
       "      <td>b6bfdb5a67ebc75b3fe8610f3e28e8e5d9644d6f.jpg</td>\n",
       "      <td>False</td>\n",
       "      <td>True</td>\n",
       "      <td></td>\n",
       "    </tr>\n",
       "    <tr>\n",
       "      <th>1</th>\n",
       "      <td>5</td>\n",
       "      <td>0259302e5b357c9a5f07373f1e73963abffdafcfec14cb...</td>\n",
       "      <td>immoscout_d45a5162b26833a3431867fe3e3f337b10b7...</td>\n",
       "      <td>False</td>\n",
       "      <td>True</td>\n",
       "      <td></td>\n",
       "    </tr>\n",
       "    <tr>\n",
       "      <th>2</th>\n",
       "      <td>7</td>\n",
       "      <td>00bd7a80b42815726d208786050e4212303f2ec6c30717...</td>\n",
       "      <td>immoscout_8a33fd5323c6751be285d0b0aac72d248823...</td>\n",
       "      <td>False</td>\n",
       "      <td>True</td>\n",
       "      <td>3</td>\n",
       "    </tr>\n",
       "    <tr>\n",
       "      <th>3</th>\n",
       "      <td>8</td>\n",
       "      <td>b9881b8c4b58a1c209c61d6dcc2b31fbf8dd8e24626344...</td>\n",
       "      <td>homegateOnline_47e2914389de3c080907b7aa4fea69a...</td>\n",
       "      <td>False</td>\n",
       "      <td>True</td>\n",
       "      <td>3</td>\n",
       "    </tr>\n",
       "    <tr>\n",
       "      <th>4</th>\n",
       "      <td>12</td>\n",
       "      <td>717e391296dce480affe430c064ed7ae8d66c527bc4d60...</td>\n",
       "      <td>newhome_a90ad72684e521293b391115f7643a158cc664...</td>\n",
       "      <td>False</td>\n",
       "      <td>True</td>\n",
       "      <td>3</td>\n",
       "    </tr>\n",
       "  </tbody>\n",
       "</table>\n",
       "</div>"
      ],
      "text/plain": [
       "   index                                           offer_id  \\\n",
       "0      0  b83f41472477768f787fcdaba791bf0aa6d58e88afb5f2...   \n",
       "1      5  0259302e5b357c9a5f07373f1e73963abffdafcfec14cb...   \n",
       "2      7  00bd7a80b42815726d208786050e4212303f2ec6c30717...   \n",
       "3      8  b9881b8c4b58a1c209c61d6dcc2b31fbf8dd8e24626344...   \n",
       "4     12  717e391296dce480affe430c064ed7ae8d66c527bc4d60...   \n",
       "\n",
       "                                           image_uri  is_bathroom  is_kitchen  \\\n",
       "0       b6bfdb5a67ebc75b3fe8610f3e28e8e5d9644d6f.jpg        False        True   \n",
       "1  immoscout_d45a5162b26833a3431867fe3e3f337b10b7...        False        True   \n",
       "2  immoscout_8a33fd5323c6751be285d0b0aac72d248823...        False        True   \n",
       "3  homegateOnline_47e2914389de3c080907b7aa4fea69a...        False        True   \n",
       "4  newhome_a90ad72684e521293b391115f7643a158cc664...        False        True   \n",
       "\n",
       "  class  \n",
       "0        \n",
       "1        \n",
       "2     3  \n",
       "3     3  \n",
       "4     3  "
      ]
     },
     "execution_count": 33,
     "metadata": {},
     "output_type": "execute_result"
    }
   ],
   "source": [
    "# load most recent table\n",
    "df_kits.head()"
   ]
  },
  {
   "cell_type": "code",
   "execution_count": 43,
   "metadata": {},
   "outputs": [
    {
     "data": {
      "text/plain": [
       "     4442\n",
       "2     865\n",
       "1     569\n",
       "3     563\n",
       "Name: class, dtype: int64"
      ]
     },
     "execution_count": 43,
     "metadata": {},
     "output_type": "execute_result"
    }
   ],
   "source": [
    "df_kits['class'].value_counts()"
   ]
  },
  {
   "cell_type": "code",
   "execution_count": 54,
   "metadata": {},
   "outputs": [],
   "source": [
    "imag = []\n",
    "bath = []"
   ]
  },
  {
   "cell_type": "code",
   "execution_count": 55,
   "metadata": {},
   "outputs": [
    {
     "name": "stdout",
     "output_type": "stream",
     "text": [
      "<class 'pandas.core.frame.DataFrame'>\n",
      "Index: 0 entries\n",
      "Data columns (total 2 columns):\n",
      "image_uri    0 non-null object\n",
      "class        0 non-null object\n",
      "dtypes: object(2)\n",
      "memory usage: 0.0+ bytes\n"
     ]
    }
   ],
   "source": [
    "class_baths_df = pd.DataFrame(list(zip(imag, bath)), \n",
    "               columns =['image_uri', 'class']) \n",
    "class_baths_df['class'].astype(float)\n",
    "class_baths_df.info()\n"
   ]
  },
  {
   "cell_type": "code",
   "execution_count": null,
   "metadata": {},
   "outputs": [
    {
     "name": "stdout",
     "output_type": "stream",
     "text": [
      "homegateOnline_7315d854a78119407519d4c093241cf62c040b6c_img-6_19.04.2017-15.56.42.png\n"
     ]
    },
    {
     "data": {
      "image/png": "[encoded data removed]",
      "text/plain": [
       "<IPython.core.display.Image object>"
      ]
     },
     "metadata": {},
     "output_type": "display_data"
    }
   ],
   "source": [
    "for i in range(150):\n",
    "    clear_output()\n",
    "    dir = \"/Users/acallil/Desktop/Andre/Studies/Propulsion/Project/Data/data/annotations_dated/20190706/room-type/bath/\"\n",
    "    r = random_file(dir)\n",
    "\n",
    "    print(r)\n",
    "    display(Image(data=dir, filename=(dir+r)))\n",
    "    variable = int(input())\n",
    "\n",
    "\n",
    "    bath.append(variable)\n",
    "    imag.append(r)\n",
    "    "
   ]
  },
  {
   "cell_type": "code",
   "execution_count": null,
   "metadata": {},
   "outputs": [],
   "source": [
    "base = \"/Users/acallil/Desktop/Andre/Studies/Propulsion/Project/Data/data/annotations_dated/20190706/room-type/\"\n",
    "\n",
    "for i in range(class_baths_df.shape[0]):\n",
    "    current_file_path = os.path.join(base, 'bath', class_baths_df['image_uri'][i])\n",
    "    if os.path.isfile(current_file_path):\n",
    "        if class_baths_df['class'][i] == 1:\n",
    "            shutil.move(current_file_path,\n",
    "            os.path.join(base, 'classification', 'bath', 'top-bath', 'new', class_baths_df['image_uri'][i]))\n",
    "        if class_baths_df['class'][i] == 3:\n",
    "            shutil.move(current_file_path,\n",
    "            os.path.join(base, 'classification', 'bath', 'simple-bath', 'new', class_baths_df['image_uri'][i]))\n",
    "        if class_baths_df['class'][i] == 4:\n",
    "            shutil.move(current_file_path,\n",
    "            os.path.join(base, 'classification', 'bath', 'delete', class_baths_df['image_uri'][i]))\n"
   ]
  },
  {
   "cell_type": "code",
   "execution_count": null,
   "metadata": {},
   "outputs": [],
   "source": [
    "'''base = '../Data/data/annotations_dated/20190706/room-type/'\n",
    "\n",
    "for i in range(class_baths_df.shape[0]):\n",
    "    current_file_path = os.path.join(base, 'bath', class_baths_df['image_uri'][i])\n",
    "    if os.path.isfile(current_file_path):\n",
    "        if class_baths_df['class'][i] == 1:\n",
    "            shutil.move(current_file_path,\n",
    "            os.path.join(base, 'classification', 'bath', 'top-bath', class_baths_df['image_uri'][i]))\n",
    "        if class_baths_df['class'][i] == 2:\n",
    "            shutil.move(current_file_path,\n",
    "            os.path.join(base, 'classification', 'bath', 'normal-bath', class_baths_df['image_uri'][i]))\n",
    "        if class_baths_df['class'][i] == 3:\n",
    "            shutil.move(current_file_path,\n",
    "            os.path.join(base, 'classification', 'bath', 'simple-bath', class_baths_df['image_uri'][i]))\n",
    "        if class_baths_df['class'][i] == 4:\n",
    "            shutil.move(current_file_path,\n",
    "            os.path.join(base, 'classification', class_baths_df['image_uri'][i]))'''"
   ]
  },
  {
   "cell_type": "code",
   "execution_count": 36,
   "metadata": {},
   "outputs": [],
   "source": [
    "img = []\n",
    "kit = []"
   ]
  },
  {
   "cell_type": "code",
   "execution_count": 46,
   "metadata": {},
   "outputs": [
    {
     "name": "stdout",
     "output_type": "stream",
     "text": [
      "<class 'pandas.core.frame.DataFrame'>\n",
      "RangeIndex: 336 entries, 0 to 335\n",
      "Data columns (total 2 columns):\n",
      "image_uri    336 non-null object\n",
      "class        336 non-null int64\n",
      "dtypes: int64(1), object(1)\n",
      "memory usage: 5.3+ KB\n"
     ]
    }
   ],
   "source": [
    "class_kits_df = pd.DataFrame(list(zip(img, kit)), \n",
    "               columns =['image_uri', 'class']) \n",
    "class_kits_df['class'].astype(float)\n",
    "class_kits_df.info()\n"
   ]
  },
  {
   "cell_type": "code",
   "execution_count": 53,
   "metadata": {},
   "outputs": [],
   "source": [
    "base = \"/Users/acallil/Desktop/Andre/Studies/Propulsion/Project/Data/data/annotations_dated/20190706/room-type/\"\n",
    "\n",
    "for i in range(class_kits_df.shape[0]):\n",
    "    current_file_path = os.path.join(base, 'kit', class_kits_df['image_uri'][i])\n",
    "    if os.path.isfile(current_file_path):\n",
    "        if class_kits_df['class'][i] == 1:\n",
    "            shutil.move(current_file_path,\n",
    "            os.path.join(base, 'classification', 'kit', 'top-kit', 'new', class_kits_df['image_uri'][i]))\n",
    "        if class_kits_df['class'][i] == 3:\n",
    "            shutil.move(current_file_path,\n",
    "            os.path.join(base, 'classification', 'kit', 'simple-kit', 'new', class_kits_df['image_uri'][i]))\n",
    "        if class_kits_df['class'][i] == 4:\n",
    "            shutil.move(current_file_path,\n",
    "            os.path.join(base, 'classification', 'kit', 'delete', class_kits_df['image_uri'][i]))\n",
    "            "
   ]
  },
  {
   "cell_type": "code",
   "execution_count": 52,
   "metadata": {},
   "outputs": [
    {
     "name": "stdout",
     "output_type": "stream",
     "text": [
      "f5cf6ad2969d4d50d5d65d86ad65dc14dda62f53.jpg\n"
     ]
    },
    {
     "data": {
      "image/jpeg": "[encoded data removed]",
      "text/plain": [
       "<IPython.core.display.Image object>"
      ]
     },
     "metadata": {},
     "output_type": "display_data"
    },
    {
     "name": "stdout",
     "output_type": "stream",
     "text": [
      "\n"
     ]
    },
    {
     "ename": "ValueError",
     "evalue": "invalid literal for int() with base 10: ''",
     "output_type": "error",
     "traceback": [
      "\u001b[0;31m---------------------------------------------------------------------------\u001b[0m",
      "\u001b[0;31mValueError\u001b[0m                                Traceback (most recent call last)",
      "\u001b[0;32m<ipython-input-52-4fd749b86e5d>\u001b[0m in \u001b[0;36m<module>\u001b[0;34m\u001b[0m\n\u001b[1;32m      6\u001b[0m     \u001b[0mprint\u001b[0m\u001b[0;34m(\u001b[0m\u001b[0mr\u001b[0m\u001b[0;34m)\u001b[0m\u001b[0;34m\u001b[0m\u001b[0;34m\u001b[0m\u001b[0m\n\u001b[1;32m      7\u001b[0m     \u001b[0mdisplay\u001b[0m\u001b[0;34m(\u001b[0m\u001b[0mImage\u001b[0m\u001b[0;34m(\u001b[0m\u001b[0mdata\u001b[0m\u001b[0;34m=\u001b[0m\u001b[0mdir\u001b[0m\u001b[0;34m,\u001b[0m \u001b[0mfilename\u001b[0m\u001b[0;34m=\u001b[0m\u001b[0;34m(\u001b[0m\u001b[0mdir\u001b[0m\u001b[0;34m+\u001b[0m\u001b[0mr\u001b[0m\u001b[0;34m)\u001b[0m\u001b[0;34m)\u001b[0m\u001b[0;34m)\u001b[0m\u001b[0;34m\u001b[0m\u001b[0;34m\u001b[0m\u001b[0m\n\u001b[0;32m----> 8\u001b[0;31m     \u001b[0mvariable\u001b[0m \u001b[0;34m=\u001b[0m \u001b[0mint\u001b[0m\u001b[0;34m(\u001b[0m\u001b[0minput\u001b[0m\u001b[0;34m(\u001b[0m\u001b[0;34m)\u001b[0m\u001b[0;34m)\u001b[0m\u001b[0;34m\u001b[0m\u001b[0;34m\u001b[0m\u001b[0m\n\u001b[0m\u001b[1;32m      9\u001b[0m     \u001b[0mkit\u001b[0m\u001b[0;34m.\u001b[0m\u001b[0mappend\u001b[0m\u001b[0;34m(\u001b[0m\u001b[0mvariable\u001b[0m\u001b[0;34m)\u001b[0m\u001b[0;34m\u001b[0m\u001b[0;34m\u001b[0m\u001b[0m\n\u001b[1;32m     10\u001b[0m     \u001b[0mimg\u001b[0m\u001b[0;34m.\u001b[0m\u001b[0mappend\u001b[0m\u001b[0;34m(\u001b[0m\u001b[0mr\u001b[0m\u001b[0;34m)\u001b[0m\u001b[0;34m\u001b[0m\u001b[0;34m\u001b[0m\u001b[0m\n",
      "\u001b[0;31mValueError\u001b[0m: invalid literal for int() with base 10: ''"
     ]
    }
   ],
   "source": [
    "for i in range(250):\n",
    "    clear_output()\n",
    "    dir = \"/Users/acallil/Desktop/Andre/Studies/Propulsion/Project/Data/data/annotations_dated/20190706/room-type/kit/\"\n",
    "    r = random_file(dir)\n",
    "\n",
    "    print(r)\n",
    "    display(Image(data=dir, filename=(dir+r)))\n",
    "    variable = int(input())\n",
    "    kit.append(variable)\n",
    "    img.append(r)\n",
    "    "
   ]
  },
  {
   "cell_type": "code",
   "execution_count": null,
   "metadata": {},
   "outputs": [],
   "source": []
  }
 ],
 "metadata": {
  "kernelspec": {
   "display_name": "Python 3",
   "language": "python",
   "name": "python3"
  },
  "language_info": {
   "codemirror_mode": {
    "name": "ipython",
    "version": 3
   },
   "file_extension": ".py",
   "mimetype": "text/x-python",
   "name": "python",
   "nbconvert_exporter": "python",
   "pygments_lexer": "ipython3",
   "version": "3.7.3"
  }
 },
 "nbformat": 4,
 "nbformat_minor": 2
}
