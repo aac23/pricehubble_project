{
 "cells": [
  {
   "cell_type": "markdown",
   "metadata": {},
   "source": [
    "### André Callil\n",
    "### PriceHubble Project"
   ]
  },
  {
   "cell_type": "code",
   "execution_count": 206,
   "metadata": {},
   "outputs": [],
   "source": [
    "import pandas as pd\n",
    "import numpy as np\n",
    "import matplotlib\n",
    "%matplotlib inline\n",
    "import os\n",
    "import shutil\n",
    "import matplotlib.pyplot as plt\n"
   ]
  },
  {
   "cell_type": "markdown",
   "metadata": {},
   "source": [
    "### Data Cleaning & Exploration"
   ]
  },
  {
   "cell_type": "code",
   "execution_count": 207,
   "metadata": {},
   "outputs": [],
   "source": [
    "df = pd.read_csv('/Users/acallil/Desktop/Andre/Studies/Propulsion/Project/Data/imgs_kitchen_bathroom.csv')\n"
   ]
  },
  {
   "cell_type": "code",
   "execution_count": 208,
   "metadata": {
    "scrolled": true
   },
   "outputs": [
    {
     "data": {
      "text/html": [
       "<div>\n",
       "<style scoped>\n",
       "    .dataframe tbody tr th:only-of-type {\n",
       "        vertical-align: middle;\n",
       "    }\n",
       "\n",
       "    .dataframe tbody tr th {\n",
       "        vertical-align: top;\n",
       "    }\n",
       "\n",
       "    .dataframe thead th {\n",
       "        text-align: right;\n",
       "    }\n",
       "</style>\n",
       "<table border=\"1\" class=\"dataframe\">\n",
       "  <thead>\n",
       "    <tr style=\"text-align: right;\">\n",
       "      <th></th>\n",
       "      <th>offer_id</th>\n",
       "      <th>image_uri</th>\n",
       "      <th>is_bathroom</th>\n",
       "      <th>is_kitchen</th>\n",
       "    </tr>\n",
       "  </thead>\n",
       "  <tbody>\n",
       "    <tr>\n",
       "      <th>0</th>\n",
       "      <td>b83f41472477768f787fcdaba791bf0aa6d58e88afb5f2...</td>\n",
       "      <td>b6bfdb5a67ebc75b3fe8610f3e28e8e5d9644d6f.jpg</td>\n",
       "      <td>False</td>\n",
       "      <td>True</td>\n",
       "    </tr>\n",
       "    <tr>\n",
       "      <th>1</th>\n",
       "      <td>b83f41472477768f787fcdaba791bf0aa6d58e88afb5f2...</td>\n",
       "      <td>17933fb4be872590c54b2a41024bbae3e4adc858.jpg</td>\n",
       "      <td>True</td>\n",
       "      <td>False</td>\n",
       "    </tr>\n",
       "    <tr>\n",
       "      <th>2</th>\n",
       "      <td>77514404db0d645f607c928b59188d2ad6a615ba2118dd...</td>\n",
       "      <td>homegateOnline_5e26b6d96b1f231d69cdbd8ce2d401b...</td>\n",
       "      <td>True</td>\n",
       "      <td>False</td>\n",
       "    </tr>\n",
       "    <tr>\n",
       "      <th>3</th>\n",
       "      <td>77514404db0d645f607c928b59188d2ad6a615ba2118dd...</td>\n",
       "      <td>homegateOnline_5e26b6d96b1f231d69cdbd8ce2d401b...</td>\n",
       "      <td>True</td>\n",
       "      <td>False</td>\n",
       "    </tr>\n",
       "    <tr>\n",
       "      <th>4</th>\n",
       "      <td>bacdfaea1480adbed3a54505e3eefdd87f91300565852a...</td>\n",
       "      <td>fe973a0b2612a55a331558d3f8d1ffa676becb9e.jpg</td>\n",
       "      <td>True</td>\n",
       "      <td>False</td>\n",
       "    </tr>\n",
       "  </tbody>\n",
       "</table>\n",
       "</div>"
      ],
      "text/plain": [
       "                                            offer_id  \\\n",
       "0  b83f41472477768f787fcdaba791bf0aa6d58e88afb5f2...   \n",
       "1  b83f41472477768f787fcdaba791bf0aa6d58e88afb5f2...   \n",
       "2  77514404db0d645f607c928b59188d2ad6a615ba2118dd...   \n",
       "3  77514404db0d645f607c928b59188d2ad6a615ba2118dd...   \n",
       "4  bacdfaea1480adbed3a54505e3eefdd87f91300565852a...   \n",
       "\n",
       "                                           image_uri  is_bathroom  is_kitchen  \n",
       "0       b6bfdb5a67ebc75b3fe8610f3e28e8e5d9644d6f.jpg        False        True  \n",
       "1       17933fb4be872590c54b2a41024bbae3e4adc858.jpg         True       False  \n",
       "2  homegateOnline_5e26b6d96b1f231d69cdbd8ce2d401b...         True       False  \n",
       "3  homegateOnline_5e26b6d96b1f231d69cdbd8ce2d401b...         True       False  \n",
       "4       fe973a0b2612a55a331558d3f8d1ffa676becb9e.jpg         True       False  "
      ]
     },
     "execution_count": 208,
     "metadata": {},
     "output_type": "execute_result"
    }
   ],
   "source": [
    "df.head()\n"
   ]
  },
  {
   "cell_type": "code",
   "execution_count": 209,
   "metadata": {},
   "outputs": [
    {
     "data": {
      "text/plain": [
       "offer_id       0\n",
       "image_uri      0\n",
       "is_bathroom    0\n",
       "is_kitchen     0\n",
       "dtype: int64"
      ]
     },
     "execution_count": 209,
     "metadata": {},
     "output_type": "execute_result"
    }
   ],
   "source": [
    "df.isnull().sum()\n"
   ]
  },
  {
   "cell_type": "code",
   "execution_count": 210,
   "metadata": {},
   "outputs": [
    {
     "data": {
      "text/plain": [
       "15560"
      ]
     },
     "execution_count": 210,
     "metadata": {},
     "output_type": "execute_result"
    }
   ],
   "source": [
    "len(df)\n"
   ]
  },
  {
   "cell_type": "code",
   "execution_count": 211,
   "metadata": {},
   "outputs": [
    {
     "data": {
      "text/plain": [
       "21"
      ]
     },
     "execution_count": 211,
     "metadata": {},
     "output_type": "execute_result"
    }
   ],
   "source": [
    "# Images labeled as both bathroom and kitchen\n",
    "true_df = df[((df['is_bathroom'] == True) & (df['is_kitchen'] == True))]\n",
    "len(true_df)\n"
   ]
  },
  {
   "cell_type": "code",
   "execution_count": 212,
   "metadata": {},
   "outputs": [
    {
     "data": {
      "text/plain": [
       "0"
      ]
     },
     "execution_count": 212,
     "metadata": {},
     "output_type": "execute_result"
    }
   ],
   "source": [
    "# Images labeled as none bathroom nor kitchen\n",
    "false_df = df[((df['is_bathroom'] == False) & (df['is_kitchen'] == False))]\n",
    "len(false_df)\n"
   ]
  },
  {
   "cell_type": "code",
   "execution_count": 213,
   "metadata": {},
   "outputs": [
    {
     "data": {
      "text/plain": [
       "15493"
      ]
     },
     "execution_count": 213,
     "metadata": {},
     "output_type": "execute_result"
    }
   ],
   "source": [
    "# Drop image label duplicates\n",
    "df = df.drop_duplicates(subset=['image_uri'])\n",
    "len(df)\n"
   ]
  },
  {
   "cell_type": "code",
   "execution_count": 214,
   "metadata": {},
   "outputs": [
    {
     "data": {
      "text/plain": [
       "15472"
      ]
     },
     "execution_count": 214,
     "metadata": {},
     "output_type": "execute_result"
    }
   ],
   "source": [
    "# Drop images labeled as both bathroom and kitchen\n",
    "df = df.drop(true_df.index.tolist())\n",
    "len(df)\n"
   ]
  },
  {
   "cell_type": "code",
   "execution_count": 215,
   "metadata": {},
   "outputs": [
    {
     "data": {
      "text/html": [
       "<div>\n",
       "<style scoped>\n",
       "    .dataframe tbody tr th:only-of-type {\n",
       "        vertical-align: middle;\n",
       "    }\n",
       "\n",
       "    .dataframe tbody tr th {\n",
       "        vertical-align: top;\n",
       "    }\n",
       "\n",
       "    .dataframe thead th {\n",
       "        text-align: right;\n",
       "    }\n",
       "</style>\n",
       "<table border=\"1\" class=\"dataframe\">\n",
       "  <thead>\n",
       "    <tr style=\"text-align: right;\">\n",
       "      <th></th>\n",
       "      <th>offer_id</th>\n",
       "      <th>image_uri</th>\n",
       "      <th>is_bathroom</th>\n",
       "      <th>is_kitchen</th>\n",
       "    </tr>\n",
       "  </thead>\n",
       "  <tbody>\n",
       "    <tr>\n",
       "      <th>count</th>\n",
       "      <td>15472</td>\n",
       "      <td>15472</td>\n",
       "      <td>15472</td>\n",
       "      <td>15472</td>\n",
       "    </tr>\n",
       "    <tr>\n",
       "      <th>unique</th>\n",
       "      <td>7500</td>\n",
       "      <td>15472</td>\n",
       "      <td>2</td>\n",
       "      <td>2</td>\n",
       "    </tr>\n",
       "    <tr>\n",
       "      <th>top</th>\n",
       "      <td>8b152f41e8e1692925c9ae64d734d86a07ab1c8b559891...</td>\n",
       "      <td>homegateOnline_06990c9382de8521ad2d317d2eda543...</td>\n",
       "      <td>True</td>\n",
       "      <td>False</td>\n",
       "    </tr>\n",
       "    <tr>\n",
       "      <th>freq</th>\n",
       "      <td>6</td>\n",
       "      <td>1</td>\n",
       "      <td>9033</td>\n",
       "      <td>9033</td>\n",
       "    </tr>\n",
       "  </tbody>\n",
       "</table>\n",
       "</div>"
      ],
      "text/plain": [
       "                                                 offer_id  \\\n",
       "count                                               15472   \n",
       "unique                                               7500   \n",
       "top     8b152f41e8e1692925c9ae64d734d86a07ab1c8b559891...   \n",
       "freq                                                    6   \n",
       "\n",
       "                                                image_uri is_bathroom  \\\n",
       "count                                               15472       15472   \n",
       "unique                                              15472           2   \n",
       "top     homegateOnline_06990c9382de8521ad2d317d2eda543...        True   \n",
       "freq                                                    1        9033   \n",
       "\n",
       "       is_kitchen  \n",
       "count       15472  \n",
       "unique          2  \n",
       "top         False  \n",
       "freq         9033  "
      ]
     },
     "execution_count": 215,
     "metadata": {},
     "output_type": "execute_result"
    }
   ],
   "source": [
    "df.describe()\n"
   ]
  },
  {
   "cell_type": "code",
   "execution_count": 216,
   "metadata": {},
   "outputs": [
    {
     "data": {
      "image/png": "[encoded data removed]",
      "text/plain": [
       "<Figure size 432x288 with 1 Axes>"
      ]
     },
     "metadata": {
      "needs_background": "light"
     },
     "output_type": "display_data"
    }
   ],
   "source": [
    "# Amount of pictures per apartment ranges from 1 to 6\n",
    "plt.hist(df['offer_id'].value_counts())\n",
    "None\n"
   ]
  },
  {
   "cell_type": "code",
   "execution_count": 217,
   "metadata": {},
   "outputs": [
    {
     "data": {
      "text/html": [
       "<div>\n",
       "<style scoped>\n",
       "    .dataframe tbody tr th:only-of-type {\n",
       "        vertical-align: middle;\n",
       "    }\n",
       "\n",
       "    .dataframe tbody tr th {\n",
       "        vertical-align: top;\n",
       "    }\n",
       "\n",
       "    .dataframe thead th {\n",
       "        text-align: right;\n",
       "    }\n",
       "</style>\n",
       "<table border=\"1\" class=\"dataframe\">\n",
       "  <thead>\n",
       "    <tr style=\"text-align: right;\">\n",
       "      <th></th>\n",
       "      <th>offer_id</th>\n",
       "      <th>image_uri</th>\n",
       "      <th>is_bathroom</th>\n",
       "      <th>is_kitchen</th>\n",
       "    </tr>\n",
       "  </thead>\n",
       "  <tbody>\n",
       "    <tr>\n",
       "      <th>count</th>\n",
       "      <td>9033</td>\n",
       "      <td>9033</td>\n",
       "      <td>9033</td>\n",
       "      <td>9033</td>\n",
       "    </tr>\n",
       "    <tr>\n",
       "      <th>unique</th>\n",
       "      <td>6628</td>\n",
       "      <td>9033</td>\n",
       "      <td>1</td>\n",
       "      <td>1</td>\n",
       "    </tr>\n",
       "    <tr>\n",
       "      <th>top</th>\n",
       "      <td>2374ad24e384f22ce772b43d91daa90fbeffe04e87bf2d...</td>\n",
       "      <td>immoscout_454792256c9a1d1f77d91d0bcf32b91e6448...</td>\n",
       "      <td>True</td>\n",
       "      <td>False</td>\n",
       "    </tr>\n",
       "    <tr>\n",
       "      <th>freq</th>\n",
       "      <td>5</td>\n",
       "      <td>1</td>\n",
       "      <td>9033</td>\n",
       "      <td>9033</td>\n",
       "    </tr>\n",
       "  </tbody>\n",
       "</table>\n",
       "</div>"
      ],
      "text/plain": [
       "                                                 offer_id  \\\n",
       "count                                                9033   \n",
       "unique                                               6628   \n",
       "top     2374ad24e384f22ce772b43d91daa90fbeffe04e87bf2d...   \n",
       "freq                                                    5   \n",
       "\n",
       "                                                image_uri is_bathroom  \\\n",
       "count                                                9033        9033   \n",
       "unique                                               9033           1   \n",
       "top     immoscout_454792256c9a1d1f77d91d0bcf32b91e6448...        True   \n",
       "freq                                                    1        9033   \n",
       "\n",
       "       is_kitchen  \n",
       "count        9033  \n",
       "unique          1  \n",
       "top         False  \n",
       "freq         9033  "
      ]
     },
     "execution_count": 217,
     "metadata": {},
     "output_type": "execute_result"
    }
   ],
   "source": [
    "# Creating a df with only bathroom pictures\n",
    "df_baths = df.loc[df['is_bathroom'] == True]\n",
    "df_baths.describe()\n"
   ]
  },
  {
   "cell_type": "code",
   "execution_count": 218,
   "metadata": {},
   "outputs": [
    {
     "data": {
      "image/png": "[encoded data removed]",
      "text/plain": [
       "<Figure size 432x288 with 1 Axes>"
      ]
     },
     "metadata": {
      "needs_background": "light"
     },
     "output_type": "display_data"
    }
   ],
   "source": [
    "# Amount of bathroom pictures per apartments\n",
    "baths_hist = df_baths['offer_id'].value_counts()\n",
    "plt.hist(baths_hist)\n",
    "None\n"
   ]
  },
  {
   "cell_type": "code",
   "execution_count": 219,
   "metadata": {},
   "outputs": [
    {
     "data": {
      "text/html": [
       "<div>\n",
       "<style scoped>\n",
       "    .dataframe tbody tr th:only-of-type {\n",
       "        vertical-align: middle;\n",
       "    }\n",
       "\n",
       "    .dataframe tbody tr th {\n",
       "        vertical-align: top;\n",
       "    }\n",
       "\n",
       "    .dataframe thead th {\n",
       "        text-align: right;\n",
       "    }\n",
       "</style>\n",
       "<table border=\"1\" class=\"dataframe\">\n",
       "  <thead>\n",
       "    <tr style=\"text-align: right;\">\n",
       "      <th></th>\n",
       "      <th>offer_id</th>\n",
       "      <th>image_uri</th>\n",
       "      <th>is_bathroom</th>\n",
       "      <th>is_kitchen</th>\n",
       "    </tr>\n",
       "  </thead>\n",
       "  <tbody>\n",
       "    <tr>\n",
       "      <th>count</th>\n",
       "      <td>6439</td>\n",
       "      <td>6439</td>\n",
       "      <td>6439</td>\n",
       "      <td>6439</td>\n",
       "    </tr>\n",
       "    <tr>\n",
       "      <th>unique</th>\n",
       "      <td>5708</td>\n",
       "      <td>6439</td>\n",
       "      <td>1</td>\n",
       "      <td>1</td>\n",
       "    </tr>\n",
       "    <tr>\n",
       "      <th>top</th>\n",
       "      <td>4e13624100d19efe077c57a3ea620709fb0f82435f63b4...</td>\n",
       "      <td>768ee98a2fbe8c143672be26280e5e8e475415d6.jpg</td>\n",
       "      <td>False</td>\n",
       "      <td>True</td>\n",
       "    </tr>\n",
       "    <tr>\n",
       "      <th>freq</th>\n",
       "      <td>3</td>\n",
       "      <td>1</td>\n",
       "      <td>6439</td>\n",
       "      <td>6439</td>\n",
       "    </tr>\n",
       "  </tbody>\n",
       "</table>\n",
       "</div>"
      ],
      "text/plain": [
       "                                                 offer_id  \\\n",
       "count                                                6439   \n",
       "unique                                               5708   \n",
       "top     4e13624100d19efe077c57a3ea620709fb0f82435f63b4...   \n",
       "freq                                                    3   \n",
       "\n",
       "                                           image_uri is_bathroom is_kitchen  \n",
       "count                                           6439        6439       6439  \n",
       "unique                                          6439           1          1  \n",
       "top     768ee98a2fbe8c143672be26280e5e8e475415d6.jpg       False       True  \n",
       "freq                                               1        6439       6439  "
      ]
     },
     "execution_count": 219,
     "metadata": {},
     "output_type": "execute_result"
    }
   ],
   "source": [
    "# Creating a df with only kitchen pictures\n",
    "df_kits = df.loc[df['is_kitchen'] == True]\n",
    "df_kits.describe()\n"
   ]
  },
  {
   "cell_type": "code",
   "execution_count": 220,
   "metadata": {},
   "outputs": [
    {
     "data": {
      "image/png": "[encoded data removed]",
      "text/plain": [
       "<Figure size 432x288 with 1 Axes>"
      ]
     },
     "metadata": {
      "needs_background": "light"
     },
     "output_type": "display_data"
    }
   ],
   "source": [
    "# Amount of kitchen pictures per apartments\n",
    "kits_hist = df_kits['offer_id'].value_counts()\n",
    "plt.hist(kits_hist)\n",
    "None\n"
   ]
  },
  {
   "cell_type": "code",
   "execution_count": 221,
   "metadata": {},
   "outputs": [],
   "source": [
    "df = df.reset_index()\n"
   ]
  },
  {
   "cell_type": "markdown",
   "metadata": {},
   "source": [
    "### Separating pictures into baths and kits folders"
   ]
  },
  {
   "cell_type": "code",
   "execution_count": 222,
   "metadata": {},
   "outputs": [],
   "source": [
    "base = './Data/data/annotations_dated/20190706'\n",
    "\n",
    "for i in range(df.shape[0]):\n",
    "    if os.path.isfile(os.path.join(base, 'imgs_kitchen_bathroom', df['image_uri'][i])): \n",
    "        if df['is_bathroom'][i]:\n",
    "            shutil.move(os.path.join(base, 'imgs_kitchen_bathroom', df['image_uri'][i]),\n",
    "                       os.path.join(base, 'room-type', 'bath', df['image_uri'][i]))\n",
    "        if df['is_kitchen'][i]:\n",
    "            shutil.move(os.path.join(base, 'imgs_kitchen_bathroom', df['image_uri'][i]),\n",
    "                       os.path.join(base, 'room-type', 'kit', df['image_uri'][i]))\n"
   ]
  },
  {
   "cell_type": "code",
   "execution_count": 223,
   "metadata": {},
   "outputs": [
    {
     "data": {
      "text/html": [
       "<div>\n",
       "<style scoped>\n",
       "    .dataframe tbody tr th:only-of-type {\n",
       "        vertical-align: middle;\n",
       "    }\n",
       "\n",
       "    .dataframe tbody tr th {\n",
       "        vertical-align: top;\n",
       "    }\n",
       "\n",
       "    .dataframe thead th {\n",
       "        text-align: right;\n",
       "    }\n",
       "</style>\n",
       "<table border=\"1\" class=\"dataframe\">\n",
       "  <thead>\n",
       "    <tr style=\"text-align: right;\">\n",
       "      <th></th>\n",
       "      <th>index</th>\n",
       "      <th>offer_id</th>\n",
       "      <th>image_uri</th>\n",
       "      <th>is_bathroom</th>\n",
       "      <th>is_kitchen</th>\n",
       "    </tr>\n",
       "  </thead>\n",
       "  <tbody>\n",
       "    <tr>\n",
       "      <th>0</th>\n",
       "      <td>0</td>\n",
       "      <td>b83f41472477768f787fcdaba791bf0aa6d58e88afb5f2...</td>\n",
       "      <td>b6bfdb5a67ebc75b3fe8610f3e28e8e5d9644d6f.jpg</td>\n",
       "      <td>False</td>\n",
       "      <td>True</td>\n",
       "    </tr>\n",
       "    <tr>\n",
       "      <th>1</th>\n",
       "      <td>1</td>\n",
       "      <td>b83f41472477768f787fcdaba791bf0aa6d58e88afb5f2...</td>\n",
       "      <td>17933fb4be872590c54b2a41024bbae3e4adc858.jpg</td>\n",
       "      <td>True</td>\n",
       "      <td>False</td>\n",
       "    </tr>\n",
       "    <tr>\n",
       "      <th>2</th>\n",
       "      <td>2</td>\n",
       "      <td>77514404db0d645f607c928b59188d2ad6a615ba2118dd...</td>\n",
       "      <td>homegateOnline_5e26b6d96b1f231d69cdbd8ce2d401b...</td>\n",
       "      <td>True</td>\n",
       "      <td>False</td>\n",
       "    </tr>\n",
       "    <tr>\n",
       "      <th>3</th>\n",
       "      <td>3</td>\n",
       "      <td>77514404db0d645f607c928b59188d2ad6a615ba2118dd...</td>\n",
       "      <td>homegateOnline_5e26b6d96b1f231d69cdbd8ce2d401b...</td>\n",
       "      <td>True</td>\n",
       "      <td>False</td>\n",
       "    </tr>\n",
       "    <tr>\n",
       "      <th>4</th>\n",
       "      <td>4</td>\n",
       "      <td>bacdfaea1480adbed3a54505e3eefdd87f91300565852a...</td>\n",
       "      <td>fe973a0b2612a55a331558d3f8d1ffa676becb9e.jpg</td>\n",
       "      <td>True</td>\n",
       "      <td>False</td>\n",
       "    </tr>\n",
       "  </tbody>\n",
       "</table>\n",
       "</div>"
      ],
      "text/plain": [
       "   index                                           offer_id  \\\n",
       "0      0  b83f41472477768f787fcdaba791bf0aa6d58e88afb5f2...   \n",
       "1      1  b83f41472477768f787fcdaba791bf0aa6d58e88afb5f2...   \n",
       "2      2  77514404db0d645f607c928b59188d2ad6a615ba2118dd...   \n",
       "3      3  77514404db0d645f607c928b59188d2ad6a615ba2118dd...   \n",
       "4      4  bacdfaea1480adbed3a54505e3eefdd87f91300565852a...   \n",
       "\n",
       "                                           image_uri  is_bathroom  is_kitchen  \n",
       "0       b6bfdb5a67ebc75b3fe8610f3e28e8e5d9644d6f.jpg        False        True  \n",
       "1       17933fb4be872590c54b2a41024bbae3e4adc858.jpg         True       False  \n",
       "2  homegateOnline_5e26b6d96b1f231d69cdbd8ce2d401b...         True       False  \n",
       "3  homegateOnline_5e26b6d96b1f231d69cdbd8ce2d401b...         True       False  \n",
       "4       fe973a0b2612a55a331558d3f8d1ffa676becb9e.jpg         True       False  "
      ]
     },
     "execution_count": 223,
     "metadata": {},
     "output_type": "execute_result"
    }
   ],
   "source": [
    "df.head()"
   ]
  },
  {
   "cell_type": "markdown",
   "metadata": {},
   "source": [
    "### Adding classification to dataframe"
   ]
  },
  {
   "cell_type": "code",
   "execution_count": 224,
   "metadata": {},
   "outputs": [],
   "source": [
    "df[\"class\"] = \"\"\n"
   ]
  },
  {
   "cell_type": "code",
   "execution_count": 225,
   "metadata": {},
   "outputs": [
    {
     "data": {
      "text/html": [
       "<div>\n",
       "<style scoped>\n",
       "    .dataframe tbody tr th:only-of-type {\n",
       "        vertical-align: middle;\n",
       "    }\n",
       "\n",
       "    .dataframe tbody tr th {\n",
       "        vertical-align: top;\n",
       "    }\n",
       "\n",
       "    .dataframe thead th {\n",
       "        text-align: right;\n",
       "    }\n",
       "</style>\n",
       "<table border=\"1\" class=\"dataframe\">\n",
       "  <thead>\n",
       "    <tr style=\"text-align: right;\">\n",
       "      <th></th>\n",
       "      <th>index</th>\n",
       "      <th>offer_id</th>\n",
       "      <th>image_uri</th>\n",
       "      <th>is_bathroom</th>\n",
       "      <th>is_kitchen</th>\n",
       "      <th>class</th>\n",
       "    </tr>\n",
       "  </thead>\n",
       "  <tbody>\n",
       "    <tr>\n",
       "      <th>0</th>\n",
       "      <td>0</td>\n",
       "      <td>b83f41472477768f787fcdaba791bf0aa6d58e88afb5f2...</td>\n",
       "      <td>b6bfdb5a67ebc75b3fe8610f3e28e8e5d9644d6f.jpg</td>\n",
       "      <td>False</td>\n",
       "      <td>True</td>\n",
       "      <td></td>\n",
       "    </tr>\n",
       "    <tr>\n",
       "      <th>1</th>\n",
       "      <td>1</td>\n",
       "      <td>b83f41472477768f787fcdaba791bf0aa6d58e88afb5f2...</td>\n",
       "      <td>17933fb4be872590c54b2a41024bbae3e4adc858.jpg</td>\n",
       "      <td>True</td>\n",
       "      <td>False</td>\n",
       "      <td></td>\n",
       "    </tr>\n",
       "    <tr>\n",
       "      <th>2</th>\n",
       "      <td>2</td>\n",
       "      <td>77514404db0d645f607c928b59188d2ad6a615ba2118dd...</td>\n",
       "      <td>homegateOnline_5e26b6d96b1f231d69cdbd8ce2d401b...</td>\n",
       "      <td>True</td>\n",
       "      <td>False</td>\n",
       "      <td></td>\n",
       "    </tr>\n",
       "    <tr>\n",
       "      <th>3</th>\n",
       "      <td>3</td>\n",
       "      <td>77514404db0d645f607c928b59188d2ad6a615ba2118dd...</td>\n",
       "      <td>homegateOnline_5e26b6d96b1f231d69cdbd8ce2d401b...</td>\n",
       "      <td>True</td>\n",
       "      <td>False</td>\n",
       "      <td></td>\n",
       "    </tr>\n",
       "    <tr>\n",
       "      <th>4</th>\n",
       "      <td>4</td>\n",
       "      <td>bacdfaea1480adbed3a54505e3eefdd87f91300565852a...</td>\n",
       "      <td>fe973a0b2612a55a331558d3f8d1ffa676becb9e.jpg</td>\n",
       "      <td>True</td>\n",
       "      <td>False</td>\n",
       "      <td></td>\n",
       "    </tr>\n",
       "  </tbody>\n",
       "</table>\n",
       "</div>"
      ],
      "text/plain": [
       "   index                                           offer_id  \\\n",
       "0      0  b83f41472477768f787fcdaba791bf0aa6d58e88afb5f2...   \n",
       "1      1  b83f41472477768f787fcdaba791bf0aa6d58e88afb5f2...   \n",
       "2      2  77514404db0d645f607c928b59188d2ad6a615ba2118dd...   \n",
       "3      3  77514404db0d645f607c928b59188d2ad6a615ba2118dd...   \n",
       "4      4  bacdfaea1480adbed3a54505e3eefdd87f91300565852a...   \n",
       "\n",
       "                                           image_uri  is_bathroom  is_kitchen  \\\n",
       "0       b6bfdb5a67ebc75b3fe8610f3e28e8e5d9644d6f.jpg        False        True   \n",
       "1       17933fb4be872590c54b2a41024bbae3e4adc858.jpg         True       False   \n",
       "2  homegateOnline_5e26b6d96b1f231d69cdbd8ce2d401b...         True       False   \n",
       "3  homegateOnline_5e26b6d96b1f231d69cdbd8ce2d401b...         True       False   \n",
       "4       fe973a0b2612a55a331558d3f8d1ffa676becb9e.jpg         True       False   \n",
       "\n",
       "  class  \n",
       "0        \n",
       "1        \n",
       "2        \n",
       "3        \n",
       "4        "
      ]
     },
     "execution_count": 225,
     "metadata": {},
     "output_type": "execute_result"
    }
   ],
   "source": [
    "df.head()\n"
   ]
  },
  {
   "cell_type": "code",
   "execution_count": 20,
   "metadata": {},
   "outputs": [
    {
     "name": "stderr",
     "output_type": "stream",
     "text": [
      "/Users/acallil/anaconda3/lib/python3.7/site-packages/pandas/core/indexing.py:190: SettingWithCopyWarning: \n",
      "A value is trying to be set on a copy of a slice from a DataFrame\n",
      "\n",
      "See the caveats in the documentation: http://pandas.pydata.org/pandas-docs/stable/indexing.html#indexing-view-versus-copy\n",
      "  self._setitem_with_indexer(indexer, value)\n"
     ]
    }
   ],
   "source": [
    "top_bath = os.listdir('/Users/acallil/Desktop/Andre/Studies/Propulsion/Project/Data/data/annotations_dated/20190706/room-type/classification/bath/top-bath')\n",
    "\n",
    "for file in top_bath:\n",
    "    df['class'].loc[df['image_uri'] == file] = 1\n"
   ]
  },
  {
   "cell_type": "code",
   "execution_count": 21,
   "metadata": {},
   "outputs": [],
   "source": [
    "normal_bath = os.listdir('/Users/acallil/Desktop/Andre/Studies/Propulsion/Project/Data/data/annotations_dated/20190706/room-type/classification/bath/normal-bath')\n",
    "\n",
    "for file in normal_bath:\n",
    "    df['class'].loc[df['image_uri'] == file] = 2\n",
    "    "
   ]
  },
  {
   "cell_type": "code",
   "execution_count": 22,
   "metadata": {},
   "outputs": [],
   "source": [
    "simple_bath = os.listdir('/Users/acallil/Desktop/Andre/Studies/Propulsion/Project/Data/data/annotations_dated/20190706/room-type/classification/bath/simple-bath')\n",
    "\n",
    "for file in simple_bath:\n",
    "    df['class'].loc[df['image_uri'] == file] = 3\n"
   ]
  },
  {
   "cell_type": "code",
   "execution_count": 33,
   "metadata": {},
   "outputs": [],
   "source": [
    "top_kit = os.listdir('/Users/acallil/Desktop/Andre/Studies/Propulsion/Project/Data/data/annotations_dated/20190706/room-type/classification/kit/top-kit')\n",
    "\n",
    "for file in top_kit:\n",
    "    df['class'].loc[df['image_uri'] == file] = 1\n",
    "    "
   ]
  },
  {
   "cell_type": "code",
   "execution_count": 34,
   "metadata": {},
   "outputs": [],
   "source": [
    "normal_kit = os.listdir('/Users/acallil/Desktop/Andre/Studies/Propulsion/Project/Data/data/annotations_dated/20190706/room-type/classification/kit/normal-kit')\n",
    "\n",
    "for file in normal_kit:\n",
    "    df['class'].loc[df['image_uri'] == file] = 2\n",
    "    "
   ]
  },
  {
   "cell_type": "code",
   "execution_count": 35,
   "metadata": {},
   "outputs": [],
   "source": [
    "simple_kit = os.listdir('/Users/acallil/Desktop/Andre/Studies/Propulsion/Project/Data/data/annotations_dated/20190706/room-type/classification/kit/simple-kit')\n",
    "\n",
    "for file in simple_kit:\n",
    "    df['class'].loc[df['image_uri'] == file] = 3\n",
    "    "
   ]
  },
  {
   "cell_type": "code",
   "execution_count": 226,
   "metadata": {},
   "outputs": [
    {
     "data": {
      "text/html": [
       "<div>\n",
       "<style scoped>\n",
       "    .dataframe tbody tr th:only-of-type {\n",
       "        vertical-align: middle;\n",
       "    }\n",
       "\n",
       "    .dataframe tbody tr th {\n",
       "        vertical-align: top;\n",
       "    }\n",
       "\n",
       "    .dataframe thead th {\n",
       "        text-align: right;\n",
       "    }\n",
       "</style>\n",
       "<table border=\"1\" class=\"dataframe\">\n",
       "  <thead>\n",
       "    <tr style=\"text-align: right;\">\n",
       "      <th></th>\n",
       "      <th>index</th>\n",
       "      <th>offer_id</th>\n",
       "      <th>image_uri</th>\n",
       "      <th>is_bathroom</th>\n",
       "      <th>is_kitchen</th>\n",
       "      <th>class</th>\n",
       "    </tr>\n",
       "  </thead>\n",
       "  <tbody>\n",
       "    <tr>\n",
       "      <th>0</th>\n",
       "      <td>1</td>\n",
       "      <td>b83f41472477768f787fcdaba791bf0aa6d58e88afb5f2...</td>\n",
       "      <td>17933fb4be872590c54b2a41024bbae3e4adc858.jpg</td>\n",
       "      <td>True</td>\n",
       "      <td>False</td>\n",
       "      <td></td>\n",
       "    </tr>\n",
       "    <tr>\n",
       "      <th>1</th>\n",
       "      <td>2</td>\n",
       "      <td>77514404db0d645f607c928b59188d2ad6a615ba2118dd...</td>\n",
       "      <td>homegateOnline_5e26b6d96b1f231d69cdbd8ce2d401b...</td>\n",
       "      <td>True</td>\n",
       "      <td>False</td>\n",
       "      <td></td>\n",
       "    </tr>\n",
       "    <tr>\n",
       "      <th>2</th>\n",
       "      <td>3</td>\n",
       "      <td>77514404db0d645f607c928b59188d2ad6a615ba2118dd...</td>\n",
       "      <td>homegateOnline_5e26b6d96b1f231d69cdbd8ce2d401b...</td>\n",
       "      <td>True</td>\n",
       "      <td>False</td>\n",
       "      <td></td>\n",
       "    </tr>\n",
       "    <tr>\n",
       "      <th>3</th>\n",
       "      <td>4</td>\n",
       "      <td>bacdfaea1480adbed3a54505e3eefdd87f91300565852a...</td>\n",
       "      <td>fe973a0b2612a55a331558d3f8d1ffa676becb9e.jpg</td>\n",
       "      <td>True</td>\n",
       "      <td>False</td>\n",
       "      <td></td>\n",
       "    </tr>\n",
       "    <tr>\n",
       "      <th>4</th>\n",
       "      <td>6</td>\n",
       "      <td>00bd7a80b42815726d208786050e4212303f2ec6c30717...</td>\n",
       "      <td>immoscout_8a33fd5323c6751be285d0b0aac72d248823...</td>\n",
       "      <td>True</td>\n",
       "      <td>False</td>\n",
       "      <td></td>\n",
       "    </tr>\n",
       "  </tbody>\n",
       "</table>\n",
       "</div>"
      ],
      "text/plain": [
       "   index                                           offer_id  \\\n",
       "0      1  b83f41472477768f787fcdaba791bf0aa6d58e88afb5f2...   \n",
       "1      2  77514404db0d645f607c928b59188d2ad6a615ba2118dd...   \n",
       "2      3  77514404db0d645f607c928b59188d2ad6a615ba2118dd...   \n",
       "3      4  bacdfaea1480adbed3a54505e3eefdd87f91300565852a...   \n",
       "4      6  00bd7a80b42815726d208786050e4212303f2ec6c30717...   \n",
       "\n",
       "                                           image_uri  is_bathroom  is_kitchen  \\\n",
       "0       17933fb4be872590c54b2a41024bbae3e4adc858.jpg         True       False   \n",
       "1  homegateOnline_5e26b6d96b1f231d69cdbd8ce2d401b...         True       False   \n",
       "2  homegateOnline_5e26b6d96b1f231d69cdbd8ce2d401b...         True       False   \n",
       "3       fe973a0b2612a55a331558d3f8d1ffa676becb9e.jpg         True       False   \n",
       "4  immoscout_8a33fd5323c6751be285d0b0aac72d248823...         True       False   \n",
       "\n",
       "  class  \n",
       "0        \n",
       "1        \n",
       "2        \n",
       "3        \n",
       "4        "
      ]
     },
     "execution_count": 226,
     "metadata": {},
     "output_type": "execute_result"
    }
   ],
   "source": [
    "df_baths = df[df['is_bathroom']==True]\n",
    "df_baths = df_baths.reset_index(drop=True)\n",
    "df_baths.head()\n"
   ]
  },
  {
   "cell_type": "code",
   "execution_count": 227,
   "metadata": {},
   "outputs": [
    {
     "data": {
      "text/plain": [
       "    9033\n",
       "Name: class, dtype: int64"
      ]
     },
     "execution_count": 227,
     "metadata": {},
     "output_type": "execute_result"
    }
   ],
   "source": [
    "df_baths['class'].value_counts()\n"
   ]
  },
  {
   "cell_type": "code",
   "execution_count": 228,
   "metadata": {},
   "outputs": [
    {
     "data": {
      "text/html": [
       "<div>\n",
       "<style scoped>\n",
       "    .dataframe tbody tr th:only-of-type {\n",
       "        vertical-align: middle;\n",
       "    }\n",
       "\n",
       "    .dataframe tbody tr th {\n",
       "        vertical-align: top;\n",
       "    }\n",
       "\n",
       "    .dataframe thead th {\n",
       "        text-align: right;\n",
       "    }\n",
       "</style>\n",
       "<table border=\"1\" class=\"dataframe\">\n",
       "  <thead>\n",
       "    <tr style=\"text-align: right;\">\n",
       "      <th></th>\n",
       "      <th>index</th>\n",
       "      <th>offer_id</th>\n",
       "      <th>image_uri</th>\n",
       "      <th>is_bathroom</th>\n",
       "      <th>is_kitchen</th>\n",
       "      <th>class</th>\n",
       "    </tr>\n",
       "  </thead>\n",
       "  <tbody>\n",
       "    <tr>\n",
       "      <th>0</th>\n",
       "      <td>0</td>\n",
       "      <td>b83f41472477768f787fcdaba791bf0aa6d58e88afb5f2...</td>\n",
       "      <td>b6bfdb5a67ebc75b3fe8610f3e28e8e5d9644d6f.jpg</td>\n",
       "      <td>False</td>\n",
       "      <td>True</td>\n",
       "      <td></td>\n",
       "    </tr>\n",
       "    <tr>\n",
       "      <th>1</th>\n",
       "      <td>5</td>\n",
       "      <td>0259302e5b357c9a5f07373f1e73963abffdafcfec14cb...</td>\n",
       "      <td>immoscout_d45a5162b26833a3431867fe3e3f337b10b7...</td>\n",
       "      <td>False</td>\n",
       "      <td>True</td>\n",
       "      <td></td>\n",
       "    </tr>\n",
       "    <tr>\n",
       "      <th>2</th>\n",
       "      <td>7</td>\n",
       "      <td>00bd7a80b42815726d208786050e4212303f2ec6c30717...</td>\n",
       "      <td>immoscout_8a33fd5323c6751be285d0b0aac72d248823...</td>\n",
       "      <td>False</td>\n",
       "      <td>True</td>\n",
       "      <td></td>\n",
       "    </tr>\n",
       "    <tr>\n",
       "      <th>3</th>\n",
       "      <td>8</td>\n",
       "      <td>b9881b8c4b58a1c209c61d6dcc2b31fbf8dd8e24626344...</td>\n",
       "      <td>homegateOnline_47e2914389de3c080907b7aa4fea69a...</td>\n",
       "      <td>False</td>\n",
       "      <td>True</td>\n",
       "      <td></td>\n",
       "    </tr>\n",
       "    <tr>\n",
       "      <th>4</th>\n",
       "      <td>12</td>\n",
       "      <td>717e391296dce480affe430c064ed7ae8d66c527bc4d60...</td>\n",
       "      <td>newhome_a90ad72684e521293b391115f7643a158cc664...</td>\n",
       "      <td>False</td>\n",
       "      <td>True</td>\n",
       "      <td></td>\n",
       "    </tr>\n",
       "  </tbody>\n",
       "</table>\n",
       "</div>"
      ],
      "text/plain": [
       "   index                                           offer_id  \\\n",
       "0      0  b83f41472477768f787fcdaba791bf0aa6d58e88afb5f2...   \n",
       "1      5  0259302e5b357c9a5f07373f1e73963abffdafcfec14cb...   \n",
       "2      7  00bd7a80b42815726d208786050e4212303f2ec6c30717...   \n",
       "3      8  b9881b8c4b58a1c209c61d6dcc2b31fbf8dd8e24626344...   \n",
       "4     12  717e391296dce480affe430c064ed7ae8d66c527bc4d60...   \n",
       "\n",
       "                                           image_uri  is_bathroom  is_kitchen  \\\n",
       "0       b6bfdb5a67ebc75b3fe8610f3e28e8e5d9644d6f.jpg        False        True   \n",
       "1  immoscout_d45a5162b26833a3431867fe3e3f337b10b7...        False        True   \n",
       "2  immoscout_8a33fd5323c6751be285d0b0aac72d248823...        False        True   \n",
       "3  homegateOnline_47e2914389de3c080907b7aa4fea69a...        False        True   \n",
       "4  newhome_a90ad72684e521293b391115f7643a158cc664...        False        True   \n",
       "\n",
       "  class  \n",
       "0        \n",
       "1        \n",
       "2        \n",
       "3        \n",
       "4        "
      ]
     },
     "execution_count": 228,
     "metadata": {},
     "output_type": "execute_result"
    }
   ],
   "source": [
    "df_kits = df[df['is_kitchen']==True]\n",
    "df_kits = df_kits.reset_index(drop=True)\n",
    "df_kits.head()\n"
   ]
  },
  {
   "cell_type": "code",
   "execution_count": 229,
   "metadata": {},
   "outputs": [
    {
     "data": {
      "text/plain": [
       "    6439\n",
       "Name: class, dtype: int64"
      ]
     },
     "execution_count": 229,
     "metadata": {},
     "output_type": "execute_result"
    }
   ],
   "source": [
    "df_kits['class'].value_counts()\n"
   ]
  },
  {
   "cell_type": "markdown",
   "metadata": {},
   "source": [
    "## Code to easily label pictures and move to its respective folder"
   ]
  },
  {
   "cell_type": "code",
   "execution_count": 230,
   "metadata": {},
   "outputs": [],
   "source": [
    "import os\n",
    "import numpy as np\n",
    "import pandas as pd\n",
    "\n",
    "# to access folder, get random image\n",
    "import random, os \n",
    "from os import listdir\n",
    "from random import choice\n",
    "\n",
    "from IPython.display import display, Image # display image inline\n",
    "\n",
    "from IPython.display import clear_output # clear user input, refresh image"
   ]
  },
  {
   "cell_type": "code",
   "execution_count": 231,
   "metadata": {},
   "outputs": [
    {
     "name": "stdout",
     "output_type": "stream",
     "text": [
      "7659f94b4d6b9b4e5a91cf6fe780606c8347a317.jpg\n"
     ]
    },
    {
     "data": {
      "image/jpeg": "[encoded data removed]",
      "text/plain": [
       "<IPython.core.display.Image object>"
      ]
     },
     "metadata": {},
     "output_type": "display_data"
    }
   ],
   "source": [
    "# this code displays a random image from the folder\n",
    "\n",
    "ext2conttype = {\"jpg\": \"image/jpeg\",\n",
    "                \"jpeg\": \"image/jpeg\",\n",
    "                \"png\": \"image/png\"}\n",
    "\n",
    "def content_type(filename):\n",
    "    return ext2conttype[filename[filename.rfind(\".\")+1:].lower()]\n",
    "\n",
    "def isimage(filename):\n",
    "    \"\"\"true if the filename's extension is in the content-type lookup\"\"\"\n",
    "    filename = filename.lower()\n",
    "    return filename[filename.rfind(\".\")+1:] in ext2conttype\n",
    "\n",
    "def random_file(dir):\n",
    "    \"\"\"returns the filename of a randomly chosen image in dir\"\"\"\n",
    "    images = [f for f in listdir(dir) if isimage(f)]\n",
    "    return choice(images)\n",
    "\n",
    "if __name__ == \"__main__\":\n",
    "    dir = '/Users/acallil/Desktop/Andre/Studies/Propulsion/Project/Data/data/annotations_dated/20190706/room-type/bath/'\n",
    "    r = random_file(dir)\n",
    "    #print(\"Content-type: %s\\n\" % (content_type(r)))\n",
    "    #Image(open(dir+r, \"rb\").read())\n",
    "    print(r)\n",
    "    display(Image(data=dir, filename=(dir+r)))\n",
    "    "
   ]
  },
  {
   "cell_type": "code",
   "execution_count": 232,
   "metadata": {},
   "outputs": [
    {
     "data": {
      "text/html": [
       "<div>\n",
       "<style scoped>\n",
       "    .dataframe tbody tr th:only-of-type {\n",
       "        vertical-align: middle;\n",
       "    }\n",
       "\n",
       "    .dataframe tbody tr th {\n",
       "        vertical-align: top;\n",
       "    }\n",
       "\n",
       "    .dataframe thead th {\n",
       "        text-align: right;\n",
       "    }\n",
       "</style>\n",
       "<table border=\"1\" class=\"dataframe\">\n",
       "  <thead>\n",
       "    <tr style=\"text-align: right;\">\n",
       "      <th></th>\n",
       "      <th>index</th>\n",
       "      <th>offer_id</th>\n",
       "      <th>image_uri</th>\n",
       "      <th>is_bathroom</th>\n",
       "      <th>is_kitchen</th>\n",
       "      <th>class</th>\n",
       "    </tr>\n",
       "  </thead>\n",
       "  <tbody>\n",
       "    <tr>\n",
       "      <th>0</th>\n",
       "      <td>0</td>\n",
       "      <td>b83f41472477768f787fcdaba791bf0aa6d58e88afb5f2...</td>\n",
       "      <td>b6bfdb5a67ebc75b3fe8610f3e28e8e5d9644d6f.jpg</td>\n",
       "      <td>False</td>\n",
       "      <td>True</td>\n",
       "      <td></td>\n",
       "    </tr>\n",
       "    <tr>\n",
       "      <th>1</th>\n",
       "      <td>5</td>\n",
       "      <td>0259302e5b357c9a5f07373f1e73963abffdafcfec14cb...</td>\n",
       "      <td>immoscout_d45a5162b26833a3431867fe3e3f337b10b7...</td>\n",
       "      <td>False</td>\n",
       "      <td>True</td>\n",
       "      <td></td>\n",
       "    </tr>\n",
       "    <tr>\n",
       "      <th>2</th>\n",
       "      <td>7</td>\n",
       "      <td>00bd7a80b42815726d208786050e4212303f2ec6c30717...</td>\n",
       "      <td>immoscout_8a33fd5323c6751be285d0b0aac72d248823...</td>\n",
       "      <td>False</td>\n",
       "      <td>True</td>\n",
       "      <td></td>\n",
       "    </tr>\n",
       "    <tr>\n",
       "      <th>3</th>\n",
       "      <td>8</td>\n",
       "      <td>b9881b8c4b58a1c209c61d6dcc2b31fbf8dd8e24626344...</td>\n",
       "      <td>homegateOnline_47e2914389de3c080907b7aa4fea69a...</td>\n",
       "      <td>False</td>\n",
       "      <td>True</td>\n",
       "      <td></td>\n",
       "    </tr>\n",
       "    <tr>\n",
       "      <th>4</th>\n",
       "      <td>12</td>\n",
       "      <td>717e391296dce480affe430c064ed7ae8d66c527bc4d60...</td>\n",
       "      <td>newhome_a90ad72684e521293b391115f7643a158cc664...</td>\n",
       "      <td>False</td>\n",
       "      <td>True</td>\n",
       "      <td></td>\n",
       "    </tr>\n",
       "  </tbody>\n",
       "</table>\n",
       "</div>"
      ],
      "text/plain": [
       "   index                                           offer_id  \\\n",
       "0      0  b83f41472477768f787fcdaba791bf0aa6d58e88afb5f2...   \n",
       "1      5  0259302e5b357c9a5f07373f1e73963abffdafcfec14cb...   \n",
       "2      7  00bd7a80b42815726d208786050e4212303f2ec6c30717...   \n",
       "3      8  b9881b8c4b58a1c209c61d6dcc2b31fbf8dd8e24626344...   \n",
       "4     12  717e391296dce480affe430c064ed7ae8d66c527bc4d60...   \n",
       "\n",
       "                                           image_uri  is_bathroom  is_kitchen  \\\n",
       "0       b6bfdb5a67ebc75b3fe8610f3e28e8e5d9644d6f.jpg        False        True   \n",
       "1  immoscout_d45a5162b26833a3431867fe3e3f337b10b7...        False        True   \n",
       "2  immoscout_8a33fd5323c6751be285d0b0aac72d248823...        False        True   \n",
       "3  homegateOnline_47e2914389de3c080907b7aa4fea69a...        False        True   \n",
       "4  newhome_a90ad72684e521293b391115f7643a158cc664...        False        True   \n",
       "\n",
       "  class  \n",
       "0        \n",
       "1        \n",
       "2        \n",
       "3        \n",
       "4        "
      ]
     },
     "execution_count": 232,
     "metadata": {},
     "output_type": "execute_result"
    }
   ],
   "source": [
    "# load most recent table\n",
    "df_kits.head()"
   ]
  },
  {
   "cell_type": "code",
   "execution_count": 233,
   "metadata": {},
   "outputs": [
    {
     "data": {
      "text/plain": [
       "    6439\n",
       "Name: class, dtype: int64"
      ]
     },
     "execution_count": 233,
     "metadata": {},
     "output_type": "execute_result"
    }
   ],
   "source": [
    "df_kits['class'].value_counts()"
   ]
  },
  {
   "cell_type": "code",
   "execution_count": 94,
   "metadata": {},
   "outputs": [
    {
     "data": {
      "text/html": [
       "<div>\n",
       "<style scoped>\n",
       "    .dataframe tbody tr th:only-of-type {\n",
       "        vertical-align: middle;\n",
       "    }\n",
       "\n",
       "    .dataframe tbody tr th {\n",
       "        vertical-align: top;\n",
       "    }\n",
       "\n",
       "    .dataframe thead th {\n",
       "        text-align: right;\n",
       "    }\n",
       "</style>\n",
       "<table border=\"1\" class=\"dataframe\">\n",
       "  <thead>\n",
       "    <tr style=\"text-align: right;\">\n",
       "      <th></th>\n",
       "      <th>image_uri</th>\n",
       "      <th>class</th>\n",
       "    </tr>\n",
       "  </thead>\n",
       "  <tbody>\n",
       "    <tr>\n",
       "      <th>0</th>\n",
       "      <td>59db4f8150a30eadd4f9a98fb89610fbb8031411.jpg</td>\n",
       "      <td>2</td>\n",
       "    </tr>\n",
       "    <tr>\n",
       "      <th>1</th>\n",
       "      <td>41a59501e4fb24f34e91ceb24f62ec1930e051bc.jpg</td>\n",
       "      <td>2</td>\n",
       "    </tr>\n",
       "    <tr>\n",
       "      <th>2</th>\n",
       "      <td>1a0c79e63eb6c3dfde1c2af68f7c7fc467757696.jpg</td>\n",
       "      <td>2</td>\n",
       "    </tr>\n",
       "    <tr>\n",
       "      <th>3</th>\n",
       "      <td>homegateOnline_25af3fff90e460235ba292ea66e8d50...</td>\n",
       "      <td>2</td>\n",
       "    </tr>\n",
       "    <tr>\n",
       "      <th>4</th>\n",
       "      <td>240e54713f52e8f0b7f42c9cb4476a173860d013.jpg</td>\n",
       "      <td>2</td>\n",
       "    </tr>\n",
       "  </tbody>\n",
       "</table>\n",
       "</div>"
      ],
      "text/plain": [
       "                                           image_uri  class\n",
       "0       59db4f8150a30eadd4f9a98fb89610fbb8031411.jpg      2\n",
       "1       41a59501e4fb24f34e91ceb24f62ec1930e051bc.jpg      2\n",
       "2       1a0c79e63eb6c3dfde1c2af68f7c7fc467757696.jpg      2\n",
       "3  homegateOnline_25af3fff90e460235ba292ea66e8d50...      2\n",
       "4       240e54713f52e8f0b7f42c9cb4476a173860d013.jpg      2"
      ]
     },
     "execution_count": 94,
     "metadata": {},
     "output_type": "execute_result"
    }
   ],
   "source": [
    "class_kits_df.head()"
   ]
  },
  {
   "cell_type": "code",
   "execution_count": 96,
   "metadata": {},
   "outputs": [],
   "source": [
    "imag = []\n",
    "bath = []"
   ]
  },
  {
   "cell_type": "code",
   "execution_count": 204,
   "metadata": {},
   "outputs": [
    {
     "name": "stdout",
     "output_type": "stream",
     "text": [
      "<class 'pandas.core.frame.DataFrame'>\n",
      "RangeIndex: 4622 entries, 0 to 4621\n",
      "Data columns (total 2 columns):\n",
      "image_uri    4622 non-null object\n",
      "class        4622 non-null int64\n",
      "dtypes: int64(1), object(1)\n",
      "memory usage: 72.3+ KB\n"
     ]
    }
   ],
   "source": [
    "class_baths_df = pd.DataFrame(list(zip(imag, bath)), \n",
    "               columns =['image_uri', 'class']) \n",
    "class_baths_df['class'].astype(float)\n",
    "class_baths_df.info()\n"
   ]
  },
  {
   "cell_type": "code",
   "execution_count": 203,
   "metadata": {},
   "outputs": [
    {
     "name": "stdout",
     "output_type": "stream",
     "text": [
      "8433410970a8e214e88f9b854f4f473439f81f7e.jpg\n"
     ]
    },
    {
     "data": {
      "image/jpeg": "[encoded data removed]",
      "text/plain": [
       "<IPython.core.display.Image object>"
      ]
     },
     "metadata": {},
     "output_type": "display_data"
    },
    {
     "ename": "KeyboardInterrupt",
     "evalue": "",
     "output_type": "error",
     "traceback": [
      "\u001b[0;31m---------------------------------------------------------------------------\u001b[0m",
      "\u001b[0;31mKeyboardInterrupt\u001b[0m                         Traceback (most recent call last)",
      "\u001b[0;32m~/anaconda3/lib/python3.7/site-packages/ipykernel/kernelbase.py\u001b[0m in \u001b[0;36m_input_request\u001b[0;34m(self, prompt, ident, parent, password)\u001b[0m\n\u001b[1;32m    877\u001b[0m             \u001b[0;32mtry\u001b[0m\u001b[0;34m:\u001b[0m\u001b[0;34m\u001b[0m\u001b[0;34m\u001b[0m\u001b[0m\n\u001b[0;32m--> 878\u001b[0;31m                 \u001b[0mident\u001b[0m\u001b[0;34m,\u001b[0m \u001b[0mreply\u001b[0m \u001b[0;34m=\u001b[0m \u001b[0mself\u001b[0m\u001b[0;34m.\u001b[0m\u001b[0msession\u001b[0m\u001b[0;34m.\u001b[0m\u001b[0mrecv\u001b[0m\u001b[0;34m(\u001b[0m\u001b[0mself\u001b[0m\u001b[0;34m.\u001b[0m\u001b[0mstdin_socket\u001b[0m\u001b[0;34m,\u001b[0m \u001b[0;36m0\u001b[0m\u001b[0;34m)\u001b[0m\u001b[0;34m\u001b[0m\u001b[0;34m\u001b[0m\u001b[0m\n\u001b[0m\u001b[1;32m    879\u001b[0m             \u001b[0;32mexcept\u001b[0m \u001b[0mException\u001b[0m\u001b[0;34m:\u001b[0m\u001b[0;34m\u001b[0m\u001b[0;34m\u001b[0m\u001b[0m\n",
      "\u001b[0;32m~/anaconda3/lib/python3.7/site-packages/jupyter_client/session.py\u001b[0m in \u001b[0;36mrecv\u001b[0;34m(self, socket, mode, content, copy)\u001b[0m\n\u001b[1;32m    802\u001b[0m         \u001b[0;32mtry\u001b[0m\u001b[0;34m:\u001b[0m\u001b[0;34m\u001b[0m\u001b[0;34m\u001b[0m\u001b[0m\n\u001b[0;32m--> 803\u001b[0;31m             \u001b[0mmsg_list\u001b[0m \u001b[0;34m=\u001b[0m \u001b[0msocket\u001b[0m\u001b[0;34m.\u001b[0m\u001b[0mrecv_multipart\u001b[0m\u001b[0;34m(\u001b[0m\u001b[0mmode\u001b[0m\u001b[0;34m,\u001b[0m \u001b[0mcopy\u001b[0m\u001b[0;34m=\u001b[0m\u001b[0mcopy\u001b[0m\u001b[0;34m)\u001b[0m\u001b[0;34m\u001b[0m\u001b[0;34m\u001b[0m\u001b[0m\n\u001b[0m\u001b[1;32m    804\u001b[0m         \u001b[0;32mexcept\u001b[0m \u001b[0mzmq\u001b[0m\u001b[0;34m.\u001b[0m\u001b[0mZMQError\u001b[0m \u001b[0;32mas\u001b[0m \u001b[0me\u001b[0m\u001b[0;34m:\u001b[0m\u001b[0;34m\u001b[0m\u001b[0;34m\u001b[0m\u001b[0m\n",
      "\u001b[0;32m~/anaconda3/lib/python3.7/site-packages/zmq/sugar/socket.py\u001b[0m in \u001b[0;36mrecv_multipart\u001b[0;34m(self, flags, copy, track)\u001b[0m\n\u001b[1;32m    469\u001b[0m         \"\"\"\n\u001b[0;32m--> 470\u001b[0;31m         \u001b[0mparts\u001b[0m \u001b[0;34m=\u001b[0m \u001b[0;34m[\u001b[0m\u001b[0mself\u001b[0m\u001b[0;34m.\u001b[0m\u001b[0mrecv\u001b[0m\u001b[0;34m(\u001b[0m\u001b[0mflags\u001b[0m\u001b[0;34m,\u001b[0m \u001b[0mcopy\u001b[0m\u001b[0;34m=\u001b[0m\u001b[0mcopy\u001b[0m\u001b[0;34m,\u001b[0m \u001b[0mtrack\u001b[0m\u001b[0;34m=\u001b[0m\u001b[0mtrack\u001b[0m\u001b[0;34m)\u001b[0m\u001b[0;34m]\u001b[0m\u001b[0;34m\u001b[0m\u001b[0;34m\u001b[0m\u001b[0m\n\u001b[0m\u001b[1;32m    471\u001b[0m         \u001b[0;31m# have first part already, only loop while more to receive\u001b[0m\u001b[0;34m\u001b[0m\u001b[0;34m\u001b[0m\u001b[0;34m\u001b[0m\u001b[0m\n",
      "\u001b[0;32mzmq/backend/cython/socket.pyx\u001b[0m in \u001b[0;36mzmq.backend.cython.socket.Socket.recv\u001b[0;34m()\u001b[0m\n",
      "\u001b[0;32mzmq/backend/cython/socket.pyx\u001b[0m in \u001b[0;36mzmq.backend.cython.socket.Socket.recv\u001b[0;34m()\u001b[0m\n",
      "\u001b[0;32mzmq/backend/cython/socket.pyx\u001b[0m in \u001b[0;36mzmq.backend.cython.socket._recv_copy\u001b[0;34m()\u001b[0m\n",
      "\u001b[0;32m~/anaconda3/lib/python3.7/site-packages/zmq/backend/cython/checkrc.pxd\u001b[0m in \u001b[0;36mzmq.backend.cython.checkrc._check_rc\u001b[0;34m()\u001b[0m\n",
      "\u001b[0;31mKeyboardInterrupt\u001b[0m: ",
      "\nDuring handling of the above exception, another exception occurred:\n",
      "\u001b[0;31mKeyboardInterrupt\u001b[0m                         Traceback (most recent call last)",
      "\u001b[0;32m<ipython-input-203-ccb9a6608d51>\u001b[0m in \u001b[0;36m<module>\u001b[0;34m\u001b[0m\n\u001b[1;32m      6\u001b[0m     \u001b[0mprint\u001b[0m\u001b[0;34m(\u001b[0m\u001b[0mr\u001b[0m\u001b[0;34m)\u001b[0m\u001b[0;34m\u001b[0m\u001b[0;34m\u001b[0m\u001b[0m\n\u001b[1;32m      7\u001b[0m     \u001b[0mdisplay\u001b[0m\u001b[0;34m(\u001b[0m\u001b[0mImage\u001b[0m\u001b[0;34m(\u001b[0m\u001b[0mdata\u001b[0m\u001b[0;34m=\u001b[0m\u001b[0mdir\u001b[0m\u001b[0;34m,\u001b[0m \u001b[0mfilename\u001b[0m\u001b[0;34m=\u001b[0m\u001b[0;34m(\u001b[0m\u001b[0mdir\u001b[0m\u001b[0;34m+\u001b[0m\u001b[0mr\u001b[0m\u001b[0;34m)\u001b[0m\u001b[0;34m)\u001b[0m\u001b[0;34m)\u001b[0m\u001b[0;34m\u001b[0m\u001b[0;34m\u001b[0m\u001b[0m\n\u001b[0;32m----> 8\u001b[0;31m     \u001b[0mvariable\u001b[0m \u001b[0;34m=\u001b[0m \u001b[0mint\u001b[0m\u001b[0;34m(\u001b[0m\u001b[0minput\u001b[0m\u001b[0;34m(\u001b[0m\u001b[0;34m)\u001b[0m\u001b[0;34m)\u001b[0m\u001b[0;34m\u001b[0m\u001b[0;34m\u001b[0m\u001b[0m\n\u001b[0m\u001b[1;32m      9\u001b[0m \u001b[0;34m\u001b[0m\u001b[0m\n\u001b[1;32m     10\u001b[0m     \u001b[0mbath\u001b[0m\u001b[0;34m.\u001b[0m\u001b[0mappend\u001b[0m\u001b[0;34m(\u001b[0m\u001b[0mvariable\u001b[0m\u001b[0;34m)\u001b[0m\u001b[0;34m\u001b[0m\u001b[0;34m\u001b[0m\u001b[0m\n",
      "\u001b[0;32m~/anaconda3/lib/python3.7/site-packages/ipykernel/kernelbase.py\u001b[0m in \u001b[0;36mraw_input\u001b[0;34m(self, prompt)\u001b[0m\n\u001b[1;32m    851\u001b[0m             \u001b[0mself\u001b[0m\u001b[0;34m.\u001b[0m\u001b[0m_parent_ident\u001b[0m\u001b[0;34m,\u001b[0m\u001b[0;34m\u001b[0m\u001b[0;34m\u001b[0m\u001b[0m\n\u001b[1;32m    852\u001b[0m             \u001b[0mself\u001b[0m\u001b[0;34m.\u001b[0m\u001b[0m_parent_header\u001b[0m\u001b[0;34m,\u001b[0m\u001b[0;34m\u001b[0m\u001b[0;34m\u001b[0m\u001b[0m\n\u001b[0;32m--> 853\u001b[0;31m             \u001b[0mpassword\u001b[0m\u001b[0;34m=\u001b[0m\u001b[0;32mFalse\u001b[0m\u001b[0;34m,\u001b[0m\u001b[0;34m\u001b[0m\u001b[0;34m\u001b[0m\u001b[0m\n\u001b[0m\u001b[1;32m    854\u001b[0m         )\n\u001b[1;32m    855\u001b[0m \u001b[0;34m\u001b[0m\u001b[0m\n",
      "\u001b[0;32m~/anaconda3/lib/python3.7/site-packages/ipykernel/kernelbase.py\u001b[0m in \u001b[0;36m_input_request\u001b[0;34m(self, prompt, ident, parent, password)\u001b[0m\n\u001b[1;32m    881\u001b[0m             \u001b[0;32mexcept\u001b[0m \u001b[0mKeyboardInterrupt\u001b[0m\u001b[0;34m:\u001b[0m\u001b[0;34m\u001b[0m\u001b[0;34m\u001b[0m\u001b[0m\n\u001b[1;32m    882\u001b[0m                 \u001b[0;31m# re-raise KeyboardInterrupt, to truncate traceback\u001b[0m\u001b[0;34m\u001b[0m\u001b[0;34m\u001b[0m\u001b[0;34m\u001b[0m\u001b[0m\n\u001b[0;32m--> 883\u001b[0;31m                 \u001b[0;32mraise\u001b[0m \u001b[0mKeyboardInterrupt\u001b[0m\u001b[0;34m\u001b[0m\u001b[0;34m\u001b[0m\u001b[0m\n\u001b[0m\u001b[1;32m    884\u001b[0m             \u001b[0;32melse\u001b[0m\u001b[0;34m:\u001b[0m\u001b[0;34m\u001b[0m\u001b[0;34m\u001b[0m\u001b[0m\n\u001b[1;32m    885\u001b[0m                 \u001b[0;32mbreak\u001b[0m\u001b[0;34m\u001b[0m\u001b[0;34m\u001b[0m\u001b[0m\n",
      "\u001b[0;31mKeyboardInterrupt\u001b[0m: "
     ]
    }
   ],
   "source": [
    "for i in range(150):\n",
    "    clear_output()\n",
    "    dir = \"/Users/acallil/Desktop/Andre/Studies/Propulsion/Project/Data/data/annotations_dated/20190706/room-type/bath/\"\n",
    "    r = random_file(dir)\n",
    "\n",
    "    print(r)\n",
    "    display(Image(data=dir, filename=(dir+r)))\n",
    "    variable = int(input())\n",
    "\n",
    "    bath.append(variable)\n",
    "    imag.append(r)\n",
    "    "
   ]
  },
  {
   "cell_type": "code",
   "execution_count": 205,
   "metadata": {},
   "outputs": [],
   "source": [
    "base = \"/Users/acallil/Desktop/Andre/Studies/Propulsion/Project/Data/data/annotations_dated/20190706/room-type/\"\n",
    "\n",
    "for i in range(class_baths_df.shape[0]):\n",
    "    current_file_path = os.path.join(base, 'bath', class_baths_df['image_uri'][i])\n",
    "    if os.path.isfile(current_file_path):\n",
    "        if class_baths_df['class'][i] == 1:\n",
    "            shutil.move(current_file_path,\n",
    "            os.path.join(base, 'classification', 'bath', 'top-bath', class_baths_df['image_uri'][i]))\n",
    "        if class_baths_df['class'][i] == 3:\n",
    "            shutil.move(current_file_path,\n",
    "            os.path.join(base, 'classification', 'bath', 'simple-bath', class_baths_df['image_uri'][i]))\n",
    "        if class_baths_df['class'][i] == 4:\n",
    "            shutil.move(current_file_path,\n",
    "            os.path.join(base, 'classification', 'bath', 'delete', class_baths_df['image_uri'][i]))\n"
   ]
  },
  {
   "cell_type": "code",
   "execution_count": null,
   "metadata": {},
   "outputs": [],
   "source": [
    "'''base = '../Data/data/annotations_dated/20190706/room-type/'\n",
    "\n",
    "for i in range(class_baths_df.shape[0]):\n",
    "    current_file_path = os.path.join(base, 'bath', class_baths_df['image_uri'][i])\n",
    "    if os.path.isfile(current_file_path):\n",
    "        if class_baths_df['class'][i] == 1:\n",
    "            shutil.move(current_file_path,\n",
    "            os.path.join(base, 'classification', 'bath', 'top-bath', class_baths_df['image_uri'][i]))\n",
    "        if class_baths_df['class'][i] == 2:\n",
    "            shutil.move(current_file_path,\n",
    "            os.path.join(base, 'classification', 'bath', 'normal-bath', class_baths_df['image_uri'][i]))\n",
    "        if class_baths_df['class'][i] == 3:\n",
    "            shutil.move(current_file_path,\n",
    "            os.path.join(base, 'classification', 'bath', 'simple-bath', class_baths_df['image_uri'][i]))\n",
    "        if class_baths_df['class'][i] == 4:\n",
    "            shutil.move(current_file_path,\n",
    "            os.path.join(base, 'classification', class_baths_df['image_uri'][i]))'''"
   ]
  },
  {
   "cell_type": "code",
   "execution_count": 234,
   "metadata": {},
   "outputs": [],
   "source": [
    "img = []\n",
    "kit = []"
   ]
  },
  {
   "cell_type": "code",
   "execution_count": 335,
   "metadata": {},
   "outputs": [
    {
     "name": "stdout",
     "output_type": "stream",
     "text": [
      "<class 'pandas.core.frame.DataFrame'>\n",
      "RangeIndex: 6447 entries, 0 to 6446\n",
      "Data columns (total 2 columns):\n",
      "image_uri    6447 non-null object\n",
      "class        6447 non-null int64\n",
      "dtypes: int64(1), object(1)\n",
      "memory usage: 100.8+ KB\n"
     ]
    }
   ],
   "source": [
    "class_kits_df = pd.DataFrame(list(zip(img, kit)), \n",
    "               columns =['image_uri', 'class']) \n",
    "class_kits_df['class'].astype(float)\n",
    "class_kits_df.info()\n"
   ]
  },
  {
   "cell_type": "code",
   "execution_count": 336,
   "metadata": {},
   "outputs": [],
   "source": [
    "base = \"/Users/acallil/Desktop/Andre/Studies/Propulsion/Project/Data/data/annotations_dated/20190706/room-type/\"\n",
    "\n",
    "for i in range(class_kits_df.shape[0]):\n",
    "    current_file_path = os.path.join(base, 'kit', class_kits_df['image_uri'][i])\n",
    "    if os.path.isfile(current_file_path):\n",
    "        if class_kits_df['class'][i] == 1:\n",
    "            shutil.move(current_file_path,\n",
    "            os.path.join(base, 'classification', 'kit', 'top-kit', class_kits_df['image_uri'][i]))\n",
    "        if class_kits_df['class'][i] == 3:\n",
    "            shutil.move(current_file_path,\n",
    "            os.path.join(base, 'classification', 'kit', 'simple-kit', class_kits_df['image_uri'][i]))\n",
    "        if class_kits_df['class'][i] == 4:\n",
    "            shutil.move(current_file_path,\n",
    "            os.path.join(base, 'classification', 'kit', 'delete', class_kits_df['image_uri'][i]))\n",
    "            "
   ]
  },
  {
   "cell_type": "code",
   "execution_count": 334,
   "metadata": {},
   "outputs": [
    {
     "name": "stdout",
     "output_type": "stream",
     "text": [
      "fba60de5de045de5409a7361c398031a07527454.jpg\n"
     ]
    },
    {
     "data": {
      "image/jpeg": "[encoded data removed]",
      "text/plain": [
       "<IPython.core.display.Image object>"
      ]
     },
     "metadata": {},
     "output_type": "display_data"
    },
    {
     "name": "stdout",
     "output_type": "stream",
     "text": [
      "\n"
     ]
    },
    {
     "ename": "ValueError",
     "evalue": "invalid literal for int() with base 10: ''",
     "output_type": "error",
     "traceback": [
      "\u001b[0;31m---------------------------------------------------------------------------\u001b[0m",
      "\u001b[0;31mValueError\u001b[0m                                Traceback (most recent call last)",
      "\u001b[0;32m<ipython-input-334-4fd749b86e5d>\u001b[0m in \u001b[0;36m<module>\u001b[0;34m\u001b[0m\n\u001b[1;32m      6\u001b[0m     \u001b[0mprint\u001b[0m\u001b[0;34m(\u001b[0m\u001b[0mr\u001b[0m\u001b[0;34m)\u001b[0m\u001b[0;34m\u001b[0m\u001b[0;34m\u001b[0m\u001b[0m\n\u001b[1;32m      7\u001b[0m     \u001b[0mdisplay\u001b[0m\u001b[0;34m(\u001b[0m\u001b[0mImage\u001b[0m\u001b[0;34m(\u001b[0m\u001b[0mdata\u001b[0m\u001b[0;34m=\u001b[0m\u001b[0mdir\u001b[0m\u001b[0;34m,\u001b[0m \u001b[0mfilename\u001b[0m\u001b[0;34m=\u001b[0m\u001b[0;34m(\u001b[0m\u001b[0mdir\u001b[0m\u001b[0;34m+\u001b[0m\u001b[0mr\u001b[0m\u001b[0;34m)\u001b[0m\u001b[0;34m)\u001b[0m\u001b[0;34m)\u001b[0m\u001b[0;34m\u001b[0m\u001b[0;34m\u001b[0m\u001b[0m\n\u001b[0;32m----> 8\u001b[0;31m     \u001b[0mvariable\u001b[0m \u001b[0;34m=\u001b[0m \u001b[0mint\u001b[0m\u001b[0;34m(\u001b[0m\u001b[0minput\u001b[0m\u001b[0;34m(\u001b[0m\u001b[0;34m)\u001b[0m\u001b[0;34m)\u001b[0m\u001b[0;34m\u001b[0m\u001b[0;34m\u001b[0m\u001b[0m\n\u001b[0m\u001b[1;32m      9\u001b[0m     \u001b[0mkit\u001b[0m\u001b[0;34m.\u001b[0m\u001b[0mappend\u001b[0m\u001b[0;34m(\u001b[0m\u001b[0mvariable\u001b[0m\u001b[0;34m)\u001b[0m\u001b[0;34m\u001b[0m\u001b[0;34m\u001b[0m\u001b[0m\n\u001b[1;32m     10\u001b[0m     \u001b[0mimg\u001b[0m\u001b[0;34m.\u001b[0m\u001b[0mappend\u001b[0m\u001b[0;34m(\u001b[0m\u001b[0mr\u001b[0m\u001b[0;34m)\u001b[0m\u001b[0;34m\u001b[0m\u001b[0;34m\u001b[0m\u001b[0m\n",
      "\u001b[0;31mValueError\u001b[0m: invalid literal for int() with base 10: ''"
     ]
    }
   ],
   "source": [
    "for i in range(250):\n",
    "    clear_output()\n",
    "    dir = \"/Users/acallil/Desktop/Andre/Studies/Propulsion/Project/Data/data/annotations_dated/20190706/room-type/kit/\"\n",
    "    r = random_file(dir)\n",
    "\n",
    "    print(r)\n",
    "    display(Image(data=dir, filename=(dir+r)))\n",
    "    variable = int(input())\n",
    "    kit.append(variable)\n",
    "    img.append(r)\n",
    "    "
   ]
  },
  {
   "cell_type": "code",
   "execution_count": null,
   "metadata": {},
   "outputs": [],
   "source": []
  }
 ],
 "metadata": {
  "kernelspec": {
   "display_name": "Python 3",
   "language": "python",
   "name": "python3"
  },
  "language_info": {
   "codemirror_mode": {
    "name": "ipython",
    "version": 3
   },
   "file_extension": ".py",
   "mimetype": "text/x-python",
   "name": "python",
   "nbconvert_exporter": "python",
   "pygments_lexer": "ipython3",
   "version": "3.7.3"
  }
 },
 "nbformat": 4,
 "nbformat_minor": 2
}
